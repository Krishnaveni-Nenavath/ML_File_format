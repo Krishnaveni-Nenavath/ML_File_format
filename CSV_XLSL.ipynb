{
 "cells": [
  {
   "cell_type": "markdown",
   "id": "93f3ad3d-ff78-4fb0-baa5-bd6f92ca96ec",
   "metadata": {},
   "source": [
    "# DATA COLLECTION "
   ]
  },
  {
   "cell_type": "markdown",
   "id": "4b2fbf27-37fe-45a6-9e42-7590f8194d5f",
   "metadata": {},
   "source": [
    "## CSV "
   ]
  },
  {
   "cell_type": "code",
   "execution_count": 23,
   "id": "a9d06e5c-eccd-4fe7-9ea1-5e4a509b2c01",
   "metadata": {},
   "outputs": [],
   "source": [
    "#pip install encoding"
   ]
  },
  {
   "cell_type": "code",
   "execution_count": 4,
   "id": "f94f3336-7bcd-435f-8df8-eba92e1e4963",
   "metadata": {},
   "outputs": [],
   "source": [
    "import pandas as pd  \n",
    "import encodings "
   ]
  },
  {
   "cell_type": "code",
   "execution_count": 6,
   "id": "5cc818ee-4ed2-48c3-8bbb-7befee2b0b3c",
   "metadata": {},
   "outputs": [
    {
     "data": {
      "text/plain": [
       "dict_keys(['646', 'ansi_x3.4_1968', 'ansi_x3_4_1968', 'ansi_x3.4_1986', 'cp367', 'csascii', 'ibm367', 'iso646_us', 'iso_646.irv_1991', 'iso_ir_6', 'us', 'us_ascii', 'base64', 'base_64', 'big5_tw', 'csbig5', 'big5_hkscs', 'hkscs', 'bz2', '037', 'csibm037', 'ebcdic_cp_ca', 'ebcdic_cp_nl', 'ebcdic_cp_us', 'ebcdic_cp_wt', 'ibm037', 'ibm039', '1026', 'csibm1026', 'ibm1026', '1125', 'ibm1125', 'cp866u', 'ruscii', '1140', 'ibm1140', '1250', 'windows_1250', '1251', 'windows_1251', '1252', 'windows_1252', '1253', 'windows_1253', '1254', 'windows_1254', '1255', 'windows_1255', '1256', 'windows_1256', '1257', 'windows_1257', '1258', 'windows_1258', '273', 'ibm273', 'csibm273', '424', 'csibm424', 'ebcdic_cp_he', 'ibm424', '437', 'cspc8codepage437', 'ibm437', '500', 'csibm500', 'ebcdic_cp_be', 'ebcdic_cp_ch', 'ibm500', '775', 'cspc775baltic', 'ibm775', '850', 'cspc850multilingual', 'ibm850', '852', 'cspcp852', 'ibm852', '855', 'csibm855', 'ibm855', '857', 'csibm857', 'ibm857', '858', 'csibm858', 'ibm858', '860', 'csibm860', 'ibm860', '861', 'cp_is', 'csibm861', 'ibm861', '862', 'cspc862latinhebrew', 'ibm862', '863', 'csibm863', 'ibm863', '864', 'csibm864', 'ibm864', '865', 'csibm865', 'ibm865', '866', 'csibm866', 'ibm866', '869', 'cp_gr', 'csibm869', 'ibm869', '932', 'ms932', 'mskanji', 'ms_kanji', '949', 'ms949', 'uhc', '950', 'ms950', 'jisx0213', 'eucjis2004', 'euc_jis2004', 'eucjisx0213', 'eucjp', 'ujis', 'u_jis', 'euckr', 'korean', 'ksc5601', 'ks_c_5601', 'ks_c_5601_1987', 'ksx1001', 'ks_x_1001', 'gb18030_2000', 'chinese', 'csiso58gb231280', 'euc_cn', 'euccn', 'eucgb2312_cn', 'gb2312_1980', 'gb2312_80', 'iso_ir_58', '936', 'cp936', 'ms936', 'hex', 'roman8', 'r8', 'csHPRoman8', 'cp1051', 'ibm1051', 'hzgb', 'hz_gb', 'hz_gb_2312', 'csiso2022jp', 'iso2022jp', 'iso_2022_jp', 'iso2022jp_1', 'iso_2022_jp_1', 'iso2022jp_2', 'iso_2022_jp_2', 'iso_2022_jp_2004', 'iso2022jp_2004', 'iso2022jp_3', 'iso_2022_jp_3', 'iso2022jp_ext', 'iso_2022_jp_ext', 'csiso2022kr', 'iso2022kr', 'iso_2022_kr', 'csisolatin6', 'iso_8859_10', 'iso_8859_10_1992', 'iso_ir_157', 'l6', 'latin6', 'thai', 'iso_8859_11', 'iso_8859_11_2001', 'iso_8859_13', 'l7', 'latin7', 'iso_8859_14', 'iso_8859_14_1998', 'iso_celtic', 'iso_ir_199', 'l8', 'latin8', 'iso_8859_15', 'l9', 'latin9', 'iso_8859_16', 'iso_8859_16_2001', 'iso_ir_226', 'l10', 'latin10', 'csisolatin2', 'iso_8859_2', 'iso_8859_2_1987', 'iso_ir_101', 'l2', 'latin2', 'csisolatin3', 'iso_8859_3', 'iso_8859_3_1988', 'iso_ir_109', 'l3', 'latin3', 'csisolatin4', 'iso_8859_4', 'iso_8859_4_1988', 'iso_ir_110', 'l4', 'latin4', 'csisolatincyrillic', 'cyrillic', 'iso_8859_5', 'iso_8859_5_1988', 'iso_ir_144', 'arabic', 'asmo_708', 'csisolatinarabic', 'ecma_114', 'iso_8859_6', 'iso_8859_6_1987', 'iso_ir_127', 'csisolatingreek', 'ecma_118', 'elot_928', 'greek', 'greek8', 'iso_8859_7', 'iso_8859_7_1987', 'iso_ir_126', 'csisolatinhebrew', 'hebrew', 'iso_8859_8', 'iso_8859_8_1988', 'iso_ir_138', 'csisolatin5', 'iso_8859_9', 'iso_8859_9_1989', 'iso_ir_148', 'l5', 'latin5', 'cp1361', 'ms1361', 'cskoi8r', 'kz_1048', 'rk1048', 'strk1048_2002', '8859', 'cp819', 'csisolatin1', 'ibm819', 'iso8859', 'iso8859_1', 'iso_8859_1', 'iso_8859_1_1987', 'iso_ir_100', 'l1', 'latin', 'latin1', 'maccyrillic', 'macgreek', 'maciceland', 'maccentraleurope', 'mac_centeuro', 'maclatin2', 'macintosh', 'macroman', 'macturkish', 'ansi', 'dbcs', 'csptcp154', 'pt154', 'cp154', 'cyrillic_asian', 'quopri', 'quoted_printable', 'quotedprintable', 'rot13', 'csshiftjis', 'shiftjis', 'sjis', 's_jis', 'shiftjis2004', 'sjis_2004', 's_jis_2004', 'shiftjisx0213', 'sjisx0213', 's_jisx0213', 'tis620', 'tis_620_0', 'tis_620_2529_0', 'tis_620_2529_1', 'iso_ir_166', 'u16', 'utf16', 'unicodebigunmarked', 'utf_16be', 'unicodelittleunmarked', 'utf_16le', 'u32', 'utf32', 'utf_32be', 'utf_32le', 'u7', 'utf7', 'unicode_1_1_utf_7', 'u8', 'utf', 'utf8', 'utf8_ucs2', 'utf8_ucs4', 'cp65001', 'uu', 'zip', 'zlib', 'x_mac_japanese', 'x_mac_korean', 'x_mac_simp_chinese', 'x_mac_trad_chinese'])"
      ]
     },
     "execution_count": 6,
     "metadata": {},
     "output_type": "execute_result"
    }
   ],
   "source": [
    "l = encodings.aliases.aliases.keys()# dict - keys\n",
    "l #keys are acting the encoders "
   ]
  },
  {
   "cell_type": "code",
   "execution_count": 8,
   "id": "c98e05c9-49a9-4f9f-adc3-2cda1bf8111f",
   "metadata": {},
   "outputs": [
    {
     "data": {
      "text/plain": [
       "326"
      ]
     },
     "execution_count": 8,
     "metadata": {},
     "output_type": "execute_result"
    }
   ],
   "source": [
    "len(l)"
   ]
  },
  {
   "cell_type": "code",
   "execution_count": 10,
   "id": "bc522880-14f1-408d-8a4b-8512425877ed",
   "metadata": {},
   "outputs": [
    {
     "ename": "ParserError",
     "evalue": "Error tokenizing data. C error: Expected 2 fields in line 5, saw 3\n",
     "output_type": "error",
     "traceback": [
      "\u001b[1;31m---------------------------------------------------------------------------\u001b[0m",
      "\u001b[1;31mParserError\u001b[0m                               Traceback (most recent call last)",
      "Cell \u001b[1;32mIn[10], line 1\u001b[0m\n\u001b[1;32m----> 1\u001b[0m df \u001b[38;5;241m=\u001b[39m pd\u001b[38;5;241m.\u001b[39mread_csv(\u001b[38;5;124mr\u001b[39m\u001b[38;5;124m\"\u001b[39m\u001b[38;5;124mC:\u001b[39m\u001b[38;5;124m\\\u001b[39m\u001b[38;5;124mUsers\u001b[39m\u001b[38;5;124m\\\u001b[39m\u001b[38;5;124mkrish\u001b[39m\u001b[38;5;124m\\\u001b[39m\u001b[38;5;124mDownloads\u001b[39m\u001b[38;5;124m\\\u001b[39m\u001b[38;5;124mparseError.csv\u001b[39m\u001b[38;5;124m\"\u001b[39m)\n",
      "File \u001b[1;32m~\\anaconda3\\Lib\\site-packages\\pandas\\io\\parsers\\readers.py:1026\u001b[0m, in \u001b[0;36mread_csv\u001b[1;34m(filepath_or_buffer, sep, delimiter, header, names, index_col, usecols, dtype, engine, converters, true_values, false_values, skipinitialspace, skiprows, skipfooter, nrows, na_values, keep_default_na, na_filter, verbose, skip_blank_lines, parse_dates, infer_datetime_format, keep_date_col, date_parser, date_format, dayfirst, cache_dates, iterator, chunksize, compression, thousands, decimal, lineterminator, quotechar, quoting, doublequote, escapechar, comment, encoding, encoding_errors, dialect, on_bad_lines, delim_whitespace, low_memory, memory_map, float_precision, storage_options, dtype_backend)\u001b[0m\n\u001b[0;32m   1013\u001b[0m kwds_defaults \u001b[38;5;241m=\u001b[39m _refine_defaults_read(\n\u001b[0;32m   1014\u001b[0m     dialect,\n\u001b[0;32m   1015\u001b[0m     delimiter,\n\u001b[1;32m   (...)\u001b[0m\n\u001b[0;32m   1022\u001b[0m     dtype_backend\u001b[38;5;241m=\u001b[39mdtype_backend,\n\u001b[0;32m   1023\u001b[0m )\n\u001b[0;32m   1024\u001b[0m kwds\u001b[38;5;241m.\u001b[39mupdate(kwds_defaults)\n\u001b[1;32m-> 1026\u001b[0m \u001b[38;5;28;01mreturn\u001b[39;00m _read(filepath_or_buffer, kwds)\n",
      "File \u001b[1;32m~\\anaconda3\\Lib\\site-packages\\pandas\\io\\parsers\\readers.py:626\u001b[0m, in \u001b[0;36m_read\u001b[1;34m(filepath_or_buffer, kwds)\u001b[0m\n\u001b[0;32m    623\u001b[0m     \u001b[38;5;28;01mreturn\u001b[39;00m parser\n\u001b[0;32m    625\u001b[0m \u001b[38;5;28;01mwith\u001b[39;00m parser:\n\u001b[1;32m--> 626\u001b[0m     \u001b[38;5;28;01mreturn\u001b[39;00m parser\u001b[38;5;241m.\u001b[39mread(nrows)\n",
      "File \u001b[1;32m~\\anaconda3\\Lib\\site-packages\\pandas\\io\\parsers\\readers.py:1923\u001b[0m, in \u001b[0;36mTextFileReader.read\u001b[1;34m(self, nrows)\u001b[0m\n\u001b[0;32m   1916\u001b[0m nrows \u001b[38;5;241m=\u001b[39m validate_integer(\u001b[38;5;124m\"\u001b[39m\u001b[38;5;124mnrows\u001b[39m\u001b[38;5;124m\"\u001b[39m, nrows)\n\u001b[0;32m   1917\u001b[0m \u001b[38;5;28;01mtry\u001b[39;00m:\n\u001b[0;32m   1918\u001b[0m     \u001b[38;5;66;03m# error: \"ParserBase\" has no attribute \"read\"\u001b[39;00m\n\u001b[0;32m   1919\u001b[0m     (\n\u001b[0;32m   1920\u001b[0m         index,\n\u001b[0;32m   1921\u001b[0m         columns,\n\u001b[0;32m   1922\u001b[0m         col_dict,\n\u001b[1;32m-> 1923\u001b[0m     ) \u001b[38;5;241m=\u001b[39m \u001b[38;5;28mself\u001b[39m\u001b[38;5;241m.\u001b[39m_engine\u001b[38;5;241m.\u001b[39mread(  \u001b[38;5;66;03m# type: ignore[attr-defined]\u001b[39;00m\n\u001b[0;32m   1924\u001b[0m         nrows\n\u001b[0;32m   1925\u001b[0m     )\n\u001b[0;32m   1926\u001b[0m \u001b[38;5;28;01mexcept\u001b[39;00m \u001b[38;5;167;01mException\u001b[39;00m:\n\u001b[0;32m   1927\u001b[0m     \u001b[38;5;28mself\u001b[39m\u001b[38;5;241m.\u001b[39mclose()\n",
      "File \u001b[1;32m~\\anaconda3\\Lib\\site-packages\\pandas\\io\\parsers\\c_parser_wrapper.py:234\u001b[0m, in \u001b[0;36mCParserWrapper.read\u001b[1;34m(self, nrows)\u001b[0m\n\u001b[0;32m    232\u001b[0m \u001b[38;5;28;01mtry\u001b[39;00m:\n\u001b[0;32m    233\u001b[0m     \u001b[38;5;28;01mif\u001b[39;00m \u001b[38;5;28mself\u001b[39m\u001b[38;5;241m.\u001b[39mlow_memory:\n\u001b[1;32m--> 234\u001b[0m         chunks \u001b[38;5;241m=\u001b[39m \u001b[38;5;28mself\u001b[39m\u001b[38;5;241m.\u001b[39m_reader\u001b[38;5;241m.\u001b[39mread_low_memory(nrows)\n\u001b[0;32m    235\u001b[0m         \u001b[38;5;66;03m# destructive to chunks\u001b[39;00m\n\u001b[0;32m    236\u001b[0m         data \u001b[38;5;241m=\u001b[39m _concatenate_chunks(chunks)\n",
      "File \u001b[1;32mparsers.pyx:838\u001b[0m, in \u001b[0;36mpandas._libs.parsers.TextReader.read_low_memory\u001b[1;34m()\u001b[0m\n",
      "File \u001b[1;32mparsers.pyx:905\u001b[0m, in \u001b[0;36mpandas._libs.parsers.TextReader._read_rows\u001b[1;34m()\u001b[0m\n",
      "File \u001b[1;32mparsers.pyx:874\u001b[0m, in \u001b[0;36mpandas._libs.parsers.TextReader._tokenize_rows\u001b[1;34m()\u001b[0m\n",
      "File \u001b[1;32mparsers.pyx:891\u001b[0m, in \u001b[0;36mpandas._libs.parsers.TextReader._check_tokenize_status\u001b[1;34m()\u001b[0m\n",
      "File \u001b[1;32mparsers.pyx:2061\u001b[0m, in \u001b[0;36mpandas._libs.parsers.raise_parser_error\u001b[1;34m()\u001b[0m\n",
      "\u001b[1;31mParserError\u001b[0m: Error tokenizing data. C error: Expected 2 fields in line 5, saw 3\n"
     ]
    }
   ],
   "source": [
    "df = pd.read_csv(r\"C:\\Users\\krish\\Downloads\\parseError.csv\")\n"
   ]
  },
  {
   "cell_type": "markdown",
   "id": "3388f217-c6b4-4e92-a750-30a2461c64fd",
   "metadata": {},
   "source": [
    "# `parse Error`"
   ]
  },
  {
   "cell_type": "code",
   "execution_count": 5,
   "id": "fe7fe65a-f789-488a-b0b2-230ac850a03d",
   "metadata": {},
   "outputs": [
    {
     "name": "stderr",
     "output_type": "stream",
     "text": [
      "C:\\Users\\krish\\AppData\\Local\\Temp\\ipykernel_23700\\1516630223.py:1: ParserWarning: Skipping line 5: expected 2 fields, saw 3\n",
      "\n",
      "  df = pd.read_csv(r\"C:\\Users\\krish\\Downloads\\parseError.csv\",on_bad_lines='warn')\n"
     ]
    }
   ],
   "source": [
    "df = pd.read_csv(r\"C:\\Users\\krish\\Downloads\\parseError.csv\",on_bad_lines='warn')\n"
   ]
  },
  {
   "cell_type": "code",
   "execution_count": 7,
   "id": "97b750d3-2549-486c-8758-1c16acdfb35f",
   "metadata": {},
   "outputs": [
    {
     "ename": "ParserError",
     "evalue": "Error tokenizing data. C error: Expected 2 fields in line 5, saw 3\n",
     "output_type": "error",
     "traceback": [
      "\u001b[1;31m---------------------------------------------------------------------------\u001b[0m",
      "\u001b[1;31mParserError\u001b[0m                               Traceback (most recent call last)",
      "Cell \u001b[1;32mIn[7], line 1\u001b[0m\n\u001b[1;32m----> 1\u001b[0m df \u001b[38;5;241m=\u001b[39m pd\u001b[38;5;241m.\u001b[39mread_csv(\u001b[38;5;124mr\u001b[39m\u001b[38;5;124m\"\u001b[39m\u001b[38;5;124mC:\u001b[39m\u001b[38;5;124m\\\u001b[39m\u001b[38;5;124mUsers\u001b[39m\u001b[38;5;124m\\\u001b[39m\u001b[38;5;124mkrish\u001b[39m\u001b[38;5;124m\\\u001b[39m\u001b[38;5;124mDownloads\u001b[39m\u001b[38;5;124m\\\u001b[39m\u001b[38;5;124mparseError.csv\u001b[39m\u001b[38;5;124m\"\u001b[39m,on_bad_lines\u001b[38;5;241m=\u001b[39m\u001b[38;5;124m'\u001b[39m\u001b[38;5;124merror\u001b[39m\u001b[38;5;124m'\u001b[39m)\n",
      "File \u001b[1;32m~\\anaconda3\\Lib\\site-packages\\pandas\\io\\parsers\\readers.py:1026\u001b[0m, in \u001b[0;36mread_csv\u001b[1;34m(filepath_or_buffer, sep, delimiter, header, names, index_col, usecols, dtype, engine, converters, true_values, false_values, skipinitialspace, skiprows, skipfooter, nrows, na_values, keep_default_na, na_filter, verbose, skip_blank_lines, parse_dates, infer_datetime_format, keep_date_col, date_parser, date_format, dayfirst, cache_dates, iterator, chunksize, compression, thousands, decimal, lineterminator, quotechar, quoting, doublequote, escapechar, comment, encoding, encoding_errors, dialect, on_bad_lines, delim_whitespace, low_memory, memory_map, float_precision, storage_options, dtype_backend)\u001b[0m\n\u001b[0;32m   1013\u001b[0m kwds_defaults \u001b[38;5;241m=\u001b[39m _refine_defaults_read(\n\u001b[0;32m   1014\u001b[0m     dialect,\n\u001b[0;32m   1015\u001b[0m     delimiter,\n\u001b[1;32m   (...)\u001b[0m\n\u001b[0;32m   1022\u001b[0m     dtype_backend\u001b[38;5;241m=\u001b[39mdtype_backend,\n\u001b[0;32m   1023\u001b[0m )\n\u001b[0;32m   1024\u001b[0m kwds\u001b[38;5;241m.\u001b[39mupdate(kwds_defaults)\n\u001b[1;32m-> 1026\u001b[0m \u001b[38;5;28;01mreturn\u001b[39;00m _read(filepath_or_buffer, kwds)\n",
      "File \u001b[1;32m~\\anaconda3\\Lib\\site-packages\\pandas\\io\\parsers\\readers.py:626\u001b[0m, in \u001b[0;36m_read\u001b[1;34m(filepath_or_buffer, kwds)\u001b[0m\n\u001b[0;32m    623\u001b[0m     \u001b[38;5;28;01mreturn\u001b[39;00m parser\n\u001b[0;32m    625\u001b[0m \u001b[38;5;28;01mwith\u001b[39;00m parser:\n\u001b[1;32m--> 626\u001b[0m     \u001b[38;5;28;01mreturn\u001b[39;00m parser\u001b[38;5;241m.\u001b[39mread(nrows)\n",
      "File \u001b[1;32m~\\anaconda3\\Lib\\site-packages\\pandas\\io\\parsers\\readers.py:1923\u001b[0m, in \u001b[0;36mTextFileReader.read\u001b[1;34m(self, nrows)\u001b[0m\n\u001b[0;32m   1916\u001b[0m nrows \u001b[38;5;241m=\u001b[39m validate_integer(\u001b[38;5;124m\"\u001b[39m\u001b[38;5;124mnrows\u001b[39m\u001b[38;5;124m\"\u001b[39m, nrows)\n\u001b[0;32m   1917\u001b[0m \u001b[38;5;28;01mtry\u001b[39;00m:\n\u001b[0;32m   1918\u001b[0m     \u001b[38;5;66;03m# error: \"ParserBase\" has no attribute \"read\"\u001b[39;00m\n\u001b[0;32m   1919\u001b[0m     (\n\u001b[0;32m   1920\u001b[0m         index,\n\u001b[0;32m   1921\u001b[0m         columns,\n\u001b[0;32m   1922\u001b[0m         col_dict,\n\u001b[1;32m-> 1923\u001b[0m     ) \u001b[38;5;241m=\u001b[39m \u001b[38;5;28mself\u001b[39m\u001b[38;5;241m.\u001b[39m_engine\u001b[38;5;241m.\u001b[39mread(  \u001b[38;5;66;03m# type: ignore[attr-defined]\u001b[39;00m\n\u001b[0;32m   1924\u001b[0m         nrows\n\u001b[0;32m   1925\u001b[0m     )\n\u001b[0;32m   1926\u001b[0m \u001b[38;5;28;01mexcept\u001b[39;00m \u001b[38;5;167;01mException\u001b[39;00m:\n\u001b[0;32m   1927\u001b[0m     \u001b[38;5;28mself\u001b[39m\u001b[38;5;241m.\u001b[39mclose()\n",
      "File \u001b[1;32m~\\anaconda3\\Lib\\site-packages\\pandas\\io\\parsers\\c_parser_wrapper.py:234\u001b[0m, in \u001b[0;36mCParserWrapper.read\u001b[1;34m(self, nrows)\u001b[0m\n\u001b[0;32m    232\u001b[0m \u001b[38;5;28;01mtry\u001b[39;00m:\n\u001b[0;32m    233\u001b[0m     \u001b[38;5;28;01mif\u001b[39;00m \u001b[38;5;28mself\u001b[39m\u001b[38;5;241m.\u001b[39mlow_memory:\n\u001b[1;32m--> 234\u001b[0m         chunks \u001b[38;5;241m=\u001b[39m \u001b[38;5;28mself\u001b[39m\u001b[38;5;241m.\u001b[39m_reader\u001b[38;5;241m.\u001b[39mread_low_memory(nrows)\n\u001b[0;32m    235\u001b[0m         \u001b[38;5;66;03m# destructive to chunks\u001b[39;00m\n\u001b[0;32m    236\u001b[0m         data \u001b[38;5;241m=\u001b[39m _concatenate_chunks(chunks)\n",
      "File \u001b[1;32mparsers.pyx:838\u001b[0m, in \u001b[0;36mpandas._libs.parsers.TextReader.read_low_memory\u001b[1;34m()\u001b[0m\n",
      "File \u001b[1;32mparsers.pyx:905\u001b[0m, in \u001b[0;36mpandas._libs.parsers.TextReader._read_rows\u001b[1;34m()\u001b[0m\n",
      "File \u001b[1;32mparsers.pyx:874\u001b[0m, in \u001b[0;36mpandas._libs.parsers.TextReader._tokenize_rows\u001b[1;34m()\u001b[0m\n",
      "File \u001b[1;32mparsers.pyx:891\u001b[0m, in \u001b[0;36mpandas._libs.parsers.TextReader._check_tokenize_status\u001b[1;34m()\u001b[0m\n",
      "File \u001b[1;32mparsers.pyx:2061\u001b[0m, in \u001b[0;36mpandas._libs.parsers.raise_parser_error\u001b[1;34m()\u001b[0m\n",
      "\u001b[1;31mParserError\u001b[0m: Error tokenizing data. C error: Expected 2 fields in line 5, saw 3\n"
     ]
    }
   ],
   "source": [
    "df = pd.read_csv(r\"C:\\Users\\krish\\Downloads\\parseError.csv\",on_bad_lines='error')\n"
   ]
  },
  {
   "cell_type": "code",
   "execution_count": 9,
   "id": "79700635-7ee2-43dd-b6ef-a8c0c2121591",
   "metadata": {},
   "outputs": [
    {
     "data": {
      "text/html": [
       "<div>\n",
       "<style scoped>\n",
       "    .dataframe tbody tr th:only-of-type {\n",
       "        vertical-align: middle;\n",
       "    }\n",
       "\n",
       "    .dataframe tbody tr th {\n",
       "        vertical-align: top;\n",
       "    }\n",
       "\n",
       "    .dataframe thead th {\n",
       "        text-align: right;\n",
       "    }\n",
       "</style>\n",
       "<table border=\"1\" class=\"dataframe\">\n",
       "  <thead>\n",
       "    <tr style=\"text-align: right;\">\n",
       "      <th></th>\n",
       "      <th>Name</th>\n",
       "      <th>Age</th>\n",
       "    </tr>\n",
       "  </thead>\n",
       "  <tbody>\n",
       "    <tr>\n",
       "      <th>0</th>\n",
       "      <td>'aaa'</td>\n",
       "      <td>34</td>\n",
       "    </tr>\n",
       "    <tr>\n",
       "      <th>1</th>\n",
       "      <td>'bbb'</td>\n",
       "      <td>36</td>\n",
       "    </tr>\n",
       "    <tr>\n",
       "      <th>2</th>\n",
       "      <td>'ccc'</td>\n",
       "      <td>78</td>\n",
       "    </tr>\n",
       "  </tbody>\n",
       "</table>\n",
       "</div>"
      ],
      "text/plain": [
       "    Name  Age \n",
       "0  'aaa'    34\n",
       "1  'bbb'    36\n",
       "2  'ccc'    78"
      ]
     },
     "execution_count": 9,
     "metadata": {},
     "output_type": "execute_result"
    }
   ],
   "source": [
    "df = pd.read_csv(r\"C:\\Users\\krish\\Downloads\\parseError.csv\",on_bad_lines='skip')\n",
    "df"
   ]
  },
  {
   "cell_type": "markdown",
   "id": "db707d0f-1f3a-4e32-b719-8e45466b72f6",
   "metadata": {},
   "source": [
    "# `Decoding Error`"
   ]
  },
  {
   "cell_type": "code",
   "execution_count": 13,
   "id": "66d2991c-a767-44d9-91c7-03d93a122010",
   "metadata": {},
   "outputs": [
    {
     "ename": "UnicodeDecodeError",
     "evalue": "'utf-8' codec can't decode bytes in position 606-607: invalid continuation byte",
     "output_type": "error",
     "traceback": [
      "\u001b[1;31m---------------------------------------------------------------------------\u001b[0m",
      "\u001b[1;31mUnicodeDecodeError\u001b[0m                        Traceback (most recent call last)",
      "Cell \u001b[1;32mIn[13], line 1\u001b[0m\n\u001b[1;32m----> 1\u001b[0m df \u001b[38;5;241m=\u001b[39m pd\u001b[38;5;241m.\u001b[39mread_csv(\u001b[38;5;124mr\u001b[39m\u001b[38;5;124m\"\u001b[39m\u001b[38;5;124mC:\u001b[39m\u001b[38;5;124m\\\u001b[39m\u001b[38;5;124mUsers\u001b[39m\u001b[38;5;124m\\\u001b[39m\u001b[38;5;124mkrish\u001b[39m\u001b[38;5;124m\\\u001b[39m\u001b[38;5;124mDownloads\u001b[39m\u001b[38;5;124m\\\u001b[39m\u001b[38;5;124mspam.csv\u001b[39m\u001b[38;5;124m\"\u001b[39m)\n",
      "File \u001b[1;32m~\\anaconda3\\Lib\\site-packages\\pandas\\io\\parsers\\readers.py:1026\u001b[0m, in \u001b[0;36mread_csv\u001b[1;34m(filepath_or_buffer, sep, delimiter, header, names, index_col, usecols, dtype, engine, converters, true_values, false_values, skipinitialspace, skiprows, skipfooter, nrows, na_values, keep_default_na, na_filter, verbose, skip_blank_lines, parse_dates, infer_datetime_format, keep_date_col, date_parser, date_format, dayfirst, cache_dates, iterator, chunksize, compression, thousands, decimal, lineterminator, quotechar, quoting, doublequote, escapechar, comment, encoding, encoding_errors, dialect, on_bad_lines, delim_whitespace, low_memory, memory_map, float_precision, storage_options, dtype_backend)\u001b[0m\n\u001b[0;32m   1013\u001b[0m kwds_defaults \u001b[38;5;241m=\u001b[39m _refine_defaults_read(\n\u001b[0;32m   1014\u001b[0m     dialect,\n\u001b[0;32m   1015\u001b[0m     delimiter,\n\u001b[1;32m   (...)\u001b[0m\n\u001b[0;32m   1022\u001b[0m     dtype_backend\u001b[38;5;241m=\u001b[39mdtype_backend,\n\u001b[0;32m   1023\u001b[0m )\n\u001b[0;32m   1024\u001b[0m kwds\u001b[38;5;241m.\u001b[39mupdate(kwds_defaults)\n\u001b[1;32m-> 1026\u001b[0m \u001b[38;5;28;01mreturn\u001b[39;00m _read(filepath_or_buffer, kwds)\n",
      "File \u001b[1;32m~\\anaconda3\\Lib\\site-packages\\pandas\\io\\parsers\\readers.py:620\u001b[0m, in \u001b[0;36m_read\u001b[1;34m(filepath_or_buffer, kwds)\u001b[0m\n\u001b[0;32m    617\u001b[0m _validate_names(kwds\u001b[38;5;241m.\u001b[39mget(\u001b[38;5;124m\"\u001b[39m\u001b[38;5;124mnames\u001b[39m\u001b[38;5;124m\"\u001b[39m, \u001b[38;5;28;01mNone\u001b[39;00m))\n\u001b[0;32m    619\u001b[0m \u001b[38;5;66;03m# Create the parser.\u001b[39;00m\n\u001b[1;32m--> 620\u001b[0m parser \u001b[38;5;241m=\u001b[39m TextFileReader(filepath_or_buffer, \u001b[38;5;241m*\u001b[39m\u001b[38;5;241m*\u001b[39mkwds)\n\u001b[0;32m    622\u001b[0m \u001b[38;5;28;01mif\u001b[39;00m chunksize \u001b[38;5;129;01mor\u001b[39;00m iterator:\n\u001b[0;32m    623\u001b[0m     \u001b[38;5;28;01mreturn\u001b[39;00m parser\n",
      "File \u001b[1;32m~\\anaconda3\\Lib\\site-packages\\pandas\\io\\parsers\\readers.py:1620\u001b[0m, in \u001b[0;36mTextFileReader.__init__\u001b[1;34m(self, f, engine, **kwds)\u001b[0m\n\u001b[0;32m   1617\u001b[0m     \u001b[38;5;28mself\u001b[39m\u001b[38;5;241m.\u001b[39moptions[\u001b[38;5;124m\"\u001b[39m\u001b[38;5;124mhas_index_names\u001b[39m\u001b[38;5;124m\"\u001b[39m] \u001b[38;5;241m=\u001b[39m kwds[\u001b[38;5;124m\"\u001b[39m\u001b[38;5;124mhas_index_names\u001b[39m\u001b[38;5;124m\"\u001b[39m]\n\u001b[0;32m   1619\u001b[0m \u001b[38;5;28mself\u001b[39m\u001b[38;5;241m.\u001b[39mhandles: IOHandles \u001b[38;5;241m|\u001b[39m \u001b[38;5;28;01mNone\u001b[39;00m \u001b[38;5;241m=\u001b[39m \u001b[38;5;28;01mNone\u001b[39;00m\n\u001b[1;32m-> 1620\u001b[0m \u001b[38;5;28mself\u001b[39m\u001b[38;5;241m.\u001b[39m_engine \u001b[38;5;241m=\u001b[39m \u001b[38;5;28mself\u001b[39m\u001b[38;5;241m.\u001b[39m_make_engine(f, \u001b[38;5;28mself\u001b[39m\u001b[38;5;241m.\u001b[39mengine)\n",
      "File \u001b[1;32m~\\anaconda3\\Lib\\site-packages\\pandas\\io\\parsers\\readers.py:1898\u001b[0m, in \u001b[0;36mTextFileReader._make_engine\u001b[1;34m(self, f, engine)\u001b[0m\n\u001b[0;32m   1895\u001b[0m     \u001b[38;5;28;01mraise\u001b[39;00m \u001b[38;5;167;01mValueError\u001b[39;00m(msg)\n\u001b[0;32m   1897\u001b[0m \u001b[38;5;28;01mtry\u001b[39;00m:\n\u001b[1;32m-> 1898\u001b[0m     \u001b[38;5;28;01mreturn\u001b[39;00m mapping[engine](f, \u001b[38;5;241m*\u001b[39m\u001b[38;5;241m*\u001b[39m\u001b[38;5;28mself\u001b[39m\u001b[38;5;241m.\u001b[39moptions)\n\u001b[0;32m   1899\u001b[0m \u001b[38;5;28;01mexcept\u001b[39;00m \u001b[38;5;167;01mException\u001b[39;00m:\n\u001b[0;32m   1900\u001b[0m     \u001b[38;5;28;01mif\u001b[39;00m \u001b[38;5;28mself\u001b[39m\u001b[38;5;241m.\u001b[39mhandles \u001b[38;5;129;01mis\u001b[39;00m \u001b[38;5;129;01mnot\u001b[39;00m \u001b[38;5;28;01mNone\u001b[39;00m:\n",
      "File \u001b[1;32m~\\anaconda3\\Lib\\site-packages\\pandas\\io\\parsers\\c_parser_wrapper.py:93\u001b[0m, in \u001b[0;36mCParserWrapper.__init__\u001b[1;34m(self, src, **kwds)\u001b[0m\n\u001b[0;32m     90\u001b[0m \u001b[38;5;28;01mif\u001b[39;00m kwds[\u001b[38;5;124m\"\u001b[39m\u001b[38;5;124mdtype_backend\u001b[39m\u001b[38;5;124m\"\u001b[39m] \u001b[38;5;241m==\u001b[39m \u001b[38;5;124m\"\u001b[39m\u001b[38;5;124mpyarrow\u001b[39m\u001b[38;5;124m\"\u001b[39m:\n\u001b[0;32m     91\u001b[0m     \u001b[38;5;66;03m# Fail here loudly instead of in cython after reading\u001b[39;00m\n\u001b[0;32m     92\u001b[0m     import_optional_dependency(\u001b[38;5;124m\"\u001b[39m\u001b[38;5;124mpyarrow\u001b[39m\u001b[38;5;124m\"\u001b[39m)\n\u001b[1;32m---> 93\u001b[0m \u001b[38;5;28mself\u001b[39m\u001b[38;5;241m.\u001b[39m_reader \u001b[38;5;241m=\u001b[39m parsers\u001b[38;5;241m.\u001b[39mTextReader(src, \u001b[38;5;241m*\u001b[39m\u001b[38;5;241m*\u001b[39mkwds)\n\u001b[0;32m     95\u001b[0m \u001b[38;5;28mself\u001b[39m\u001b[38;5;241m.\u001b[39munnamed_cols \u001b[38;5;241m=\u001b[39m \u001b[38;5;28mself\u001b[39m\u001b[38;5;241m.\u001b[39m_reader\u001b[38;5;241m.\u001b[39munnamed_cols\n\u001b[0;32m     97\u001b[0m \u001b[38;5;66;03m# error: Cannot determine type of 'names'\u001b[39;00m\n",
      "File \u001b[1;32mparsers.pyx:574\u001b[0m, in \u001b[0;36mpandas._libs.parsers.TextReader.__cinit__\u001b[1;34m()\u001b[0m\n",
      "File \u001b[1;32mparsers.pyx:663\u001b[0m, in \u001b[0;36mpandas._libs.parsers.TextReader._get_header\u001b[1;34m()\u001b[0m\n",
      "File \u001b[1;32mparsers.pyx:874\u001b[0m, in \u001b[0;36mpandas._libs.parsers.TextReader._tokenize_rows\u001b[1;34m()\u001b[0m\n",
      "File \u001b[1;32mparsers.pyx:891\u001b[0m, in \u001b[0;36mpandas._libs.parsers.TextReader._check_tokenize_status\u001b[1;34m()\u001b[0m\n",
      "File \u001b[1;32mparsers.pyx:2053\u001b[0m, in \u001b[0;36mpandas._libs.parsers.raise_parser_error\u001b[1;34m()\u001b[0m\n",
      "File \u001b[1;32m<frozen codecs>:322\u001b[0m, in \u001b[0;36mdecode\u001b[1;34m(self, input, final)\u001b[0m\n",
      "\u001b[1;31mUnicodeDecodeError\u001b[0m: 'utf-8' codec can't decode bytes in position 606-607: invalid continuation byte"
     ]
    }
   ],
   "source": [
    "df = pd.read_csv(r\"C:\\Users\\krish\\Downloads\\spam.csv\")  "
   ]
  },
  {
   "cell_type": "code",
   "execution_count": 48,
   "id": "bafc0499-c4f5-4117-ba91-0ce4dbe2bb0e",
   "metadata": {},
   "outputs": [
    {
     "data": {
      "text/plain": [
       "dict_keys(['646', 'ansi_x3.4_1968', 'ansi_x3_4_1968', 'ansi_x3.4_1986', 'cp367', 'csascii', 'ibm367', 'iso646_us', 'iso_646.irv_1991', 'iso_ir_6', 'us', 'us_ascii', 'base64', 'base_64', 'big5_tw', 'csbig5', 'big5_hkscs', 'hkscs', 'bz2', '037', 'csibm037', 'ebcdic_cp_ca', 'ebcdic_cp_nl', 'ebcdic_cp_us', 'ebcdic_cp_wt', 'ibm037', 'ibm039', '1026', 'csibm1026', 'ibm1026', '1125', 'ibm1125', 'cp866u', 'ruscii', '1140', 'ibm1140', '1250', 'windows_1250', '1251', 'windows_1251', '1252', 'windows_1252', '1253', 'windows_1253', '1254', 'windows_1254', '1255', 'windows_1255', '1256', 'windows_1256', '1257', 'windows_1257', '1258', 'windows_1258', '273', 'ibm273', 'csibm273', '424', 'csibm424', 'ebcdic_cp_he', 'ibm424', '437', 'cspc8codepage437', 'ibm437', '500', 'csibm500', 'ebcdic_cp_be', 'ebcdic_cp_ch', 'ibm500', '775', 'cspc775baltic', 'ibm775', '850', 'cspc850multilingual', 'ibm850', '852', 'cspcp852', 'ibm852', '855', 'csibm855', 'ibm855', '857', 'csibm857', 'ibm857', '858', 'csibm858', 'ibm858', '860', 'csibm860', 'ibm860', '861', 'cp_is', 'csibm861', 'ibm861', '862', 'cspc862latinhebrew', 'ibm862', '863', 'csibm863', 'ibm863', '864', 'csibm864', 'ibm864', '865', 'csibm865', 'ibm865', '866', 'csibm866', 'ibm866', '869', 'cp_gr', 'csibm869', 'ibm869', '932', 'ms932', 'mskanji', 'ms_kanji', '949', 'ms949', 'uhc', '950', 'ms950', 'jisx0213', 'eucjis2004', 'euc_jis2004', 'eucjisx0213', 'eucjp', 'ujis', 'u_jis', 'euckr', 'korean', 'ksc5601', 'ks_c_5601', 'ks_c_5601_1987', 'ksx1001', 'ks_x_1001', 'gb18030_2000', 'chinese', 'csiso58gb231280', 'euc_cn', 'euccn', 'eucgb2312_cn', 'gb2312_1980', 'gb2312_80', 'iso_ir_58', '936', 'cp936', 'ms936', 'hex', 'roman8', 'r8', 'csHPRoman8', 'cp1051', 'ibm1051', 'hzgb', 'hz_gb', 'hz_gb_2312', 'csiso2022jp', 'iso2022jp', 'iso_2022_jp', 'iso2022jp_1', 'iso_2022_jp_1', 'iso2022jp_2', 'iso_2022_jp_2', 'iso_2022_jp_2004', 'iso2022jp_2004', 'iso2022jp_3', 'iso_2022_jp_3', 'iso2022jp_ext', 'iso_2022_jp_ext', 'csiso2022kr', 'iso2022kr', 'iso_2022_kr', 'csisolatin6', 'iso_8859_10', 'iso_8859_10_1992', 'iso_ir_157', 'l6', 'latin6', 'thai', 'iso_8859_11', 'iso_8859_11_2001', 'iso_8859_13', 'l7', 'latin7', 'iso_8859_14', 'iso_8859_14_1998', 'iso_celtic', 'iso_ir_199', 'l8', 'latin8', 'iso_8859_15', 'l9', 'latin9', 'iso_8859_16', 'iso_8859_16_2001', 'iso_ir_226', 'l10', 'latin10', 'csisolatin2', 'iso_8859_2', 'iso_8859_2_1987', 'iso_ir_101', 'l2', 'latin2', 'csisolatin3', 'iso_8859_3', 'iso_8859_3_1988', 'iso_ir_109', 'l3', 'latin3', 'csisolatin4', 'iso_8859_4', 'iso_8859_4_1988', 'iso_ir_110', 'l4', 'latin4', 'csisolatincyrillic', 'cyrillic', 'iso_8859_5', 'iso_8859_5_1988', 'iso_ir_144', 'arabic', 'asmo_708', 'csisolatinarabic', 'ecma_114', 'iso_8859_6', 'iso_8859_6_1987', 'iso_ir_127', 'csisolatingreek', 'ecma_118', 'elot_928', 'greek', 'greek8', 'iso_8859_7', 'iso_8859_7_1987', 'iso_ir_126', 'csisolatinhebrew', 'hebrew', 'iso_8859_8', 'iso_8859_8_1988', 'iso_ir_138', 'csisolatin5', 'iso_8859_9', 'iso_8859_9_1989', 'iso_ir_148', 'l5', 'latin5', 'cp1361', 'ms1361', 'cskoi8r', 'kz_1048', 'rk1048', 'strk1048_2002', '8859', 'cp819', 'csisolatin1', 'ibm819', 'iso8859', 'iso8859_1', 'iso_8859_1', 'iso_8859_1_1987', 'iso_ir_100', 'l1', 'latin', 'latin1', 'maccyrillic', 'macgreek', 'maciceland', 'maccentraleurope', 'mac_centeuro', 'maclatin2', 'macintosh', 'macroman', 'macturkish', 'ansi', 'dbcs', 'csptcp154', 'pt154', 'cp154', 'cyrillic_asian', 'quopri', 'quoted_printable', 'quotedprintable', 'rot13', 'csshiftjis', 'shiftjis', 'sjis', 's_jis', 'shiftjis2004', 'sjis_2004', 's_jis_2004', 'shiftjisx0213', 'sjisx0213', 's_jisx0213', 'tis620', 'tis_620_0', 'tis_620_2529_0', 'tis_620_2529_1', 'iso_ir_166', 'u16', 'utf16', 'unicodebigunmarked', 'utf_16be', 'unicodelittleunmarked', 'utf_16le', 'u32', 'utf32', 'utf_32be', 'utf_32le', 'u7', 'utf7', 'unicode_1_1_utf_7', 'u8', 'utf', 'utf8', 'utf8_ucs2', 'utf8_ucs4', 'cp65001', 'uu', 'zip', 'zlib', 'x_mac_japanese', 'x_mac_korean', 'x_mac_simp_chinese', 'x_mac_trad_chinese'])"
      ]
     },
     "execution_count": 48,
     "metadata": {},
     "output_type": "execute_result"
    }
   ],
   "source": [
    "l = encodings.aliases.aliases.keys()# dict - keys\n",
    "l #keys are acting the encoders "
   ]
  },
  {
   "cell_type": "code",
   "execution_count": 37,
   "id": "e68ff0d6-d8b9-4095-974f-8e45400a4bf1",
   "metadata": {},
   "outputs": [
    {
     "data": {
      "text/plain": [
       "326"
      ]
     },
     "execution_count": 37,
     "metadata": {},
     "output_type": "execute_result"
    }
   ],
   "source": [
    "len(l)"
   ]
  },
  {
   "cell_type": "code",
   "execution_count": null,
   "id": "912c7b0d-e2f1-4d6d-84f5-b73f83d770d3",
   "metadata": {},
   "outputs": [],
   "source": []
  },
  {
   "cell_type": "code",
   "execution_count": null,
   "id": "324932f9-37e5-4a14-bdc0-ac1e0ec410fc",
   "metadata": {},
   "outputs": [],
   "source": []
  },
  {
   "cell_type": "code",
   "execution_count": 19,
   "id": "e46cfabd-6030-4fb9-a057-20c19ff1c7f3",
   "metadata": {},
   "outputs": [
    {
     "name": "stdout",
     "output_type": "stream",
     "text": [
      "utf-8 is not decoding\n",
      "latin is not decoding\n",
      "utf-16 is not decoding\n"
     ]
    }
   ],
   "source": [
    "l = ['utf-8','latin','utf-16']\n",
    "for y in l: \n",
    "    try: \n",
    "        df = pd.read_csv(r\"C:\\Users\\krish\\Downloads\\spam.csv\",encoding=y)  \n",
    "        print('{} is not decoding'.format(y)) \n",
    "    except UnicodeDecodeError: \n",
    "        print('{} is not decoding'.format(y))\n"
   ]
  },
  {
   "cell_type": "code",
   "execution_count": 41,
   "id": "1c798d80-4732-4161-8574-5ef9f2d56b7c",
   "metadata": {},
   "outputs": [
    {
     "name": "stdout",
     "output_type": "stream",
     "text": [
      "646 is not decoding\n",
      "ansi_x3.4_1968 is not decoding\n",
      "ansi_x3_4_1968 is not decoding\n",
      "ansi_x3.4_1986 is not decoding\n",
      "cp367 is not decoding\n",
      "csascii is not decoding\n",
      "ibm367 is not decoding\n",
      "iso646_us is not decoding\n",
      "iso_646.irv_1991 is not decoding\n",
      "iso_ir_6 is not decoding\n",
      "us is not decoding\n",
      "us_ascii is not decoding\n"
     ]
    },
    {
     "ename": "LookupError",
     "evalue": "'base64' is not a text encoding; use codecs.open() to handle arbitrary codecs",
     "output_type": "error",
     "traceback": [
      "\u001b[1;31m---------------------------------------------------------------------------\u001b[0m",
      "\u001b[1;31mLookupError\u001b[0m                               Traceback (most recent call last)",
      "Cell \u001b[1;32mIn[41], line 4\u001b[0m\n\u001b[0;32m      2\u001b[0m \u001b[38;5;28;01mfor\u001b[39;00m y \u001b[38;5;129;01min\u001b[39;00m l: \n\u001b[0;32m      3\u001b[0m     \u001b[38;5;28;01mtry\u001b[39;00m: \n\u001b[1;32m----> 4\u001b[0m         df \u001b[38;5;241m=\u001b[39m pd\u001b[38;5;241m.\u001b[39mread_csv(\u001b[38;5;124mr\u001b[39m\u001b[38;5;124m\"\u001b[39m\u001b[38;5;124mC:\u001b[39m\u001b[38;5;124m\\\u001b[39m\u001b[38;5;124mUsers\u001b[39m\u001b[38;5;124m\\\u001b[39m\u001b[38;5;124mkrish\u001b[39m\u001b[38;5;124m\\\u001b[39m\u001b[38;5;124mDownloads\u001b[39m\u001b[38;5;124m\\\u001b[39m\u001b[38;5;124mspam.csv\u001b[39m\u001b[38;5;124m\"\u001b[39m,encoding\u001b[38;5;241m=\u001b[39my)  \n\u001b[0;32m      5\u001b[0m         \u001b[38;5;28mprint\u001b[39m(\u001b[38;5;124m'\u001b[39m\u001b[38;5;132;01m{}\u001b[39;00m\u001b[38;5;124m is not decoding\u001b[39m\u001b[38;5;124m'\u001b[39m\u001b[38;5;241m.\u001b[39mformat(y)) \n\u001b[0;32m      6\u001b[0m     \u001b[38;5;28;01mexcept\u001b[39;00m \u001b[38;5;167;01mUnicodeDecodeError\u001b[39;00m: \n",
      "File \u001b[1;32m~\\anaconda3\\Lib\\site-packages\\pandas\\io\\parsers\\readers.py:1026\u001b[0m, in \u001b[0;36mread_csv\u001b[1;34m(filepath_or_buffer, sep, delimiter, header, names, index_col, usecols, dtype, engine, converters, true_values, false_values, skipinitialspace, skiprows, skipfooter, nrows, na_values, keep_default_na, na_filter, verbose, skip_blank_lines, parse_dates, infer_datetime_format, keep_date_col, date_parser, date_format, dayfirst, cache_dates, iterator, chunksize, compression, thousands, decimal, lineterminator, quotechar, quoting, doublequote, escapechar, comment, encoding, encoding_errors, dialect, on_bad_lines, delim_whitespace, low_memory, memory_map, float_precision, storage_options, dtype_backend)\u001b[0m\n\u001b[0;32m   1013\u001b[0m kwds_defaults \u001b[38;5;241m=\u001b[39m _refine_defaults_read(\n\u001b[0;32m   1014\u001b[0m     dialect,\n\u001b[0;32m   1015\u001b[0m     delimiter,\n\u001b[1;32m   (...)\u001b[0m\n\u001b[0;32m   1022\u001b[0m     dtype_backend\u001b[38;5;241m=\u001b[39mdtype_backend,\n\u001b[0;32m   1023\u001b[0m )\n\u001b[0;32m   1024\u001b[0m kwds\u001b[38;5;241m.\u001b[39mupdate(kwds_defaults)\n\u001b[1;32m-> 1026\u001b[0m \u001b[38;5;28;01mreturn\u001b[39;00m _read(filepath_or_buffer, kwds)\n",
      "File \u001b[1;32m~\\anaconda3\\Lib\\site-packages\\pandas\\io\\parsers\\readers.py:620\u001b[0m, in \u001b[0;36m_read\u001b[1;34m(filepath_or_buffer, kwds)\u001b[0m\n\u001b[0;32m    617\u001b[0m _validate_names(kwds\u001b[38;5;241m.\u001b[39mget(\u001b[38;5;124m\"\u001b[39m\u001b[38;5;124mnames\u001b[39m\u001b[38;5;124m\"\u001b[39m, \u001b[38;5;28;01mNone\u001b[39;00m))\n\u001b[0;32m    619\u001b[0m \u001b[38;5;66;03m# Create the parser.\u001b[39;00m\n\u001b[1;32m--> 620\u001b[0m parser \u001b[38;5;241m=\u001b[39m TextFileReader(filepath_or_buffer, \u001b[38;5;241m*\u001b[39m\u001b[38;5;241m*\u001b[39mkwds)\n\u001b[0;32m    622\u001b[0m \u001b[38;5;28;01mif\u001b[39;00m chunksize \u001b[38;5;129;01mor\u001b[39;00m iterator:\n\u001b[0;32m    623\u001b[0m     \u001b[38;5;28;01mreturn\u001b[39;00m parser\n",
      "File \u001b[1;32m~\\anaconda3\\Lib\\site-packages\\pandas\\io\\parsers\\readers.py:1620\u001b[0m, in \u001b[0;36mTextFileReader.__init__\u001b[1;34m(self, f, engine, **kwds)\u001b[0m\n\u001b[0;32m   1617\u001b[0m     \u001b[38;5;28mself\u001b[39m\u001b[38;5;241m.\u001b[39moptions[\u001b[38;5;124m\"\u001b[39m\u001b[38;5;124mhas_index_names\u001b[39m\u001b[38;5;124m\"\u001b[39m] \u001b[38;5;241m=\u001b[39m kwds[\u001b[38;5;124m\"\u001b[39m\u001b[38;5;124mhas_index_names\u001b[39m\u001b[38;5;124m\"\u001b[39m]\n\u001b[0;32m   1619\u001b[0m \u001b[38;5;28mself\u001b[39m\u001b[38;5;241m.\u001b[39mhandles: IOHandles \u001b[38;5;241m|\u001b[39m \u001b[38;5;28;01mNone\u001b[39;00m \u001b[38;5;241m=\u001b[39m \u001b[38;5;28;01mNone\u001b[39;00m\n\u001b[1;32m-> 1620\u001b[0m \u001b[38;5;28mself\u001b[39m\u001b[38;5;241m.\u001b[39m_engine \u001b[38;5;241m=\u001b[39m \u001b[38;5;28mself\u001b[39m\u001b[38;5;241m.\u001b[39m_make_engine(f, \u001b[38;5;28mself\u001b[39m\u001b[38;5;241m.\u001b[39mengine)\n",
      "File \u001b[1;32m~\\anaconda3\\Lib\\site-packages\\pandas\\io\\parsers\\readers.py:1880\u001b[0m, in \u001b[0;36mTextFileReader._make_engine\u001b[1;34m(self, f, engine)\u001b[0m\n\u001b[0;32m   1878\u001b[0m     \u001b[38;5;28;01mif\u001b[39;00m \u001b[38;5;124m\"\u001b[39m\u001b[38;5;124mb\u001b[39m\u001b[38;5;124m\"\u001b[39m \u001b[38;5;129;01mnot\u001b[39;00m \u001b[38;5;129;01min\u001b[39;00m mode:\n\u001b[0;32m   1879\u001b[0m         mode \u001b[38;5;241m+\u001b[39m\u001b[38;5;241m=\u001b[39m \u001b[38;5;124m\"\u001b[39m\u001b[38;5;124mb\u001b[39m\u001b[38;5;124m\"\u001b[39m\n\u001b[1;32m-> 1880\u001b[0m \u001b[38;5;28mself\u001b[39m\u001b[38;5;241m.\u001b[39mhandles \u001b[38;5;241m=\u001b[39m get_handle(\n\u001b[0;32m   1881\u001b[0m     f,\n\u001b[0;32m   1882\u001b[0m     mode,\n\u001b[0;32m   1883\u001b[0m     encoding\u001b[38;5;241m=\u001b[39m\u001b[38;5;28mself\u001b[39m\u001b[38;5;241m.\u001b[39moptions\u001b[38;5;241m.\u001b[39mget(\u001b[38;5;124m\"\u001b[39m\u001b[38;5;124mencoding\u001b[39m\u001b[38;5;124m\"\u001b[39m, \u001b[38;5;28;01mNone\u001b[39;00m),\n\u001b[0;32m   1884\u001b[0m     compression\u001b[38;5;241m=\u001b[39m\u001b[38;5;28mself\u001b[39m\u001b[38;5;241m.\u001b[39moptions\u001b[38;5;241m.\u001b[39mget(\u001b[38;5;124m\"\u001b[39m\u001b[38;5;124mcompression\u001b[39m\u001b[38;5;124m\"\u001b[39m, \u001b[38;5;28;01mNone\u001b[39;00m),\n\u001b[0;32m   1885\u001b[0m     memory_map\u001b[38;5;241m=\u001b[39m\u001b[38;5;28mself\u001b[39m\u001b[38;5;241m.\u001b[39moptions\u001b[38;5;241m.\u001b[39mget(\u001b[38;5;124m\"\u001b[39m\u001b[38;5;124mmemory_map\u001b[39m\u001b[38;5;124m\"\u001b[39m, \u001b[38;5;28;01mFalse\u001b[39;00m),\n\u001b[0;32m   1886\u001b[0m     is_text\u001b[38;5;241m=\u001b[39mis_text,\n\u001b[0;32m   1887\u001b[0m     errors\u001b[38;5;241m=\u001b[39m\u001b[38;5;28mself\u001b[39m\u001b[38;5;241m.\u001b[39moptions\u001b[38;5;241m.\u001b[39mget(\u001b[38;5;124m\"\u001b[39m\u001b[38;5;124mencoding_errors\u001b[39m\u001b[38;5;124m\"\u001b[39m, \u001b[38;5;124m\"\u001b[39m\u001b[38;5;124mstrict\u001b[39m\u001b[38;5;124m\"\u001b[39m),\n\u001b[0;32m   1888\u001b[0m     storage_options\u001b[38;5;241m=\u001b[39m\u001b[38;5;28mself\u001b[39m\u001b[38;5;241m.\u001b[39moptions\u001b[38;5;241m.\u001b[39mget(\u001b[38;5;124m\"\u001b[39m\u001b[38;5;124mstorage_options\u001b[39m\u001b[38;5;124m\"\u001b[39m, \u001b[38;5;28;01mNone\u001b[39;00m),\n\u001b[0;32m   1889\u001b[0m )\n\u001b[0;32m   1890\u001b[0m \u001b[38;5;28;01massert\u001b[39;00m \u001b[38;5;28mself\u001b[39m\u001b[38;5;241m.\u001b[39mhandles \u001b[38;5;129;01mis\u001b[39;00m \u001b[38;5;129;01mnot\u001b[39;00m \u001b[38;5;28;01mNone\u001b[39;00m\n\u001b[0;32m   1891\u001b[0m f \u001b[38;5;241m=\u001b[39m \u001b[38;5;28mself\u001b[39m\u001b[38;5;241m.\u001b[39mhandles\u001b[38;5;241m.\u001b[39mhandle\n",
      "File \u001b[1;32m~\\anaconda3\\Lib\\site-packages\\pandas\\io\\common.py:873\u001b[0m, in \u001b[0;36mget_handle\u001b[1;34m(path_or_buf, mode, encoding, compression, memory_map, is_text, errors, storage_options)\u001b[0m\n\u001b[0;32m    868\u001b[0m \u001b[38;5;28;01melif\u001b[39;00m \u001b[38;5;28misinstance\u001b[39m(handle, \u001b[38;5;28mstr\u001b[39m):\n\u001b[0;32m    869\u001b[0m     \u001b[38;5;66;03m# Check whether the filename is to be opened in binary mode.\u001b[39;00m\n\u001b[0;32m    870\u001b[0m     \u001b[38;5;66;03m# Binary mode does not support 'encoding' and 'newline'.\u001b[39;00m\n\u001b[0;32m    871\u001b[0m     \u001b[38;5;28;01mif\u001b[39;00m ioargs\u001b[38;5;241m.\u001b[39mencoding \u001b[38;5;129;01mand\u001b[39;00m \u001b[38;5;124m\"\u001b[39m\u001b[38;5;124mb\u001b[39m\u001b[38;5;124m\"\u001b[39m \u001b[38;5;129;01mnot\u001b[39;00m \u001b[38;5;129;01min\u001b[39;00m ioargs\u001b[38;5;241m.\u001b[39mmode:\n\u001b[0;32m    872\u001b[0m         \u001b[38;5;66;03m# Encoding\u001b[39;00m\n\u001b[1;32m--> 873\u001b[0m         handle \u001b[38;5;241m=\u001b[39m \u001b[38;5;28mopen\u001b[39m(\n\u001b[0;32m    874\u001b[0m             handle,\n\u001b[0;32m    875\u001b[0m             ioargs\u001b[38;5;241m.\u001b[39mmode,\n\u001b[0;32m    876\u001b[0m             encoding\u001b[38;5;241m=\u001b[39mioargs\u001b[38;5;241m.\u001b[39mencoding,\n\u001b[0;32m    877\u001b[0m             errors\u001b[38;5;241m=\u001b[39merrors,\n\u001b[0;32m    878\u001b[0m             newline\u001b[38;5;241m=\u001b[39m\u001b[38;5;124m\"\u001b[39m\u001b[38;5;124m\"\u001b[39m,\n\u001b[0;32m    879\u001b[0m         )\n\u001b[0;32m    880\u001b[0m     \u001b[38;5;28;01melse\u001b[39;00m:\n\u001b[0;32m    881\u001b[0m         \u001b[38;5;66;03m# Binary mode\u001b[39;00m\n\u001b[0;32m    882\u001b[0m         handle \u001b[38;5;241m=\u001b[39m \u001b[38;5;28mopen\u001b[39m(handle, ioargs\u001b[38;5;241m.\u001b[39mmode)\n",
      "\u001b[1;31mLookupError\u001b[0m: 'base64' is not a text encoding; use codecs.open() to handle arbitrary codecs"
     ]
    }
   ],
   "source": [
    "#l = ['utf-8','latin','utf-16']\n",
    "for y in l: \n",
    "    try: \n",
    "        df = pd.read_csv(r\"C:\\Users\\krish\\Downloads\\spam.csv\",encoding=y)  \n",
    "        print('{} is not decoding'.format(y)) \n",
    "    except UnicodeDecodeError: \n",
    "        print('{} is not decoding'.format(y))\n"
   ]
  },
  {
   "cell_type": "code",
   "execution_count": 50,
   "id": "3259bfb2-59de-45b2-83f8-c4c65fb359d4",
   "metadata": {},
   "outputs": [
    {
     "name": "stdout",
     "output_type": "stream",
     "text": [
      "646 is not decoding\n",
      "ansi_x3.4_1968 is not decoding\n",
      "ansi_x3_4_1968 is not decoding\n",
      "ansi_x3.4_1986 is not decoding\n",
      "cp367 is not decoding\n",
      "csascii is not decoding\n",
      "ibm367 is not decoding\n",
      "iso646_us is not decoding\n",
      "iso_646.irv_1991 is not decoding\n",
      "iso_ir_6 is not decoding\n",
      "us is not decoding\n",
      "us_ascii is not decoding\n",
      "base64 is not decoding\n",
      "base_64 is not decoding\n",
      "big5_tw is not decoding\n",
      "csbig5 is not decoding\n",
      "big5_hkscs is not decoding\n",
      "hkscs is not decoding\n",
      "bz2 is not decoding\n"
     ]
    },
    {
     "ename": "ParserError",
     "evalue": "Error tokenizing data. C error: Expected 1 fields in line 3, saw 3\n",
     "output_type": "error",
     "traceback": [
      "\u001b[1;31m---------------------------------------------------------------------------\u001b[0m",
      "\u001b[1;31mParserError\u001b[0m                               Traceback (most recent call last)",
      "Cell \u001b[1;32mIn[50], line 4\u001b[0m\n\u001b[0;32m      2\u001b[0m \u001b[38;5;28;01mfor\u001b[39;00m y \u001b[38;5;129;01min\u001b[39;00m l: \n\u001b[0;32m      3\u001b[0m     \u001b[38;5;28;01mtry\u001b[39;00m: \n\u001b[1;32m----> 4\u001b[0m         df \u001b[38;5;241m=\u001b[39m pd\u001b[38;5;241m.\u001b[39mread_csv(\u001b[38;5;124mr\u001b[39m\u001b[38;5;124m\"\u001b[39m\u001b[38;5;124mC:\u001b[39m\u001b[38;5;124m\\\u001b[39m\u001b[38;5;124mUsers\u001b[39m\u001b[38;5;124m\\\u001b[39m\u001b[38;5;124mkrish\u001b[39m\u001b[38;5;124m\\\u001b[39m\u001b[38;5;124mDownloads\u001b[39m\u001b[38;5;124m\\\u001b[39m\u001b[38;5;124mspam.csv\u001b[39m\u001b[38;5;124m\"\u001b[39m,encoding\u001b[38;5;241m=\u001b[39my)  \n\u001b[0;32m      5\u001b[0m         \u001b[38;5;28mprint\u001b[39m(\u001b[38;5;124m'\u001b[39m\u001b[38;5;132;01m{}\u001b[39;00m\u001b[38;5;124m is not decoding\u001b[39m\u001b[38;5;124m'\u001b[39m\u001b[38;5;241m.\u001b[39mformat(y)) \n\u001b[0;32m      6\u001b[0m     \u001b[38;5;28;01mexcept\u001b[39;00m \u001b[38;5;167;01mUnicodeDecodeError\u001b[39;00m: \n",
      "File \u001b[1;32m~\\anaconda3\\Lib\\site-packages\\pandas\\io\\parsers\\readers.py:1026\u001b[0m, in \u001b[0;36mread_csv\u001b[1;34m(filepath_or_buffer, sep, delimiter, header, names, index_col, usecols, dtype, engine, converters, true_values, false_values, skipinitialspace, skiprows, skipfooter, nrows, na_values, keep_default_na, na_filter, verbose, skip_blank_lines, parse_dates, infer_datetime_format, keep_date_col, date_parser, date_format, dayfirst, cache_dates, iterator, chunksize, compression, thousands, decimal, lineterminator, quotechar, quoting, doublequote, escapechar, comment, encoding, encoding_errors, dialect, on_bad_lines, delim_whitespace, low_memory, memory_map, float_precision, storage_options, dtype_backend)\u001b[0m\n\u001b[0;32m   1013\u001b[0m kwds_defaults \u001b[38;5;241m=\u001b[39m _refine_defaults_read(\n\u001b[0;32m   1014\u001b[0m     dialect,\n\u001b[0;32m   1015\u001b[0m     delimiter,\n\u001b[1;32m   (...)\u001b[0m\n\u001b[0;32m   1022\u001b[0m     dtype_backend\u001b[38;5;241m=\u001b[39mdtype_backend,\n\u001b[0;32m   1023\u001b[0m )\n\u001b[0;32m   1024\u001b[0m kwds\u001b[38;5;241m.\u001b[39mupdate(kwds_defaults)\n\u001b[1;32m-> 1026\u001b[0m \u001b[38;5;28;01mreturn\u001b[39;00m _read(filepath_or_buffer, kwds)\n",
      "File \u001b[1;32m~\\anaconda3\\Lib\\site-packages\\pandas\\io\\parsers\\readers.py:626\u001b[0m, in \u001b[0;36m_read\u001b[1;34m(filepath_or_buffer, kwds)\u001b[0m\n\u001b[0;32m    623\u001b[0m     \u001b[38;5;28;01mreturn\u001b[39;00m parser\n\u001b[0;32m    625\u001b[0m \u001b[38;5;28;01mwith\u001b[39;00m parser:\n\u001b[1;32m--> 626\u001b[0m     \u001b[38;5;28;01mreturn\u001b[39;00m parser\u001b[38;5;241m.\u001b[39mread(nrows)\n",
      "File \u001b[1;32m~\\anaconda3\\Lib\\site-packages\\pandas\\io\\parsers\\readers.py:1923\u001b[0m, in \u001b[0;36mTextFileReader.read\u001b[1;34m(self, nrows)\u001b[0m\n\u001b[0;32m   1916\u001b[0m nrows \u001b[38;5;241m=\u001b[39m validate_integer(\u001b[38;5;124m\"\u001b[39m\u001b[38;5;124mnrows\u001b[39m\u001b[38;5;124m\"\u001b[39m, nrows)\n\u001b[0;32m   1917\u001b[0m \u001b[38;5;28;01mtry\u001b[39;00m:\n\u001b[0;32m   1918\u001b[0m     \u001b[38;5;66;03m# error: \"ParserBase\" has no attribute \"read\"\u001b[39;00m\n\u001b[0;32m   1919\u001b[0m     (\n\u001b[0;32m   1920\u001b[0m         index,\n\u001b[0;32m   1921\u001b[0m         columns,\n\u001b[0;32m   1922\u001b[0m         col_dict,\n\u001b[1;32m-> 1923\u001b[0m     ) \u001b[38;5;241m=\u001b[39m \u001b[38;5;28mself\u001b[39m\u001b[38;5;241m.\u001b[39m_engine\u001b[38;5;241m.\u001b[39mread(  \u001b[38;5;66;03m# type: ignore[attr-defined]\u001b[39;00m\n\u001b[0;32m   1924\u001b[0m         nrows\n\u001b[0;32m   1925\u001b[0m     )\n\u001b[0;32m   1926\u001b[0m \u001b[38;5;28;01mexcept\u001b[39;00m \u001b[38;5;167;01mException\u001b[39;00m:\n\u001b[0;32m   1927\u001b[0m     \u001b[38;5;28mself\u001b[39m\u001b[38;5;241m.\u001b[39mclose()\n",
      "File \u001b[1;32m~\\anaconda3\\Lib\\site-packages\\pandas\\io\\parsers\\c_parser_wrapper.py:234\u001b[0m, in \u001b[0;36mCParserWrapper.read\u001b[1;34m(self, nrows)\u001b[0m\n\u001b[0;32m    232\u001b[0m \u001b[38;5;28;01mtry\u001b[39;00m:\n\u001b[0;32m    233\u001b[0m     \u001b[38;5;28;01mif\u001b[39;00m \u001b[38;5;28mself\u001b[39m\u001b[38;5;241m.\u001b[39mlow_memory:\n\u001b[1;32m--> 234\u001b[0m         chunks \u001b[38;5;241m=\u001b[39m \u001b[38;5;28mself\u001b[39m\u001b[38;5;241m.\u001b[39m_reader\u001b[38;5;241m.\u001b[39mread_low_memory(nrows)\n\u001b[0;32m    235\u001b[0m         \u001b[38;5;66;03m# destructive to chunks\u001b[39;00m\n\u001b[0;32m    236\u001b[0m         data \u001b[38;5;241m=\u001b[39m _concatenate_chunks(chunks)\n",
      "File \u001b[1;32mparsers.pyx:838\u001b[0m, in \u001b[0;36mpandas._libs.parsers.TextReader.read_low_memory\u001b[1;34m()\u001b[0m\n",
      "File \u001b[1;32mparsers.pyx:905\u001b[0m, in \u001b[0;36mpandas._libs.parsers.TextReader._read_rows\u001b[1;34m()\u001b[0m\n",
      "File \u001b[1;32mparsers.pyx:874\u001b[0m, in \u001b[0;36mpandas._libs.parsers.TextReader._tokenize_rows\u001b[1;34m()\u001b[0m\n",
      "File \u001b[1;32mparsers.pyx:891\u001b[0m, in \u001b[0;36mpandas._libs.parsers.TextReader._check_tokenize_status\u001b[1;34m()\u001b[0m\n",
      "File \u001b[1;32mparsers.pyx:2061\u001b[0m, in \u001b[0;36mpandas._libs.parsers.raise_parser_error\u001b[1;34m()\u001b[0m\n",
      "\u001b[1;31mParserError\u001b[0m: Error tokenizing data. C error: Expected 1 fields in line 3, saw 3\n"
     ]
    }
   ],
   "source": [
    "#l = ['utf-8','latin','utf-16']\n",
    "for y in l: \n",
    "    try: \n",
    "        df = pd.read_csv(r\"C:\\Users\\krish\\Downloads\\spam.csv\",encoding=y)  \n",
    "        print('{} is not decoding'.format(y)) \n",
    "    except UnicodeDecodeError: \n",
    "        print('{} is not decoding'.format(y))  \n",
    "    except  LookupError: \n",
    "        print('{} is not decoding'.format(y)) \n",
    "    \n"
   ]
  },
  {
   "cell_type": "code",
   "execution_count": 64,
   "id": "f7d82c0c-4f9f-446f-8e14-499ea222d4b5",
   "metadata": {},
   "outputs": [
    {
     "name": "stdout",
     "output_type": "stream",
     "text": [
      "646 is not decoding\n",
      "ansi_x3.4_1968 is not decoding\n",
      "ansi_x3_4_1968 is not decoding\n",
      "ansi_x3.4_1986 is not decoding\n",
      "cp367 is not decoding\n",
      "csascii is not decoding\n",
      "ibm367 is not decoding\n",
      "iso646_us is not decoding\n",
      "iso_646.irv_1991 is not decoding\n",
      "iso_ir_6 is not decoding\n",
      "us is not decoding\n",
      "us_ascii is not decoding\n",
      "base64 is not decoding\n",
      "base_64 is not decoding\n",
      "big5_tw is not decoding\n",
      "csbig5 is not decoding\n",
      "big5_hkscs is not decoding\n",
      "hkscs is not decoding\n",
      "bz2 is not decoding\n",
      "037 is not decoding\n",
      "csibm037 is not decoding\n",
      "ebcdic_cp_ca is not decoding\n",
      "ebcdic_cp_nl is not decoding\n",
      "ebcdic_cp_us is not decoding\n",
      "ebcdic_cp_wt is not decoding\n",
      "ibm037 is not decoding\n",
      "ibm039 is not decoding\n",
      "1026 is not decoding\n",
      "csibm1026 is not decoding\n",
      "ibm1026 is not decoding\n",
      "1125 is not decoding\n",
      "ibm1125 is not decoding\n",
      "cp866u is not decoding\n",
      "ruscii is not decoding\n",
      "1140 is not decoding\n",
      "ibm1140 is not decoding\n",
      "1250 is not decoding\n",
      "windows_1250 is not decoding\n",
      "1251 is not decoding\n",
      "windows_1251 is not decoding\n",
      "1252 is not decoding\n",
      "windows_1252 is not decoding\n",
      "1253 is not decoding\n",
      "windows_1253 is not decoding\n",
      "1254 is not decoding\n",
      "windows_1254 is not decoding\n",
      "1255 is not decoding\n",
      "windows_1255 is not decoding\n",
      "1256 is not decoding\n",
      "windows_1256 is not decoding\n",
      "1257 is not decoding\n",
      "windows_1257 is not decoding\n",
      "1258 is not decoding\n",
      "windows_1258 is not decoding\n",
      "273 is not decoding\n",
      "ibm273 is not decoding\n",
      "csibm273 is not decoding\n",
      "424 is not decoding\n",
      "csibm424 is not decoding\n",
      "ebcdic_cp_he is not decoding\n",
      "ibm424 is not decoding\n",
      "437 is not decoding\n",
      "cspc8codepage437 is not decoding\n",
      "ibm437 is not decoding\n",
      "500 is not decoding\n",
      "csibm500 is not decoding\n",
      "ebcdic_cp_be is not decoding\n",
      "ebcdic_cp_ch is not decoding\n",
      "ibm500 is not decoding\n",
      "775 is not decoding\n",
      "cspc775baltic is not decoding\n",
      "ibm775 is not decoding\n",
      "850 is not decoding\n",
      "cspc850multilingual is not decoding\n",
      "ibm850 is not decoding\n",
      "852 is not decoding\n",
      "cspcp852 is not decoding\n",
      "ibm852 is not decoding\n",
      "855 is not decoding\n",
      "csibm855 is not decoding\n",
      "ibm855 is not decoding\n",
      "857 is not decoding\n",
      "csibm857 is not decoding\n",
      "ibm857 is not decoding\n",
      "858 is not decoding\n",
      "csibm858 is not decoding\n",
      "ibm858 is not decoding\n",
      "860 is not decoding\n",
      "csibm860 is not decoding\n",
      "ibm860 is not decoding\n",
      "861 is not decoding\n",
      "cp_is is not decoding\n",
      "csibm861 is not decoding\n",
      "ibm861 is not decoding\n",
      "862 is not decoding\n",
      "cspc862latinhebrew is not decoding\n",
      "ibm862 is not decoding\n",
      "863 is not decoding\n",
      "csibm863 is not decoding\n",
      "ibm863 is not decoding\n",
      "864 is not decoding\n",
      "csibm864 is not decoding\n",
      "ibm864 is not decoding\n",
      "865 is not decoding\n",
      "csibm865 is not decoding\n",
      "ibm865 is not decoding\n",
      "866 is not decoding\n",
      "csibm866 is not decoding\n",
      "ibm866 is not decoding\n",
      "869 is not decoding\n",
      "cp_gr is not decoding\n",
      "csibm869 is not decoding\n",
      "ibm869 is not decoding\n",
      "932 is not decoding\n",
      "ms932 is not decoding\n",
      "mskanji is not decoding\n",
      "ms_kanji is not decoding\n",
      "949 is not decoding\n",
      "ms949 is not decoding\n",
      "uhc is not decoding\n",
      "950 is not decoding\n",
      "ms950 is not decoding\n",
      "jisx0213 is not decoding\n",
      "eucjis2004 is not decoding\n",
      "euc_jis2004 is not decoding\n",
      "eucjisx0213 is not decoding\n",
      "eucjp is not decoding\n",
      "ujis is not decoding\n",
      "u_jis is not decoding\n",
      "euckr is not decoding\n",
      "korean is not decoding\n",
      "ksc5601 is not decoding\n",
      "ks_c_5601 is not decoding\n",
      "ks_c_5601_1987 is not decoding\n",
      "ksx1001 is not decoding\n",
      "ks_x_1001 is not decoding\n",
      "gb18030_2000 is not decoding\n",
      "chinese is not decoding\n",
      "csiso58gb231280 is not decoding\n",
      "euc_cn is not decoding\n",
      "euccn is not decoding\n",
      "eucgb2312_cn is not decoding\n",
      "gb2312_1980 is not decoding\n",
      "gb2312_80 is not decoding\n",
      "iso_ir_58 is not decoding\n",
      "936 is not decoding\n",
      "cp936 is not decoding\n",
      "ms936 is not decoding\n",
      "hex is not decoding\n",
      "roman8 is not decoding\n",
      "r8 is not decoding\n",
      "csHPRoman8 is not decoding\n",
      "cp1051 is not decoding\n",
      "ibm1051 is not decoding\n",
      "hzgb is not decoding\n",
      "hz_gb is not decoding\n",
      "hz_gb_2312 is not decoding\n",
      "csiso2022jp is not decoding\n",
      "iso2022jp is not decoding\n",
      "iso_2022_jp is not decoding\n",
      "iso2022jp_1 is not decoding\n",
      "iso_2022_jp_1 is not decoding\n",
      "iso2022jp_2 is not decoding\n",
      "iso_2022_jp_2 is not decoding\n",
      "iso_2022_jp_2004 is not decoding\n",
      "iso2022jp_2004 is not decoding\n",
      "iso2022jp_3 is not decoding\n",
      "iso_2022_jp_3 is not decoding\n",
      "iso2022jp_ext is not decoding\n",
      "iso_2022_jp_ext is not decoding\n",
      "csiso2022kr is not decoding\n",
      "iso2022kr is not decoding\n",
      "iso_2022_kr is not decoding\n",
      "csisolatin6 is not decoding\n",
      "iso_8859_10 is not decoding\n",
      "iso_8859_10_1992 is not decoding\n",
      "iso_ir_157 is not decoding\n",
      "l6 is not decoding\n",
      "latin6 is not decoding\n",
      "thai is not decoding\n",
      "iso_8859_11 is not decoding\n",
      "iso_8859_11_2001 is not decoding\n",
      "iso_8859_13 is not decoding\n",
      "l7 is not decoding\n",
      "latin7 is not decoding\n",
      "iso_8859_14 is not decoding\n",
      "iso_8859_14_1998 is not decoding\n",
      "iso_celtic is not decoding\n",
      "iso_ir_199 is not decoding\n",
      "l8 is not decoding\n",
      "latin8 is not decoding\n",
      "iso_8859_15 is not decoding\n",
      "l9 is not decoding\n",
      "latin9 is not decoding\n",
      "iso_8859_16 is not decoding\n",
      "iso_8859_16_2001 is not decoding\n",
      "iso_ir_226 is not decoding\n",
      "l10 is not decoding\n",
      "latin10 is not decoding\n",
      "csisolatin2 is not decoding\n",
      "iso_8859_2 is not decoding\n",
      "iso_8859_2_1987 is not decoding\n",
      "iso_ir_101 is not decoding\n",
      "l2 is not decoding\n",
      "latin2 is not decoding\n",
      "csisolatin3 is not decoding\n",
      "iso_8859_3 is not decoding\n",
      "iso_8859_3_1988 is not decoding\n",
      "iso_ir_109 is not decoding\n",
      "l3 is not decoding\n",
      "latin3 is not decoding\n",
      "csisolatin4 is not decoding\n",
      "iso_8859_4 is not decoding\n",
      "iso_8859_4_1988 is not decoding\n",
      "iso_ir_110 is not decoding\n",
      "l4 is not decoding\n",
      "latin4 is not decoding\n",
      "csisolatincyrillic is not decoding\n",
      "cyrillic is not decoding\n",
      "iso_8859_5 is not decoding\n",
      "iso_8859_5_1988 is not decoding\n",
      "iso_ir_144 is not decoding\n",
      "arabic is not decoding\n",
      "asmo_708 is not decoding\n",
      "csisolatinarabic is not decoding\n",
      "ecma_114 is not decoding\n",
      "iso_8859_6 is not decoding\n",
      "iso_8859_6_1987 is not decoding\n",
      "iso_ir_127 is not decoding\n",
      "csisolatingreek is not decoding\n",
      "ecma_118 is not decoding\n",
      "elot_928 is not decoding\n",
      "greek is not decoding\n",
      "greek8 is not decoding\n",
      "iso_8859_7 is not decoding\n",
      "iso_8859_7_1987 is not decoding\n",
      "iso_ir_126 is not decoding\n",
      "csisolatinhebrew is not decoding\n",
      "hebrew is not decoding\n",
      "iso_8859_8 is not decoding\n",
      "iso_8859_8_1988 is not decoding\n",
      "iso_ir_138 is not decoding\n",
      "csisolatin5 is not decoding\n",
      "iso_8859_9 is not decoding\n",
      "iso_8859_9_1989 is not decoding\n",
      "iso_ir_148 is not decoding\n",
      "l5 is not decoding\n",
      "latin5 is not decoding\n",
      "cp1361 is not decoding\n",
      "ms1361 is not decoding\n",
      "cskoi8r is not decoding\n",
      "kz_1048 is not decoding\n",
      "rk1048 is not decoding\n",
      "strk1048_2002 is not decoding\n",
      "8859 is not decoding\n",
      "cp819 is not decoding\n",
      "csisolatin1 is not decoding\n",
      "ibm819 is not decoding\n",
      "iso8859 is not decoding\n",
      "iso8859_1 is not decoding\n",
      "iso_8859_1 is not decoding\n",
      "iso_8859_1_1987 is not decoding\n",
      "iso_ir_100 is not decoding\n",
      "l1 is not decoding\n",
      "latin is not decoding\n",
      "latin1 is not decoding\n",
      "maccyrillic is not decoding\n",
      "macgreek is not decoding\n",
      "maciceland is not decoding\n",
      "maccentraleurope is not decoding\n",
      "mac_centeuro is not decoding\n",
      "maclatin2 is not decoding\n",
      "macintosh is not decoding\n",
      "macroman is not decoding\n",
      "macturkish is not decoding\n",
      "ansi is not decoding\n",
      "dbcs is not decoding\n",
      "csptcp154 is not decoding\n",
      "pt154 is not decoding\n",
      "cp154 is not decoding\n",
      "cyrillic_asian is not decoding\n",
      "quopri is not decoding\n",
      "quoted_printable is not decoding\n",
      "quotedprintable is not decoding\n",
      "rot13 is not decoding\n",
      "csshiftjis is not decoding\n",
      "shiftjis is not decoding\n",
      "sjis is not decoding\n",
      "s_jis is not decoding\n",
      "shiftjis2004 is not decoding\n",
      "sjis_2004 is not decoding\n",
      "s_jis_2004 is not decoding\n",
      "shiftjisx0213 is not decoding\n",
      "sjisx0213 is not decoding\n",
      "s_jisx0213 is not decoding\n",
      "tis620 is not decoding\n",
      "tis_620_0 is not decoding\n",
      "tis_620_2529_0 is not decoding\n",
      "tis_620_2529_1 is not decoding\n",
      "iso_ir_166 is not decoding\n",
      "u16 is not decoding\n",
      "utf16 is not decoding\n",
      "unicodebigunmarked is not decoding\n",
      "utf_16be is not decoding\n",
      "unicodelittleunmarked is not decoding\n",
      "utf_16le is not decoding\n",
      "u32 is not decoding\n",
      "utf32 is not decoding\n",
      "utf_32be is not decoding\n",
      "utf_32le is not decoding\n",
      "u7 is not decoding\n",
      "utf7 is not decoding\n",
      "unicode_1_1_utf_7 is not decoding\n",
      "u8 is not decoding\n",
      "utf is not decoding\n",
      "utf8 is not decoding\n",
      "utf8_ucs2 is not decoding\n",
      "utf8_ucs4 is not decoding\n",
      "cp65001 is not decoding\n",
      "uu is not decoding\n",
      "zip is not decoding\n",
      "zlib is not decoding\n",
      "x_mac_japanese is not decoding\n",
      "x_mac_korean is not decoding\n",
      "x_mac_simp_chinese is not decoding\n",
      "x_mac_trad_chinese is not decoding\n"
     ]
    }
   ],
   "source": [
    "#l = ['utf-8','latin','utf-16']\n",
    "l1 = [] \n",
    "l2 = []\n",
    "for y in l: \n",
    "    try: \n",
    "        df = pd.read_csv(r\"C:\\Users\\krish\\Downloads\\spam.csv\",encoding=y,on_bad_lines='skip')  \n",
    "        print('{} is not decoding'.format(y))  \n",
    "        l1.append(y)\n",
    "    except UnicodeDecodeError: \n",
    "        print('{} is not decoding'.format(y))  \n",
    "    except  LookupError: \n",
    "        print('{} is not decoding'.format(y))   \n",
    "        l2.append(y)\n"
   ]
  },
  {
   "cell_type": "code",
   "execution_count": 62,
   "id": "780516b8-a59f-4307-b17f-33537d91c5db",
   "metadata": {},
   "outputs": [
    {
     "data": {
      "text/plain": [
       "['037',\n",
       " 'csibm037',\n",
       " 'ebcdic_cp_ca',\n",
       " 'ebcdic_cp_nl',\n",
       " 'ebcdic_cp_us',\n",
       " 'ebcdic_cp_wt',\n",
       " 'ibm037',\n",
       " 'ibm039',\n",
       " '1026',\n",
       " 'csibm1026',\n",
       " 'ibm1026',\n",
       " '1125',\n",
       " 'ibm1125',\n",
       " 'cp866u',\n",
       " 'ruscii',\n",
       " '1140',\n",
       " 'ibm1140',\n",
       " '1250',\n",
       " 'windows_1250',\n",
       " '1251',\n",
       " 'windows_1251',\n",
       " '1252',\n",
       " 'windows_1252',\n",
       " '1256',\n",
       " 'windows_1256',\n",
       " '1257',\n",
       " 'windows_1257',\n",
       " '273',\n",
       " 'ibm273',\n",
       " 'csibm273',\n",
       " '437',\n",
       " 'cspc8codepage437',\n",
       " 'ibm437',\n",
       " '500',\n",
       " 'csibm500',\n",
       " 'ebcdic_cp_be',\n",
       " 'ebcdic_cp_ch',\n",
       " 'ibm500',\n",
       " '775',\n",
       " 'cspc775baltic',\n",
       " 'ibm775',\n",
       " '850',\n",
       " 'cspc850multilingual',\n",
       " 'ibm850',\n",
       " '852',\n",
       " 'cspcp852',\n",
       " 'ibm852',\n",
       " '855',\n",
       " 'csibm855',\n",
       " 'ibm855',\n",
       " '858',\n",
       " 'csibm858',\n",
       " 'ibm858',\n",
       " '860',\n",
       " 'csibm860',\n",
       " 'ibm860',\n",
       " '861',\n",
       " 'cp_is',\n",
       " 'csibm861',\n",
       " 'ibm861',\n",
       " '862',\n",
       " 'cspc862latinhebrew',\n",
       " 'ibm862',\n",
       " '863',\n",
       " 'csibm863',\n",
       " 'ibm863',\n",
       " '864',\n",
       " 'csibm864',\n",
       " 'ibm864',\n",
       " '865',\n",
       " 'csibm865',\n",
       " 'ibm865',\n",
       " '866',\n",
       " 'csibm866',\n",
       " 'ibm866',\n",
       " '869',\n",
       " 'cp_gr',\n",
       " 'csibm869',\n",
       " 'ibm869',\n",
       " 'roman8',\n",
       " 'r8',\n",
       " 'cp1051',\n",
       " 'ibm1051',\n",
       " 'csisolatin6',\n",
       " 'iso_8859_10',\n",
       " 'iso_8859_10_1992',\n",
       " 'iso_ir_157',\n",
       " 'l6',\n",
       " 'latin6',\n",
       " 'iso_8859_13',\n",
       " 'l7',\n",
       " 'latin7',\n",
       " 'iso_8859_14',\n",
       " 'iso_8859_14_1998',\n",
       " 'iso_celtic',\n",
       " 'iso_ir_199',\n",
       " 'l8',\n",
       " 'latin8',\n",
       " 'iso_8859_15',\n",
       " 'l9',\n",
       " 'latin9',\n",
       " 'iso_8859_16',\n",
       " 'iso_8859_16_2001',\n",
       " 'iso_ir_226',\n",
       " 'l10',\n",
       " 'latin10',\n",
       " 'csisolatin2',\n",
       " 'iso_8859_2',\n",
       " 'iso_8859_2_1987',\n",
       " 'iso_ir_101',\n",
       " 'l2',\n",
       " 'latin2',\n",
       " 'csisolatin4',\n",
       " 'iso_8859_4',\n",
       " 'iso_8859_4_1988',\n",
       " 'iso_ir_110',\n",
       " 'l4',\n",
       " 'latin4',\n",
       " 'csisolatincyrillic',\n",
       " 'cyrillic',\n",
       " 'iso_8859_5',\n",
       " 'iso_8859_5_1988',\n",
       " 'iso_ir_144',\n",
       " 'csisolatin5',\n",
       " 'iso_8859_9',\n",
       " 'iso_8859_9_1989',\n",
       " 'iso_ir_148',\n",
       " 'l5',\n",
       " 'latin5',\n",
       " 'cskoi8r',\n",
       " 'kz_1048',\n",
       " 'rk1048',\n",
       " 'strk1048_2002',\n",
       " '8859',\n",
       " 'cp819',\n",
       " 'csisolatin1',\n",
       " 'ibm819',\n",
       " 'iso8859',\n",
       " 'iso8859_1',\n",
       " 'iso_8859_1',\n",
       " 'iso_8859_1_1987',\n",
       " 'iso_ir_100',\n",
       " 'l1',\n",
       " 'latin',\n",
       " 'latin1',\n",
       " 'maccyrillic',\n",
       " 'macgreek',\n",
       " 'maciceland',\n",
       " 'maccentraleurope',\n",
       " 'mac_centeuro',\n",
       " 'maclatin2',\n",
       " 'macintosh',\n",
       " 'macroman',\n",
       " 'macturkish',\n",
       " 'ansi',\n",
       " 'dbcs',\n",
       " 'csptcp154',\n",
       " 'pt154',\n",
       " 'cp154',\n",
       " 'cyrillic_asian']"
      ]
     },
     "execution_count": 62,
     "metadata": {},
     "output_type": "execute_result"
    }
   ],
   "source": [
    "l1 # those are working for csv"
   ]
  },
  {
   "cell_type": "code",
   "execution_count": 65,
   "id": "e9a39cc8-b182-486c-95d1-dbb1a9149ccf",
   "metadata": {},
   "outputs": [
    {
     "data": {
      "text/plain": [
       "['base64',\n",
       " 'base_64',\n",
       " 'bz2',\n",
       " 'hex',\n",
       " 'csHPRoman8',\n",
       " 'quopri',\n",
       " 'quoted_printable',\n",
       " 'quotedprintable',\n",
       " 'rot13',\n",
       " 'uu',\n",
       " 'zip',\n",
       " 'zlib']"
      ]
     },
     "execution_count": 65,
     "metadata": {},
     "output_type": "execute_result"
    }
   ],
   "source": [
    "l2 # not support csv"
   ]
  },
  {
   "cell_type": "code",
   "execution_count": 76,
   "id": "895df3b7-2e0c-4650-8d21-b9ef2bf0b604",
   "metadata": {},
   "outputs": [
    {
     "data": {
      "text/html": [
       "<div>\n",
       "<style scoped>\n",
       "    .dataframe tbody tr th:only-of-type {\n",
       "        vertical-align: middle;\n",
       "    }\n",
       "\n",
       "    .dataframe tbody tr th {\n",
       "        vertical-align: top;\n",
       "    }\n",
       "\n",
       "    .dataframe thead th {\n",
       "        text-align: right;\n",
       "    }\n",
       "</style>\n",
       "<table border=\"1\" class=\"dataframe\">\n",
       "  <thead>\n",
       "    <tr style=\"text-align: right;\">\n",
       "      <th></th>\n",
       "      <th>v1</th>\n",
       "      <th>v2</th>\n",
       "      <th>Unnamed: 2</th>\n",
       "      <th>Unnamed: 3</th>\n",
       "      <th>Unnamed: 4</th>\n",
       "    </tr>\n",
       "  </thead>\n",
       "  <tbody>\n",
       "    <tr>\n",
       "      <th>0</th>\n",
       "      <td>ham</td>\n",
       "      <td>Go until jurong point, crazy.. Available only ...</td>\n",
       "      <td>NaN</td>\n",
       "      <td>NaN</td>\n",
       "      <td>NaN</td>\n",
       "    </tr>\n",
       "    <tr>\n",
       "      <th>1</th>\n",
       "      <td>ham</td>\n",
       "      <td>Ok lar... Joking wif u oni...</td>\n",
       "      <td>NaN</td>\n",
       "      <td>NaN</td>\n",
       "      <td>NaN</td>\n",
       "    </tr>\n",
       "    <tr>\n",
       "      <th>2</th>\n",
       "      <td>spam</td>\n",
       "      <td>Free entry in 2 a wkly comp to win FA Cup fina...</td>\n",
       "      <td>NaN</td>\n",
       "      <td>NaN</td>\n",
       "      <td>NaN</td>\n",
       "    </tr>\n",
       "    <tr>\n",
       "      <th>3</th>\n",
       "      <td>ham</td>\n",
       "      <td>U dun say so early hor... U c already then say...</td>\n",
       "      <td>NaN</td>\n",
       "      <td>NaN</td>\n",
       "      <td>NaN</td>\n",
       "    </tr>\n",
       "    <tr>\n",
       "      <th>4</th>\n",
       "      <td>ham</td>\n",
       "      <td>Nah I don't think he goes to usf, he lives aro...</td>\n",
       "      <td>NaN</td>\n",
       "      <td>NaN</td>\n",
       "      <td>NaN</td>\n",
       "    </tr>\n",
       "    <tr>\n",
       "      <th>...</th>\n",
       "      <td>...</td>\n",
       "      <td>...</td>\n",
       "      <td>...</td>\n",
       "      <td>...</td>\n",
       "      <td>...</td>\n",
       "    </tr>\n",
       "    <tr>\n",
       "      <th>5567</th>\n",
       "      <td>spam</td>\n",
       "      <td>This is the 2nd time we have tried 2 contact u...</td>\n",
       "      <td>NaN</td>\n",
       "      <td>NaN</td>\n",
       "      <td>NaN</td>\n",
       "    </tr>\n",
       "    <tr>\n",
       "      <th>5568</th>\n",
       "      <td>ham</td>\n",
       "      <td>Will Ì_ b going to esplanade fr home?</td>\n",
       "      <td>NaN</td>\n",
       "      <td>NaN</td>\n",
       "      <td>NaN</td>\n",
       "    </tr>\n",
       "    <tr>\n",
       "      <th>5569</th>\n",
       "      <td>ham</td>\n",
       "      <td>Pity, * was in mood for that. So...any other s...</td>\n",
       "      <td>NaN</td>\n",
       "      <td>NaN</td>\n",
       "      <td>NaN</td>\n",
       "    </tr>\n",
       "    <tr>\n",
       "      <th>5570</th>\n",
       "      <td>ham</td>\n",
       "      <td>The guy did some bitching but I acted like i'd...</td>\n",
       "      <td>NaN</td>\n",
       "      <td>NaN</td>\n",
       "      <td>NaN</td>\n",
       "    </tr>\n",
       "    <tr>\n",
       "      <th>5571</th>\n",
       "      <td>ham</td>\n",
       "      <td>Rofl. Its true to its name</td>\n",
       "      <td>NaN</td>\n",
       "      <td>NaN</td>\n",
       "      <td>NaN</td>\n",
       "    </tr>\n",
       "  </tbody>\n",
       "</table>\n",
       "<p>5572 rows × 5 columns</p>\n",
       "</div>"
      ],
      "text/plain": [
       "        v1                                                 v2 Unnamed: 2  \\\n",
       "0      ham  Go until jurong point, crazy.. Available only ...        NaN   \n",
       "1      ham                      Ok lar... Joking wif u oni...        NaN   \n",
       "2     spam  Free entry in 2 a wkly comp to win FA Cup fina...        NaN   \n",
       "3      ham  U dun say so early hor... U c already then say...        NaN   \n",
       "4      ham  Nah I don't think he goes to usf, he lives aro...        NaN   \n",
       "...    ...                                                ...        ...   \n",
       "5567  spam  This is the 2nd time we have tried 2 contact u...        NaN   \n",
       "5568   ham              Will Ì_ b going to esplanade fr home?        NaN   \n",
       "5569   ham  Pity, * was in mood for that. So...any other s...        NaN   \n",
       "5570   ham  The guy did some bitching but I acted like i'd...        NaN   \n",
       "5571   ham                         Rofl. Its true to its name        NaN   \n",
       "\n",
       "     Unnamed: 3 Unnamed: 4  \n",
       "0           NaN        NaN  \n",
       "1           NaN        NaN  \n",
       "2           NaN        NaN  \n",
       "3           NaN        NaN  \n",
       "4           NaN        NaN  \n",
       "...         ...        ...  \n",
       "5567        NaN        NaN  \n",
       "5568        NaN        NaN  \n",
       "5569        NaN        NaN  \n",
       "5570        NaN        NaN  \n",
       "5571        NaN        NaN  \n",
       "\n",
       "[5572 rows x 5 columns]"
      ]
     },
     "execution_count": 76,
     "metadata": {},
     "output_type": "execute_result"
    }
   ],
   "source": [
    "df = pd.read_csv(r\"C:\\Users\\krish\\Downloads\\spam.csv\",encoding='latin',on_bad_lines='skip') \n",
    "df"
   ]
  },
  {
   "cell_type": "markdown",
   "id": "36b096cb-3f3b-44a4-9ac3-f88c28078121",
   "metadata": {},
   "source": [
    "# out of the memory  Error "
   ]
  },
  {
   "cell_type": "code",
   "execution_count": 74,
   "id": "158196f7-19bf-48eb-9ee4-f9052af51f9e",
   "metadata": {},
   "outputs": [
    {
     "data": {
      "text/plain": [
       "<pandas.io.parsers.readers.TextFileReader at 0x251fdd14c20>"
      ]
     },
     "execution_count": 74,
     "metadata": {},
     "output_type": "execute_result"
    }
   ],
   "source": [
    "df = pd.read_csv(r\"C:\\Users\\krish\\Downloads\\spam.csv\",encoding='latin',on_bad_lines='skip',chunksize=100) \n",
    "df # [[],[],[].....]"
   ]
  },
  {
   "cell_type": "code",
   "execution_count": 81,
   "id": "026413cd-d3c2-4d14-b362-873a6a30cf21",
   "metadata": {},
   "outputs": [
    {
     "name": "stdout",
     "output_type": "stream",
     "text": [
      "(100, 5)\n",
      "____________________________________________________________________________________________________\n",
      "(100, 5)\n",
      "____________________________________________________________________________________________________\n",
      "(100, 5)\n",
      "____________________________________________________________________________________________________\n",
      "(100, 5)\n",
      "____________________________________________________________________________________________________\n",
      "(100, 5)\n",
      "____________________________________________________________________________________________________\n",
      "(100, 5)\n",
      "____________________________________________________________________________________________________\n",
      "(100, 5)\n",
      "____________________________________________________________________________________________________\n",
      "(100, 5)\n",
      "____________________________________________________________________________________________________\n",
      "(100, 5)\n",
      "____________________________________________________________________________________________________\n",
      "(100, 5)\n",
      "____________________________________________________________________________________________________\n",
      "(100, 5)\n",
      "____________________________________________________________________________________________________\n",
      "(100, 5)\n",
      "____________________________________________________________________________________________________\n",
      "(100, 5)\n",
      "____________________________________________________________________________________________________\n",
      "(100, 5)\n",
      "____________________________________________________________________________________________________\n",
      "(100, 5)\n",
      "____________________________________________________________________________________________________\n",
      "(100, 5)\n",
      "____________________________________________________________________________________________________\n",
      "(100, 5)\n",
      "____________________________________________________________________________________________________\n",
      "(100, 5)\n",
      "____________________________________________________________________________________________________\n",
      "(100, 5)\n",
      "____________________________________________________________________________________________________\n",
      "(100, 5)\n",
      "____________________________________________________________________________________________________\n",
      "(100, 5)\n",
      "____________________________________________________________________________________________________\n",
      "(100, 5)\n",
      "____________________________________________________________________________________________________\n",
      "(100, 5)\n",
      "____________________________________________________________________________________________________\n",
      "(100, 5)\n",
      "____________________________________________________________________________________________________\n",
      "(100, 5)\n",
      "____________________________________________________________________________________________________\n",
      "(100, 5)\n",
      "____________________________________________________________________________________________________\n",
      "(100, 5)\n",
      "____________________________________________________________________________________________________\n",
      "(100, 5)\n",
      "____________________________________________________________________________________________________\n",
      "(100, 5)\n",
      "____________________________________________________________________________________________________\n",
      "(100, 5)\n",
      "____________________________________________________________________________________________________\n",
      "(100, 5)\n",
      "____________________________________________________________________________________________________\n",
      "(100, 5)\n",
      "____________________________________________________________________________________________________\n",
      "(100, 5)\n",
      "____________________________________________________________________________________________________\n",
      "(100, 5)\n",
      "____________________________________________________________________________________________________\n",
      "(100, 5)\n",
      "____________________________________________________________________________________________________\n",
      "(100, 5)\n",
      "____________________________________________________________________________________________________\n",
      "(100, 5)\n",
      "____________________________________________________________________________________________________\n",
      "(100, 5)\n",
      "____________________________________________________________________________________________________\n",
      "(100, 5)\n",
      "____________________________________________________________________________________________________\n",
      "(100, 5)\n",
      "____________________________________________________________________________________________________\n",
      "(100, 5)\n",
      "____________________________________________________________________________________________________\n",
      "(100, 5)\n",
      "____________________________________________________________________________________________________\n",
      "(100, 5)\n",
      "____________________________________________________________________________________________________\n",
      "(100, 5)\n",
      "____________________________________________________________________________________________________\n",
      "(100, 5)\n",
      "____________________________________________________________________________________________________\n",
      "(100, 5)\n",
      "____________________________________________________________________________________________________\n",
      "(100, 5)\n",
      "____________________________________________________________________________________________________\n",
      "(100, 5)\n",
      "____________________________________________________________________________________________________\n",
      "(100, 5)\n",
      "____________________________________________________________________________________________________\n",
      "(100, 5)\n",
      "____________________________________________________________________________________________________\n",
      "(100, 5)\n",
      "____________________________________________________________________________________________________\n",
      "(100, 5)\n",
      "____________________________________________________________________________________________________\n",
      "(100, 5)\n",
      "____________________________________________________________________________________________________\n",
      "(100, 5)\n",
      "____________________________________________________________________________________________________\n",
      "(100, 5)\n",
      "____________________________________________________________________________________________________\n",
      "(72, 5)\n",
      "____________________________________________________________________________________________________\n"
     ]
    }
   ],
   "source": [
    "files= pd.read_csv(r\"C:\\Users\\krish\\Downloads\\spam.csv\",encoding='latin',on_bad_lines='skip',chunksize=100)  \n",
    "c = 0 \n",
    "for chunks in files: \n",
    "    print(chunks.shape) \n",
    "    print('__'*50) \n",
    "    c+=1\n"
   ]
  },
  {
   "cell_type": "code",
   "execution_count": 83,
   "id": "5f0d9290-3055-44c3-bc0e-6765d1aa1169",
   "metadata": {},
   "outputs": [
    {
     "data": {
      "text/plain": [
       "56"
      ]
     },
     "execution_count": 83,
     "metadata": {},
     "output_type": "execute_result"
    }
   ],
   "source": [
    "c"
   ]
  },
  {
   "cell_type": "markdown",
   "id": "4d17b5b9-7a01-4021-88ce-afc3ada69791",
   "metadata": {},
   "source": [
    "# `polar` \n",
    "-  same as pandas but 100 times fater than pandas in data loading"
   ]
  },
  {
   "cell_type": "code",
   "execution_count": 49,
   "id": "d1e74330-0420-46c2-9ac9-ebeeb37cd23e",
   "metadata": {},
   "outputs": [
    {
     "name": "stdout",
     "output_type": "stream",
     "text": [
      "Requirement already satisfied: polars in c:\\users\\krish\\anaconda3\\lib\\site-packages (1.14.0)\n"
     ]
    }
   ],
   "source": [
    "!pip install polars"
   ]
  },
  {
   "cell_type": "code",
   "execution_count": 51,
   "id": "c4e72b3e-cb84-4b59-ba64-1a529b854807",
   "metadata": {},
   "outputs": [],
   "source": [
    "import polars"
   ]
  },
  {
   "cell_type": "code",
   "execution_count": 108,
   "id": "084c5092-9c61-463b-879c-a98e6dc2d3e5",
   "metadata": {},
   "outputs": [],
   "source": [
    "import time\n",
    "x = time.time()\n",
    "df = pd.read_csv(r\"C:\\Users\\krish\\Downloads\\spam.csv\",encoding='latin',on_bad_lines='skip')  \n",
    "y = time.time() "
   ]
  },
  {
   "cell_type": "code",
   "execution_count": 110,
   "id": "3d5847ef-0411-42c0-a43a-416768303692",
   "metadata": {},
   "outputs": [
    {
     "data": {
      "text/plain": [
       "0.02528834342956543"
      ]
     },
     "execution_count": 110,
     "metadata": {},
     "output_type": "execute_result"
    }
   ],
   "source": [
    "y-x"
   ]
  },
  {
   "cell_type": "code",
   "execution_count": null,
   "id": "4b6a9020-ec90-4200-b6c3-77931938ba1a",
   "metadata": {},
   "outputs": [],
   "source": [
    "import time\n",
    "x = time.time()\n",
    "df = polar.read_csv(r\"C:\\Users\\krish\\Downloads\\spam.csv\",encoding='latin',on_bad_lines='skip')  \n",
    "y = time.time() "
   ]
  },
  {
   "cell_type": "code",
   "execution_count": null,
   "id": "7c312594-1cfc-40d7-ac39-6ac25de14b59",
   "metadata": {},
   "outputs": [],
   "source": [
    "y-x"
   ]
  },
  {
   "cell_type": "markdown",
   "id": "412be7ab-ee26-4fac-ad96-3c69f4dd127f",
   "metadata": {},
   "source": [
    "# df to csv\n",
    "- Always use exclusive mode (`mode = 'x'`)"
   ]
  },
  {
   "cell_type": "markdown",
   "id": "b2b671c0-8563-4a3b-97bb-4ab8306229cc",
   "metadata": {},
   "source": [
    "#  `EXCEL`  \n",
    "## `IS ACOLLECTION OF MULTIPLE SHEETS(SCV) IN ASINGLE FILE FORMAT IS KNOWN AS XLSL` \n",
    "- WE DONT HAVE THE ERROR OF\n",
    "  - PARSE ERROR\n",
    "  - UNICODE ERRROR"
   ]
  },
  {
   "cell_type": "code",
   "execution_count": 121,
   "id": "64888bb5-409c-43a3-ae0e-c53150a29bad",
   "metadata": {},
   "outputs": [],
   "source": [
    "df[['v1','v2']].to_csv(r\"C:\\Users\\krish\\Downloads\\spam1.csv\",mode='x')"
   ]
  },
  {
   "cell_type": "code",
   "execution_count": null,
   "id": "5f41240c-f13f-4eb4-8366-fefdf0612947",
   "metadata": {},
   "outputs": [],
   "source": [
    "df = pd.read_excel(r'')# "
   ]
  },
  {
   "cell_type": "markdown",
   "id": "a8ba3447-852d-4359-98b9-f47dcc4451c4",
   "metadata": {},
   "source": [
    "# dataframe to excel sheet"
   ]
  },
  {
   "cell_type": "code",
   "execution_count": 21,
   "id": "4602d46b-cfa5-4eea-b805-b66710487bfa",
   "metadata": {},
   "outputs": [
    {
     "data": {
      "text/html": [
       "<div>\n",
       "<style scoped>\n",
       "    .dataframe tbody tr th:only-of-type {\n",
       "        vertical-align: middle;\n",
       "    }\n",
       "\n",
       "    .dataframe tbody tr th {\n",
       "        vertical-align: top;\n",
       "    }\n",
       "\n",
       "    .dataframe thead th {\n",
       "        text-align: right;\n",
       "    }\n",
       "</style>\n",
       "<table border=\"1\" class=\"dataframe\">\n",
       "  <thead>\n",
       "    <tr style=\"text-align: right;\">\n",
       "      <th></th>\n",
       "      <th>1</th>\n",
       "      <th>aa</th>\n",
       "    </tr>\n",
       "  </thead>\n",
       "  <tbody>\n",
       "    <tr>\n",
       "      <th>0</th>\n",
       "      <td>2</td>\n",
       "      <td>aa</td>\n",
       "    </tr>\n",
       "    <tr>\n",
       "      <th>1</th>\n",
       "      <td>3</td>\n",
       "      <td>aa</td>\n",
       "    </tr>\n",
       "    <tr>\n",
       "      <th>2</th>\n",
       "      <td>4</td>\n",
       "      <td>aa</td>\n",
       "    </tr>\n",
       "    <tr>\n",
       "      <th>3</th>\n",
       "      <td>5</td>\n",
       "      <td>aa</td>\n",
       "    </tr>\n",
       "  </tbody>\n",
       "</table>\n",
       "</div>"
      ],
      "text/plain": [
       "   1  aa\n",
       "0  2  aa\n",
       "1  3  aa\n",
       "2  4  aa\n",
       "3  5  aa"
      ]
     },
     "execution_count": 21,
     "metadata": {},
     "output_type": "execute_result"
    }
   ],
   "source": [
    "df1 = pd.read_excel(r\"C:\\Users\\krish\\Downloads\\boosheet.xlsx\") #by defult opens only one sheet \n",
    "df1"
   ]
  },
  {
   "cell_type": "code",
   "execution_count": 29,
   "id": "b59588af-eb6b-4146-ada1-d43c94ff8094",
   "metadata": {},
   "outputs": [],
   "source": [
    "df1 = pd.read_excel(r\"C:\\Users\\krish\\Downloads\\boosheet.xlsx\",sheet_name=[0,1,2]) #by defult opens only one sheet  \n",
    "# its acts like dictionary "
   ]
  },
  {
   "cell_type": "code",
   "execution_count": 27,
   "id": "7c7addaa-ab47-480f-be83-2cb20cc59809",
   "metadata": {},
   "outputs": [
    {
     "data": {
      "text/plain": [
       "{0:    1  aa\n",
       " 0  2  aa\n",
       " 1  3  aa\n",
       " 2  4  aa\n",
       " 3  5  aa,\n",
       " 1:    22  bb\n",
       " 0  23  bb\n",
       " 1  24  bb\n",
       " 2  25  bb\n",
       " 3  26  bb\n",
       " 4  27  bb,\n",
       " 2:    56  cc\n",
       " 0  57  cc\n",
       " 1  58  cc\n",
       " 2  59  cc\n",
       " 3  60  cc\n",
       " 4  61  cc}"
      ]
     },
     "execution_count": 27,
     "metadata": {},
     "output_type": "execute_result"
    }
   ],
   "source": [
    "df1"
   ]
  },
  {
   "cell_type": "code",
   "execution_count": 33,
   "id": "af4b10d5-ef71-456d-9be6-6c8612bc4a73",
   "metadata": {},
   "outputs": [
    {
     "data": {
      "text/html": [
       "<div>\n",
       "<style scoped>\n",
       "    .dataframe tbody tr th:only-of-type {\n",
       "        vertical-align: middle;\n",
       "    }\n",
       "\n",
       "    .dataframe tbody tr th {\n",
       "        vertical-align: top;\n",
       "    }\n",
       "\n",
       "    .dataframe thead th {\n",
       "        text-align: right;\n",
       "    }\n",
       "</style>\n",
       "<table border=\"1\" class=\"dataframe\">\n",
       "  <thead>\n",
       "    <tr style=\"text-align: right;\">\n",
       "      <th></th>\n",
       "      <th>1</th>\n",
       "      <th>aa</th>\n",
       "    </tr>\n",
       "  </thead>\n",
       "  <tbody>\n",
       "    <tr>\n",
       "      <th>0</th>\n",
       "      <td>2</td>\n",
       "      <td>aa</td>\n",
       "    </tr>\n",
       "    <tr>\n",
       "      <th>1</th>\n",
       "      <td>3</td>\n",
       "      <td>aa</td>\n",
       "    </tr>\n",
       "    <tr>\n",
       "      <th>2</th>\n",
       "      <td>4</td>\n",
       "      <td>aa</td>\n",
       "    </tr>\n",
       "    <tr>\n",
       "      <th>3</th>\n",
       "      <td>5</td>\n",
       "      <td>aa</td>\n",
       "    </tr>\n",
       "  </tbody>\n",
       "</table>\n",
       "</div>"
      ],
      "text/plain": [
       "   1  aa\n",
       "0  2  aa\n",
       "1  3  aa\n",
       "2  4  aa\n",
       "3  5  aa"
      ]
     },
     "execution_count": 33,
     "metadata": {},
     "output_type": "execute_result"
    }
   ],
   "source": [
    "df1[0]"
   ]
  },
  {
   "cell_type": "code",
   "execution_count": 35,
   "id": "ebd319c2-f9ae-4895-bc42-70a607f350d5",
   "metadata": {},
   "outputs": [
    {
     "data": {
      "text/html": [
       "<div>\n",
       "<style scoped>\n",
       "    .dataframe tbody tr th:only-of-type {\n",
       "        vertical-align: middle;\n",
       "    }\n",
       "\n",
       "    .dataframe tbody tr th {\n",
       "        vertical-align: top;\n",
       "    }\n",
       "\n",
       "    .dataframe thead th {\n",
       "        text-align: right;\n",
       "    }\n",
       "</style>\n",
       "<table border=\"1\" class=\"dataframe\">\n",
       "  <thead>\n",
       "    <tr style=\"text-align: right;\">\n",
       "      <th></th>\n",
       "      <th>22</th>\n",
       "      <th>bb</th>\n",
       "    </tr>\n",
       "  </thead>\n",
       "  <tbody>\n",
       "    <tr>\n",
       "      <th>0</th>\n",
       "      <td>23</td>\n",
       "      <td>bb</td>\n",
       "    </tr>\n",
       "    <tr>\n",
       "      <th>1</th>\n",
       "      <td>24</td>\n",
       "      <td>bb</td>\n",
       "    </tr>\n",
       "    <tr>\n",
       "      <th>2</th>\n",
       "      <td>25</td>\n",
       "      <td>bb</td>\n",
       "    </tr>\n",
       "    <tr>\n",
       "      <th>3</th>\n",
       "      <td>26</td>\n",
       "      <td>bb</td>\n",
       "    </tr>\n",
       "    <tr>\n",
       "      <th>4</th>\n",
       "      <td>27</td>\n",
       "      <td>bb</td>\n",
       "    </tr>\n",
       "  </tbody>\n",
       "</table>\n",
       "</div>"
      ],
      "text/plain": [
       "   22  bb\n",
       "0  23  bb\n",
       "1  24  bb\n",
       "2  25  bb\n",
       "3  26  bb\n",
       "4  27  bb"
      ]
     },
     "execution_count": 35,
     "metadata": {},
     "output_type": "execute_result"
    }
   ],
   "source": [
    "df1[1]"
   ]
  },
  {
   "cell_type": "code",
   "execution_count": 39,
   "id": "602ed7c4-b47e-4a0e-90be-9e8aabf7abcf",
   "metadata": {},
   "outputs": [
    {
     "data": {
      "text/html": [
       "<div>\n",
       "<style scoped>\n",
       "    .dataframe tbody tr th:only-of-type {\n",
       "        vertical-align: middle;\n",
       "    }\n",
       "\n",
       "    .dataframe tbody tr th {\n",
       "        vertical-align: top;\n",
       "    }\n",
       "\n",
       "    .dataframe thead th {\n",
       "        text-align: right;\n",
       "    }\n",
       "</style>\n",
       "<table border=\"1\" class=\"dataframe\">\n",
       "  <thead>\n",
       "    <tr style=\"text-align: right;\">\n",
       "      <th></th>\n",
       "      <th>56</th>\n",
       "      <th>cc</th>\n",
       "    </tr>\n",
       "  </thead>\n",
       "  <tbody>\n",
       "    <tr>\n",
       "      <th>0</th>\n",
       "      <td>57</td>\n",
       "      <td>cc</td>\n",
       "    </tr>\n",
       "    <tr>\n",
       "      <th>1</th>\n",
       "      <td>58</td>\n",
       "      <td>cc</td>\n",
       "    </tr>\n",
       "    <tr>\n",
       "      <th>2</th>\n",
       "      <td>59</td>\n",
       "      <td>cc</td>\n",
       "    </tr>\n",
       "    <tr>\n",
       "      <th>3</th>\n",
       "      <td>60</td>\n",
       "      <td>cc</td>\n",
       "    </tr>\n",
       "    <tr>\n",
       "      <th>4</th>\n",
       "      <td>61</td>\n",
       "      <td>cc</td>\n",
       "    </tr>\n",
       "  </tbody>\n",
       "</table>\n",
       "</div>"
      ],
      "text/plain": [
       "   56  cc\n",
       "0  57  cc\n",
       "1  58  cc\n",
       "2  59  cc\n",
       "3  60  cc\n",
       "4  61  cc"
      ]
     },
     "execution_count": 39,
     "metadata": {},
     "output_type": "execute_result"
    }
   ],
   "source": [
    "df1[2]"
   ]
  },
  {
   "cell_type": "markdown",
   "id": "4440e879-e6e3-41ac-bc39-8a85609eb6ed",
   "metadata": {},
   "source": [
    "# `conversion of data `\n",
    "#### frame to excel when when we multiple work shets in single file"
   ]
  },
  {
   "cell_type": "code",
   "execution_count": 61,
   "id": "92a26509-1053-4214-90d3-c8b3830e48d6",
   "metadata": {},
   "outputs": [],
   "source": [
    "\n",
    "with pd.ExcelWriter(r\"C:\\Users\\krish\\Downloads\\booksheet1.xlsx\") as f : \n",
    "    df1[0].to_excel(f,sheet_name ='stu_info1') \n",
    "    df1[1].to_excel(f,sheet_name ='stu_info2')\n",
    "    df1[2].to_excel(f,sheet_name ='stu_info3')"
   ]
  },
  {
   "cell_type": "markdown",
   "id": "08e3883c-3100-4f53-bcb2-1428a67ad584",
   "metadata": {},
   "source": [
    "# `json` and `xml` are yhe ouput of the ApI  \n",
    "- json =  javascript object notation\n",
    "- the format of json is dictionary"
   ]
  },
  {
   "cell_type": "markdown",
   "id": "14b3d5e5-8989-4730-a9cb-4eb8c843b8c0",
   "metadata": {},
   "source": [
    "# `json to df`"
   ]
  },
  {
   "cell_type": "code",
   "execution_count": 121,
   "id": "ba2a348b-9e9b-4728-ac3b-af87ca297df3",
   "metadata": {},
   "outputs": [],
   "source": [
    "x = '{\"Name\":[\"p1\",\"p2\"],\"age\":[23,24]}'\n",
    "# key should be string "
   ]
  },
  {
   "cell_type": "code",
   "execution_count": 117,
   "id": "51c3506c-16e5-40cb-95c9-2431aea737f5",
   "metadata": {},
   "outputs": [
    {
     "name": "stderr",
     "output_type": "stream",
     "text": [
      "C:\\Users\\krish\\AppData\\Local\\Temp\\ipykernel_25620\\390332263.py:1: FutureWarning: Passing literal json to 'read_json' is deprecated and will be removed in a future version. To read from a literal string, wrap it in a 'StringIO' object.\n",
      "  json_df = pd.read_json(x)\n"
     ]
    }
   ],
   "source": [
    "json_df = pd.read_json(x)"
   ]
  },
  {
   "cell_type": "code",
   "execution_count": 102,
   "id": "92b6fa17-8aab-477f-92ff-29ac53a0139b",
   "metadata": {},
   "outputs": [],
   "source": [
    "x = '{1:[\"p1\",\"p2\"],2:[23,24]}'\n",
    "# key should be string "
   ]
  },
  {
   "cell_type": "code",
   "execution_count": 125,
   "id": "4a92a891-9994-4925-a0a3-b189424790bf",
   "metadata": {},
   "outputs": [
    {
     "name": "stderr",
     "output_type": "stream",
     "text": [
      "C:\\Users\\krish\\AppData\\Local\\Temp\\ipykernel_25620\\3219253177.py:1: FutureWarning: Passing literal json to 'read_json' is deprecated and will be removed in a future version. To read from a literal string, wrap it in a 'StringIO' object.\n",
      "  pd.read_json(x)\n"
     ]
    },
    {
     "data": {
      "text/html": [
       "<div>\n",
       "<style scoped>\n",
       "    .dataframe tbody tr th:only-of-type {\n",
       "        vertical-align: middle;\n",
       "    }\n",
       "\n",
       "    .dataframe tbody tr th {\n",
       "        vertical-align: top;\n",
       "    }\n",
       "\n",
       "    .dataframe thead th {\n",
       "        text-align: right;\n",
       "    }\n",
       "</style>\n",
       "<table border=\"1\" class=\"dataframe\">\n",
       "  <thead>\n",
       "    <tr style=\"text-align: right;\">\n",
       "      <th></th>\n",
       "      <th>Name</th>\n",
       "      <th>age</th>\n",
       "    </tr>\n",
       "  </thead>\n",
       "  <tbody>\n",
       "    <tr>\n",
       "      <th>0</th>\n",
       "      <td>p1</td>\n",
       "      <td>23</td>\n",
       "    </tr>\n",
       "    <tr>\n",
       "      <th>1</th>\n",
       "      <td>p2</td>\n",
       "      <td>24</td>\n",
       "    </tr>\n",
       "  </tbody>\n",
       "</table>\n",
       "</div>"
      ],
      "text/plain": [
       "  Name  age\n",
       "0   p1   23\n",
       "1   p2   24"
      ]
     },
     "execution_count": 125,
     "metadata": {},
     "output_type": "execute_result"
    }
   ],
   "source": [
    "pd.read_json(x)\n"
   ]
  },
  {
   "cell_type": "markdown",
   "id": "6d38eb0d-de9a-4b62-bdcf-8661252fc10e",
   "metadata": {},
   "source": [
    "# strutures of json \n",
    "- orien = 'index'"
   ]
  },
  {
   "cell_type": "markdown",
   "id": "c9127a3a-156b-4dce-862f-9c129aa68c31",
   "metadata": {},
   "source": [
    "#  `df to json`"
   ]
  },
  {
   "cell_type": "markdown",
   "id": "6e58ba7e-d55e-400b-86a9-21b54bd1d678",
   "metadata": {},
   "source": [
    "# ` case- 1`"
   ]
  },
  {
   "cell_type": "code",
   "execution_count": 140,
   "id": "60eb5104-6e8f-4a67-a1ce-49842ed6047c",
   "metadata": {},
   "outputs": [
    {
     "data": {
      "text/plain": [
       "'{\"0\":{\"Name\":\"p1\",\"age\":23},\"1\":{\"Name\":\"p2\",\"age\":24}}'"
      ]
     },
     "execution_count": 140,
     "metadata": {},
     "output_type": "execute_result"
    }
   ],
   "source": [
    "x1 = json_df.to_json(orient='index') \n",
    "x1"
   ]
  },
  {
   "cell_type": "code",
   "execution_count": 142,
   "id": "f28a4ff0-e56c-48f5-a05f-a76330143ac9",
   "metadata": {},
   "outputs": [
    {
     "name": "stderr",
     "output_type": "stream",
     "text": [
      "C:\\Users\\krish\\AppData\\Local\\Temp\\ipykernel_25620\\258631173.py:1: FutureWarning: Passing literal json to 'read_json' is deprecated and will be removed in a future version. To read from a literal string, wrap it in a 'StringIO' object.\n",
      "  pd.read_json(json_file,orient='index')\n"
     ]
    },
    {
     "data": {
      "text/html": [
       "<div>\n",
       "<style scoped>\n",
       "    .dataframe tbody tr th:only-of-type {\n",
       "        vertical-align: middle;\n",
       "    }\n",
       "\n",
       "    .dataframe tbody tr th {\n",
       "        vertical-align: top;\n",
       "    }\n",
       "\n",
       "    .dataframe thead th {\n",
       "        text-align: right;\n",
       "    }\n",
       "</style>\n",
       "<table border=\"1\" class=\"dataframe\">\n",
       "  <thead>\n",
       "    <tr style=\"text-align: right;\">\n",
       "      <th></th>\n",
       "      <th>Name</th>\n",
       "      <th>age</th>\n",
       "    </tr>\n",
       "  </thead>\n",
       "  <tbody>\n",
       "    <tr>\n",
       "      <th>0</th>\n",
       "      <td>p1</td>\n",
       "      <td>23</td>\n",
       "    </tr>\n",
       "    <tr>\n",
       "      <th>1</th>\n",
       "      <td>p2</td>\n",
       "      <td>24</td>\n",
       "    </tr>\n",
       "  </tbody>\n",
       "</table>\n",
       "</div>"
      ],
      "text/plain": [
       "  Name  age\n",
       "0   p1   23\n",
       "1   p2   24"
      ]
     },
     "execution_count": 142,
     "metadata": {},
     "output_type": "execute_result"
    }
   ],
   "source": [
    "pd.read_json(json_file,orient='index')"
   ]
  },
  {
   "cell_type": "markdown",
   "id": "3238a31f-0995-478c-86ff-10a65499b8ea",
   "metadata": {},
   "source": [
    "# `case -2`"
   ]
  },
  {
   "cell_type": "code",
   "execution_count": 146,
   "id": "f693bcf0-f4b6-4c99-9b05-2403e56bcb91",
   "metadata": {},
   "outputs": [
    {
     "data": {
      "text/plain": [
       "'{\"Name\":{\"0\":\"p1\",\"1\":\"p2\"},\"age\":{\"0\":23,\"1\":24}}'"
      ]
     },
     "execution_count": 146,
     "metadata": {},
     "output_type": "execute_result"
    }
   ],
   "source": [
    "x2= json_df.to_json(orient='columns') \n",
    "x2"
   ]
  },
  {
   "cell_type": "code",
   "execution_count": 170,
   "id": "706372e8-1679-487a-9b28-373e36d5efe8",
   "metadata": {
    "scrolled": true
   },
   "outputs": [
    {
     "name": "stderr",
     "output_type": "stream",
     "text": [
      "C:\\Users\\krish\\AppData\\Local\\Temp\\ipykernel_25620\\409509128.py:1: FutureWarning: Passing literal json to 'read_json' is deprecated and will be removed in a future version. To read from a literal string, wrap it in a 'StringIO' object.\n",
      "  pd.read_json(x2,orient='index') # in json file we change to index as column name\n"
     ]
    },
    {
     "data": {
      "text/html": [
       "<div>\n",
       "<style scoped>\n",
       "    .dataframe tbody tr th:only-of-type {\n",
       "        vertical-align: middle;\n",
       "    }\n",
       "\n",
       "    .dataframe tbody tr th {\n",
       "        vertical-align: top;\n",
       "    }\n",
       "\n",
       "    .dataframe thead th {\n",
       "        text-align: right;\n",
       "    }\n",
       "</style>\n",
       "<table border=\"1\" class=\"dataframe\">\n",
       "  <thead>\n",
       "    <tr style=\"text-align: right;\">\n",
       "      <th></th>\n",
       "      <th>0</th>\n",
       "      <th>1</th>\n",
       "    </tr>\n",
       "  </thead>\n",
       "  <tbody>\n",
       "    <tr>\n",
       "      <th>Name</th>\n",
       "      <td>p1</td>\n",
       "      <td>p2</td>\n",
       "    </tr>\n",
       "    <tr>\n",
       "      <th>age</th>\n",
       "      <td>23</td>\n",
       "      <td>24</td>\n",
       "    </tr>\n",
       "  </tbody>\n",
       "</table>\n",
       "</div>"
      ],
      "text/plain": [
       "       0   1\n",
       "Name  p1  p2\n",
       "age   23  24"
      ]
     },
     "execution_count": 170,
     "metadata": {},
     "output_type": "execute_result"
    }
   ],
   "source": [
    "pd.read_json(x2,orient='index') # in json file we change to index as column name "
   ]
  },
  {
   "cell_type": "markdown",
   "id": "128185fd-6bed-440d-a14f-ed8ba684922e",
   "metadata": {},
   "source": [
    "# "
   ]
  },
  {
   "cell_type": "code",
   "execution_count": 153,
   "id": "cd0db901-b6f8-4241-ae36-cf020f6f7872",
   "metadata": {},
   "outputs": [
    {
     "name": "stderr",
     "output_type": "stream",
     "text": [
      "C:\\Users\\krish\\AppData\\Local\\Temp\\ipykernel_25620\\3923554702.py:1: FutureWarning: Passing literal json to 'read_json' is deprecated and will be removed in a future version. To read from a literal string, wrap it in a 'StringIO' object.\n",
      "  pd.read_json(x2,orient='columns')\n"
     ]
    },
    {
     "data": {
      "text/html": [
       "<div>\n",
       "<style scoped>\n",
       "    .dataframe tbody tr th:only-of-type {\n",
       "        vertical-align: middle;\n",
       "    }\n",
       "\n",
       "    .dataframe tbody tr th {\n",
       "        vertical-align: top;\n",
       "    }\n",
       "\n",
       "    .dataframe thead th {\n",
       "        text-align: right;\n",
       "    }\n",
       "</style>\n",
       "<table border=\"1\" class=\"dataframe\">\n",
       "  <thead>\n",
       "    <tr style=\"text-align: right;\">\n",
       "      <th></th>\n",
       "      <th>Name</th>\n",
       "      <th>age</th>\n",
       "    </tr>\n",
       "  </thead>\n",
       "  <tbody>\n",
       "    <tr>\n",
       "      <th>0</th>\n",
       "      <td>p1</td>\n",
       "      <td>23</td>\n",
       "    </tr>\n",
       "    <tr>\n",
       "      <th>1</th>\n",
       "      <td>p2</td>\n",
       "      <td>24</td>\n",
       "    </tr>\n",
       "  </tbody>\n",
       "</table>\n",
       "</div>"
      ],
      "text/plain": [
       "  Name  age\n",
       "0   p1   23\n",
       "1   p2   24"
      ]
     },
     "execution_count": 153,
     "metadata": {},
     "output_type": "execute_result"
    }
   ],
   "source": [
    "pd.read_json(x2,orient='columns')"
   ]
  },
  {
   "cell_type": "markdown",
   "id": "bd671ca5-6501-418a-8373-530e2256ca65",
   "metadata": {},
   "source": [
    "#  `case - 3`"
   ]
  },
  {
   "cell_type": "code",
   "execution_count": 159,
   "id": "6ed8de2b-298b-4eff-95e4-4bb9febb9902",
   "metadata": {},
   "outputs": [
    {
     "data": {
      "text/plain": [
       "'[[\"p1\",23],[\"p2\",24]]'"
      ]
     },
     "execution_count": 159,
     "metadata": {},
     "output_type": "execute_result"
    }
   ],
   "source": [
    "x3 = json_df.to_json(orient='values') \n",
    "x3"
   ]
  },
  {
   "cell_type": "code",
   "execution_count": 161,
   "id": "faf4450b-1d7a-412f-8b66-1f05991828f4",
   "metadata": {},
   "outputs": [
    {
     "name": "stderr",
     "output_type": "stream",
     "text": [
      "C:\\Users\\krish\\AppData\\Local\\Temp\\ipykernel_25620\\3992187492.py:1: FutureWarning: Passing literal json to 'read_json' is deprecated and will be removed in a future version. To read from a literal string, wrap it in a 'StringIO' object.\n",
      "  pd.read_json(x3)\n"
     ]
    },
    {
     "data": {
      "text/html": [
       "<div>\n",
       "<style scoped>\n",
       "    .dataframe tbody tr th:only-of-type {\n",
       "        vertical-align: middle;\n",
       "    }\n",
       "\n",
       "    .dataframe tbody tr th {\n",
       "        vertical-align: top;\n",
       "    }\n",
       "\n",
       "    .dataframe thead th {\n",
       "        text-align: right;\n",
       "    }\n",
       "</style>\n",
       "<table border=\"1\" class=\"dataframe\">\n",
       "  <thead>\n",
       "    <tr style=\"text-align: right;\">\n",
       "      <th></th>\n",
       "      <th>0</th>\n",
       "      <th>1</th>\n",
       "    </tr>\n",
       "  </thead>\n",
       "  <tbody>\n",
       "    <tr>\n",
       "      <th>0</th>\n",
       "      <td>p1</td>\n",
       "      <td>23</td>\n",
       "    </tr>\n",
       "    <tr>\n",
       "      <th>1</th>\n",
       "      <td>p2</td>\n",
       "      <td>24</td>\n",
       "    </tr>\n",
       "  </tbody>\n",
       "</table>\n",
       "</div>"
      ],
      "text/plain": [
       "    0   1\n",
       "0  p1  23\n",
       "1  p2  24"
      ]
     },
     "execution_count": 161,
     "metadata": {},
     "output_type": "execute_result"
    }
   ],
   "source": [
    " pd.read_json(x3)"
   ]
  },
  {
   "cell_type": "markdown",
   "id": "7ccc822b-45ed-43de-8f58-bf22535066da",
   "metadata": {},
   "source": [
    "# `case - 4 `"
   ]
  },
  {
   "cell_type": "code",
   "execution_count": 164,
   "id": "b31bfb2e-36da-4430-8e57-4655e851f606",
   "metadata": {},
   "outputs": [
    {
     "data": {
      "text/plain": [
       "'{\"columns\":[\"Name\",\"age\"],\"index\":[0,1],\"data\":[[\"p1\",23],[\"p2\",24]]}'"
      ]
     },
     "execution_count": 164,
     "metadata": {},
     "output_type": "execute_result"
    }
   ],
   "source": [
    "x4 = json_df.to_json(orient='split') \n",
    "x4"
   ]
  },
  {
   "cell_type": "code",
   "execution_count": 166,
   "id": "9e863882-d7fd-4a91-b58d-f3181689d6cf",
   "metadata": {},
   "outputs": [
    {
     "name": "stderr",
     "output_type": "stream",
     "text": [
      "C:\\Users\\krish\\AppData\\Local\\Temp\\ipykernel_25620\\279622128.py:1: FutureWarning: Passing literal json to 'read_json' is deprecated and will be removed in a future version. To read from a literal string, wrap it in a 'StringIO' object.\n",
      "  pd.read_json(x4)\n"
     ]
    },
    {
     "data": {
      "text/html": [
       "<div>\n",
       "<style scoped>\n",
       "    .dataframe tbody tr th:only-of-type {\n",
       "        vertical-align: middle;\n",
       "    }\n",
       "\n",
       "    .dataframe tbody tr th {\n",
       "        vertical-align: top;\n",
       "    }\n",
       "\n",
       "    .dataframe thead th {\n",
       "        text-align: right;\n",
       "    }\n",
       "</style>\n",
       "<table border=\"1\" class=\"dataframe\">\n",
       "  <thead>\n",
       "    <tr style=\"text-align: right;\">\n",
       "      <th></th>\n",
       "      <th>columns</th>\n",
       "      <th>index</th>\n",
       "      <th>data</th>\n",
       "    </tr>\n",
       "  </thead>\n",
       "  <tbody>\n",
       "    <tr>\n",
       "      <th>0</th>\n",
       "      <td>Name</td>\n",
       "      <td>0</td>\n",
       "      <td>[p1, 23]</td>\n",
       "    </tr>\n",
       "    <tr>\n",
       "      <th>1</th>\n",
       "      <td>age</td>\n",
       "      <td>1</td>\n",
       "      <td>[p2, 24]</td>\n",
       "    </tr>\n",
       "  </tbody>\n",
       "</table>\n",
       "</div>"
      ],
      "text/plain": [
       "  columns  index      data\n",
       "0    Name      0  [p1, 23]\n",
       "1     age      1  [p2, 24]"
      ]
     },
     "execution_count": 166,
     "metadata": {},
     "output_type": "execute_result"
    }
   ],
   "source": [
    "pd.read_json(x4)"
   ]
  },
  {
   "cell_type": "markdown",
   "id": "ece8d743-0f64-4d66-b441-4c77d200a598",
   "metadata": {},
   "source": [
    "# `unstructured json` "
   ]
  },
  {
   "cell_type": "code",
   "execution_count": 173,
   "id": "c4b9500e-1764-4148-8d7d-b88dc8455877",
   "metadata": {},
   "outputs": [],
   "source": [
    "x  = {\"name\":\"p1\",\"Mark\":{\"sem1\":{\"math\":20,\"hindi\":20},\"sem2\":{\"math\":57,\"hindi\":78}}} # json unstructured data "
   ]
  },
  {
   "cell_type": "code",
   "execution_count": 179,
   "id": "fa7ff5ee-8d01-4f46-bf89-c6cccf4aa207",
   "metadata": {},
   "outputs": [
    {
     "data": {
      "text/html": [
       "<div>\n",
       "<style scoped>\n",
       "    .dataframe tbody tr th:only-of-type {\n",
       "        vertical-align: middle;\n",
       "    }\n",
       "\n",
       "    .dataframe tbody tr th {\n",
       "        vertical-align: top;\n",
       "    }\n",
       "\n",
       "    .dataframe thead th {\n",
       "        text-align: right;\n",
       "    }\n",
       "</style>\n",
       "<table border=\"1\" class=\"dataframe\">\n",
       "  <thead>\n",
       "    <tr style=\"text-align: right;\">\n",
       "      <th></th>\n",
       "      <th>name</th>\n",
       "      <th>Mark</th>\n",
       "    </tr>\n",
       "  </thead>\n",
       "  <tbody>\n",
       "    <tr>\n",
       "      <th>0</th>\n",
       "      <td>p1</td>\n",
       "      <td>{'sem1': {'math': 20, 'hindi': 20}, 'sem2': {'...</td>\n",
       "    </tr>\n",
       "  </tbody>\n",
       "</table>\n",
       "</div>"
      ],
      "text/plain": [
       "  name                                               Mark\n",
       "0   p1  {'sem1': {'math': 20, 'hindi': 20}, 'sem2': {'..."
      ]
     },
     "execution_count": 179,
     "metadata": {},
     "output_type": "execute_result"
    }
   ],
   "source": [
    "pd.json_normalize(x,max_level=0)"
   ]
  },
  {
   "cell_type": "code",
   "execution_count": 181,
   "id": "a35f45bb-8c4e-408d-9261-bccab4b4b589",
   "metadata": {},
   "outputs": [
    {
     "data": {
      "text/html": [
       "<div>\n",
       "<style scoped>\n",
       "    .dataframe tbody tr th:only-of-type {\n",
       "        vertical-align: middle;\n",
       "    }\n",
       "\n",
       "    .dataframe tbody tr th {\n",
       "        vertical-align: top;\n",
       "    }\n",
       "\n",
       "    .dataframe thead th {\n",
       "        text-align: right;\n",
       "    }\n",
       "</style>\n",
       "<table border=\"1\" class=\"dataframe\">\n",
       "  <thead>\n",
       "    <tr style=\"text-align: right;\">\n",
       "      <th></th>\n",
       "      <th>name</th>\n",
       "      <th>Mark.sem1</th>\n",
       "      <th>Mark.sem2</th>\n",
       "    </tr>\n",
       "  </thead>\n",
       "  <tbody>\n",
       "    <tr>\n",
       "      <th>0</th>\n",
       "      <td>p1</td>\n",
       "      <td>{'math': 20, 'hindi': 20}</td>\n",
       "      <td>{'math': 57, 'hindi': 78}</td>\n",
       "    </tr>\n",
       "  </tbody>\n",
       "</table>\n",
       "</div>"
      ],
      "text/plain": [
       "  name                  Mark.sem1                  Mark.sem2\n",
       "0   p1  {'math': 20, 'hindi': 20}  {'math': 57, 'hindi': 78}"
      ]
     },
     "execution_count": 181,
     "metadata": {},
     "output_type": "execute_result"
    }
   ],
   "source": [
    "pd.json_normalize(x,max_level=1)"
   ]
  },
  {
   "cell_type": "code",
   "execution_count": 183,
   "id": "cec192ea-1205-43eb-8500-142ec0dc245b",
   "metadata": {},
   "outputs": [
    {
     "data": {
      "text/html": [
       "<div>\n",
       "<style scoped>\n",
       "    .dataframe tbody tr th:only-of-type {\n",
       "        vertical-align: middle;\n",
       "    }\n",
       "\n",
       "    .dataframe tbody tr th {\n",
       "        vertical-align: top;\n",
       "    }\n",
       "\n",
       "    .dataframe thead th {\n",
       "        text-align: right;\n",
       "    }\n",
       "</style>\n",
       "<table border=\"1\" class=\"dataframe\">\n",
       "  <thead>\n",
       "    <tr style=\"text-align: right;\">\n",
       "      <th></th>\n",
       "      <th>name</th>\n",
       "      <th>Mark.sem1.math</th>\n",
       "      <th>Mark.sem1.hindi</th>\n",
       "      <th>Mark.sem2.math</th>\n",
       "      <th>Mark.sem2.hindi</th>\n",
       "    </tr>\n",
       "  </thead>\n",
       "  <tbody>\n",
       "    <tr>\n",
       "      <th>0</th>\n",
       "      <td>p1</td>\n",
       "      <td>20</td>\n",
       "      <td>20</td>\n",
       "      <td>57</td>\n",
       "      <td>78</td>\n",
       "    </tr>\n",
       "  </tbody>\n",
       "</table>\n",
       "</div>"
      ],
      "text/plain": [
       "  name  Mark.sem1.math  Mark.sem1.hindi  Mark.sem2.math  Mark.sem2.hindi\n",
       "0   p1              20               20              57               78"
      ]
     },
     "execution_count": 183,
     "metadata": {},
     "output_type": "execute_result"
    }
   ],
   "source": [
    "pd.json_normalize(x,max_level=2)"
   ]
  },
  {
   "cell_type": "code",
   "execution_count": 19,
   "id": "a589e66e-056f-4ec8-a0d3-b1e2cb496f92",
   "metadata": {},
   "outputs": [],
   "source": [
    "import pandas as pd "
   ]
  },
  {
   "cell_type": "code",
   "execution_count": 15,
   "id": "c2e990f5-d477-42b0-96ab-f4f6a87f0b58",
   "metadata": {},
   "outputs": [],
   "source": [
    "x  = {\"name\":{\"p1\":\"kri\"},\"Mark\":[{\"sem1\":70,\"sem2\":57}],\"Age\":{\"a\":{\"b\":78} }}\n"
   ]
  },
  {
   "cell_type": "code",
   "execution_count": 23,
   "id": "7c45397b-6708-4a49-9dc1-74dbbe639281",
   "metadata": {
    "scrolled": true
   },
   "outputs": [
    {
     "ename": "KeyError",
     "evalue": "\"Key 'mark' not found. If specifying a record_path, all elements of data should have the path.\"",
     "output_type": "error",
     "traceback": [
      "\u001b[1;31m---------------------------------------------------------------------------\u001b[0m",
      "\u001b[1;31mKeyError\u001b[0m                                  Traceback (most recent call last)",
      "File \u001b[1;32m~\\anaconda3\\Lib\\site-packages\\pandas\\io\\json\\_normalize.py:398\u001b[0m, in \u001b[0;36mjson_normalize.<locals>._pull_field\u001b[1;34m(js, spec, extract_record)\u001b[0m\n\u001b[0;32m    397\u001b[0m     \u001b[38;5;28;01melse\u001b[39;00m:\n\u001b[1;32m--> 398\u001b[0m         result \u001b[38;5;241m=\u001b[39m result[spec]\n\u001b[0;32m    399\u001b[0m \u001b[38;5;28;01mexcept\u001b[39;00m \u001b[38;5;167;01mKeyError\u001b[39;00m \u001b[38;5;28;01mas\u001b[39;00m e:\n",
      "\u001b[1;31mKeyError\u001b[0m: 'mark'",
      "\nThe above exception was the direct cause of the following exception:\n",
      "\u001b[1;31mKeyError\u001b[0m                                  Traceback (most recent call last)",
      "Cell \u001b[1;32mIn[23], line 1\u001b[0m\n\u001b[1;32m----> 1\u001b[0m pd\u001b[38;5;241m.\u001b[39mjson_normalize(x,record_path \u001b[38;5;241m=\u001b[39m [\u001b[38;5;124m'\u001b[39m\u001b[38;5;124mmark\u001b[39m\u001b[38;5;124m'\u001b[39m])\n",
      "File \u001b[1;32m~\\anaconda3\\Lib\\site-packages\\pandas\\io\\json\\_normalize.py:517\u001b[0m, in \u001b[0;36mjson_normalize\u001b[1;34m(data, record_path, meta, meta_prefix, record_prefix, errors, sep, max_level)\u001b[0m\n\u001b[0;32m    514\u001b[0m                 meta_vals[key]\u001b[38;5;241m.\u001b[39mappend(meta_val)\n\u001b[0;32m    515\u001b[0m             records\u001b[38;5;241m.\u001b[39mextend(recs)\n\u001b[1;32m--> 517\u001b[0m _recursive_extract(data, record_path, {}, level\u001b[38;5;241m=\u001b[39m\u001b[38;5;241m0\u001b[39m)\n\u001b[0;32m    519\u001b[0m result \u001b[38;5;241m=\u001b[39m DataFrame(records)\n\u001b[0;32m    521\u001b[0m \u001b[38;5;28;01mif\u001b[39;00m record_prefix \u001b[38;5;129;01mis\u001b[39;00m \u001b[38;5;129;01mnot\u001b[39;00m \u001b[38;5;28;01mNone\u001b[39;00m:\n",
      "File \u001b[1;32m~\\anaconda3\\Lib\\site-packages\\pandas\\io\\json\\_normalize.py:499\u001b[0m, in \u001b[0;36mjson_normalize.<locals>._recursive_extract\u001b[1;34m(data, path, seen_meta, level)\u001b[0m\n\u001b[0;32m    497\u001b[0m \u001b[38;5;28;01melse\u001b[39;00m:\n\u001b[0;32m    498\u001b[0m     \u001b[38;5;28;01mfor\u001b[39;00m obj \u001b[38;5;129;01min\u001b[39;00m data:\n\u001b[1;32m--> 499\u001b[0m         recs \u001b[38;5;241m=\u001b[39m _pull_records(obj, path[\u001b[38;5;241m0\u001b[39m])\n\u001b[0;32m    500\u001b[0m         recs \u001b[38;5;241m=\u001b[39m [\n\u001b[0;32m    501\u001b[0m             nested_to_record(r, sep\u001b[38;5;241m=\u001b[39msep, max_level\u001b[38;5;241m=\u001b[39mmax_level)\n\u001b[0;32m    502\u001b[0m             \u001b[38;5;28;01mif\u001b[39;00m \u001b[38;5;28misinstance\u001b[39m(r, \u001b[38;5;28mdict\u001b[39m)\n\u001b[0;32m    503\u001b[0m             \u001b[38;5;28;01melse\u001b[39;00m r\n\u001b[0;32m    504\u001b[0m             \u001b[38;5;28;01mfor\u001b[39;00m r \u001b[38;5;129;01min\u001b[39;00m recs\n\u001b[0;32m    505\u001b[0m         ]\n\u001b[0;32m    507\u001b[0m         \u001b[38;5;66;03m# For repeating the metadata later\u001b[39;00m\n",
      "File \u001b[1;32m~\\anaconda3\\Lib\\site-packages\\pandas\\io\\json\\_normalize.py:421\u001b[0m, in \u001b[0;36mjson_normalize.<locals>._pull_records\u001b[1;34m(js, spec)\u001b[0m\n\u001b[0;32m    415\u001b[0m \u001b[38;5;28;01mdef\u001b[39;00m \u001b[38;5;21m_pull_records\u001b[39m(js: \u001b[38;5;28mdict\u001b[39m[\u001b[38;5;28mstr\u001b[39m, Any], spec: \u001b[38;5;28mlist\u001b[39m \u001b[38;5;241m|\u001b[39m \u001b[38;5;28mstr\u001b[39m) \u001b[38;5;241m-\u001b[39m\u001b[38;5;241m>\u001b[39m \u001b[38;5;28mlist\u001b[39m:\n\u001b[0;32m    416\u001b[0m \u001b[38;5;250m    \u001b[39m\u001b[38;5;124;03m\"\"\"\u001b[39;00m\n\u001b[0;32m    417\u001b[0m \u001b[38;5;124;03m    Internal function to pull field for records, and similar to\u001b[39;00m\n\u001b[0;32m    418\u001b[0m \u001b[38;5;124;03m    _pull_field, but require to return list. And will raise error\u001b[39;00m\n\u001b[0;32m    419\u001b[0m \u001b[38;5;124;03m    if has non iterable value.\u001b[39;00m\n\u001b[0;32m    420\u001b[0m \u001b[38;5;124;03m    \"\"\"\u001b[39;00m\n\u001b[1;32m--> 421\u001b[0m     result \u001b[38;5;241m=\u001b[39m _pull_field(js, spec, extract_record\u001b[38;5;241m=\u001b[39m\u001b[38;5;28;01mTrue\u001b[39;00m)\n\u001b[0;32m    423\u001b[0m     \u001b[38;5;66;03m# GH 31507 GH 30145, GH 26284 if result is not list, raise TypeError if not\u001b[39;00m\n\u001b[0;32m    424\u001b[0m     \u001b[38;5;66;03m# null, otherwise return an empty list\u001b[39;00m\n\u001b[0;32m    425\u001b[0m     \u001b[38;5;28;01mif\u001b[39;00m \u001b[38;5;129;01mnot\u001b[39;00m \u001b[38;5;28misinstance\u001b[39m(result, \u001b[38;5;28mlist\u001b[39m):\n",
      "File \u001b[1;32m~\\anaconda3\\Lib\\site-packages\\pandas\\io\\json\\_normalize.py:401\u001b[0m, in \u001b[0;36mjson_normalize.<locals>._pull_field\u001b[1;34m(js, spec, extract_record)\u001b[0m\n\u001b[0;32m    399\u001b[0m \u001b[38;5;28;01mexcept\u001b[39;00m \u001b[38;5;167;01mKeyError\u001b[39;00m \u001b[38;5;28;01mas\u001b[39;00m e:\n\u001b[0;32m    400\u001b[0m     \u001b[38;5;28;01mif\u001b[39;00m extract_record:\n\u001b[1;32m--> 401\u001b[0m         \u001b[38;5;28;01mraise\u001b[39;00m \u001b[38;5;167;01mKeyError\u001b[39;00m(\n\u001b[0;32m    402\u001b[0m             \u001b[38;5;124mf\u001b[39m\u001b[38;5;124m\"\u001b[39m\u001b[38;5;124mKey \u001b[39m\u001b[38;5;132;01m{\u001b[39;00me\u001b[38;5;132;01m}\u001b[39;00m\u001b[38;5;124m not found. If specifying a record_path, all elements of \u001b[39m\u001b[38;5;124m\"\u001b[39m\n\u001b[0;32m    403\u001b[0m             \u001b[38;5;124mf\u001b[39m\u001b[38;5;124m\"\u001b[39m\u001b[38;5;124mdata should have the path.\u001b[39m\u001b[38;5;124m\"\u001b[39m\n\u001b[0;32m    404\u001b[0m         ) \u001b[38;5;28;01mfrom\u001b[39;00m \u001b[38;5;21;01me\u001b[39;00m\n\u001b[0;32m    405\u001b[0m     \u001b[38;5;28;01mif\u001b[39;00m errors \u001b[38;5;241m==\u001b[39m \u001b[38;5;124m\"\u001b[39m\u001b[38;5;124mignore\u001b[39m\u001b[38;5;124m\"\u001b[39m:\n\u001b[0;32m    406\u001b[0m         \u001b[38;5;28;01mreturn\u001b[39;00m np\u001b[38;5;241m.\u001b[39mnan\n",
      "\u001b[1;31mKeyError\u001b[0m: \"Key 'mark' not found. If specifying a record_path, all elements of data should have the path.\""
     ]
    }
   ],
   "source": [
    "pd.json_normalize(x,record_path = ['mark'],meta = [[\"name\",\"p1\"],[\"age\",\"a\",\"b\"]])"
   ]
  },
  {
   "cell_type": "markdown",
   "id": "6b3c5c7d-ede8-4231-96f0-b0f54ef24e44",
   "metadata": {},
   "source": [
    "# `Semi Struture Data` \n",
    "- when we have `multiple key` use json `normalize technique`\n",
    "-  when we have `single key` use json `read_json technique`"
   ]
  },
  {
   "cell_type": "markdown",
   "id": "26230de8-b39a-455b-a3e6-8609238ed7cd",
   "metadata": {},
   "source": [
    "# `case - 1`"
   ]
  },
  {
   "cell_type": "code",
   "execution_count": 25,
   "id": "ad699054-4f8f-49bb-823c-0fe5ee4702ac",
   "metadata": {},
   "outputs": [],
   "source": [
    "x = {\"name\":\"krishna\",\"marks\":{\"sem1\":{\"math\":10,\"physics\":90},\"sem2\":{\"math\":10,\"physics\":90}}}"
   ]
  },
  {
   "cell_type": "code",
   "execution_count": 27,
   "id": "0e10e87e-0b04-4417-9d99-3ec1405bf842",
   "metadata": {},
   "outputs": [
    {
     "data": {
      "text/html": [
       "<div>\n",
       "<style scoped>\n",
       "    .dataframe tbody tr th:only-of-type {\n",
       "        vertical-align: middle;\n",
       "    }\n",
       "\n",
       "    .dataframe tbody tr th {\n",
       "        vertical-align: top;\n",
       "    }\n",
       "\n",
       "    .dataframe thead th {\n",
       "        text-align: right;\n",
       "    }\n",
       "</style>\n",
       "<table border=\"1\" class=\"dataframe\">\n",
       "  <thead>\n",
       "    <tr style=\"text-align: right;\">\n",
       "      <th></th>\n",
       "      <th>name</th>\n",
       "      <th>marks.sem1.math</th>\n",
       "      <th>marks.sem1.physics</th>\n",
       "      <th>marks.sem2.math</th>\n",
       "      <th>marks.sem2.physics</th>\n",
       "    </tr>\n",
       "  </thead>\n",
       "  <tbody>\n",
       "    <tr>\n",
       "      <th>0</th>\n",
       "      <td>krishna</td>\n",
       "      <td>10</td>\n",
       "      <td>90</td>\n",
       "      <td>10</td>\n",
       "      <td>90</td>\n",
       "    </tr>\n",
       "  </tbody>\n",
       "</table>\n",
       "</div>"
      ],
      "text/plain": [
       "      name  marks.sem1.math  marks.sem1.physics  marks.sem2.math  \\\n",
       "0  krishna               10                  90               10   \n",
       "\n",
       "   marks.sem2.physics  \n",
       "0                  90  "
      ]
     },
     "execution_count": 27,
     "metadata": {},
     "output_type": "execute_result"
    }
   ],
   "source": [
    "pd.json_normalize(x)"
   ]
  },
  {
   "cell_type": "code",
   "execution_count": 32,
   "id": "6099a5f0-5d22-4ac7-9ea6-055a769f929e",
   "metadata": {},
   "outputs": [
    {
     "data": {
      "text/html": [
       "<div>\n",
       "<style scoped>\n",
       "    .dataframe tbody tr th:only-of-type {\n",
       "        vertical-align: middle;\n",
       "    }\n",
       "\n",
       "    .dataframe tbody tr th {\n",
       "        vertical-align: top;\n",
       "    }\n",
       "\n",
       "    .dataframe thead th {\n",
       "        text-align: right;\n",
       "    }\n",
       "</style>\n",
       "<table border=\"1\" class=\"dataframe\">\n",
       "  <thead>\n",
       "    <tr style=\"text-align: right;\">\n",
       "      <th></th>\n",
       "      <th>name</th>\n",
       "      <th>marks.sem1.math</th>\n",
       "      <th>marks.sem1.physics</th>\n",
       "      <th>marks.sem2.math</th>\n",
       "      <th>marks.sem2.physics</th>\n",
       "    </tr>\n",
       "  </thead>\n",
       "  <tbody>\n",
       "    <tr>\n",
       "      <th>0</th>\n",
       "      <td>krishna</td>\n",
       "      <td>10</td>\n",
       "      <td>90</td>\n",
       "      <td>10</td>\n",
       "      <td>90</td>\n",
       "    </tr>\n",
       "  </tbody>\n",
       "</table>\n",
       "</div>"
      ],
      "text/plain": [
       "      name  marks.sem1.math  marks.sem1.physics  marks.sem2.math  \\\n",
       "0  krishna               10                  90               10   \n",
       "\n",
       "   marks.sem2.physics  \n",
       "0                  90  "
      ]
     },
     "execution_count": 32,
     "metadata": {},
     "output_type": "execute_result"
    }
   ],
   "source": [
    "pd.json_normalize(x,max_level=2)"
   ]
  },
  {
   "cell_type": "markdown",
   "id": "b59bcee2-c1fc-42b5-bfec-69979c7eba35",
   "metadata": {},
   "source": [
    "# `case - 2`"
   ]
  },
  {
   "cell_type": "code",
   "execution_count": 37,
   "id": "86d3d3e3-f89e-4398-b201-a29c2d6029b5",
   "metadata": {},
   "outputs": [],
   "source": [
    "x = {\"name\":\"krishna\",\"marks\":[{\"hindi\":70,\"math\":98}]}"
   ]
  },
  {
   "cell_type": "code",
   "execution_count": 43,
   "id": "3f9b3502-aad3-46c8-bd46-244eef173969",
   "metadata": {},
   "outputs": [
    {
     "data": {
      "text/html": [
       "<div>\n",
       "<style scoped>\n",
       "    .dataframe tbody tr th:only-of-type {\n",
       "        vertical-align: middle;\n",
       "    }\n",
       "\n",
       "    .dataframe tbody tr th {\n",
       "        vertical-align: top;\n",
       "    }\n",
       "\n",
       "    .dataframe thead th {\n",
       "        text-align: right;\n",
       "    }\n",
       "</style>\n",
       "<table border=\"1\" class=\"dataframe\">\n",
       "  <thead>\n",
       "    <tr style=\"text-align: right;\">\n",
       "      <th></th>\n",
       "      <th>hindi</th>\n",
       "      <th>math</th>\n",
       "      <th>name</th>\n",
       "    </tr>\n",
       "  </thead>\n",
       "  <tbody>\n",
       "    <tr>\n",
       "      <th>0</th>\n",
       "      <td>70</td>\n",
       "      <td>98</td>\n",
       "      <td>krishna</td>\n",
       "    </tr>\n",
       "  </tbody>\n",
       "</table>\n",
       "</div>"
      ],
      "text/plain": [
       "   hindi  math     name\n",
       "0     70    98  krishna"
      ]
     },
     "execution_count": 43,
     "metadata": {},
     "output_type": "execute_result"
    }
   ],
   "source": [
    "pd.json_normalize(x,record_path=[\"marks\"],meta = [\"name\"])"
   ]
  },
  {
   "cell_type": "markdown",
   "id": "b9e4d1ad-d421-485e-a087-9081907f376c",
   "metadata": {},
   "source": [
    "# ` case - 3` \n",
    "- list of dicyionary"
   ]
  },
  {
   "cell_type": "code",
   "execution_count": 53,
   "id": "782314b5-749f-4ec8-9b70-3856ed8e0e20",
   "metadata": {},
   "outputs": [],
   "source": [
    "x1 = [{\"name\":\"p1\",\"Age\":23,\"gender\":\"F\",\"mark\":[{\"Eng\":49,\"Math\":90}]},{\"name\":\"p2\",\"Age\":24,\"gender\":\"M\",\"mark\":[{\"Eng\":49,\"Math\":90}]}]"
   ]
  },
  {
   "cell_type": "code",
   "execution_count": 55,
   "id": "69c1ed31-9a41-4ba7-9059-f47447ff612f",
   "metadata": {},
   "outputs": [
    {
     "data": {
      "text/html": [
       "<div>\n",
       "<style scoped>\n",
       "    .dataframe tbody tr th:only-of-type {\n",
       "        vertical-align: middle;\n",
       "    }\n",
       "\n",
       "    .dataframe tbody tr th {\n",
       "        vertical-align: top;\n",
       "    }\n",
       "\n",
       "    .dataframe thead th {\n",
       "        text-align: right;\n",
       "    }\n",
       "</style>\n",
       "<table border=\"1\" class=\"dataframe\">\n",
       "  <thead>\n",
       "    <tr style=\"text-align: right;\">\n",
       "      <th></th>\n",
       "      <th>name</th>\n",
       "      <th>Age</th>\n",
       "      <th>gender</th>\n",
       "      <th>mark</th>\n",
       "    </tr>\n",
       "  </thead>\n",
       "  <tbody>\n",
       "    <tr>\n",
       "      <th>0</th>\n",
       "      <td>p1</td>\n",
       "      <td>23</td>\n",
       "      <td>F</td>\n",
       "      <td>[{'Eng': 49, 'Math': 90}]</td>\n",
       "    </tr>\n",
       "    <tr>\n",
       "      <th>1</th>\n",
       "      <td>p2</td>\n",
       "      <td>24</td>\n",
       "      <td>M</td>\n",
       "      <td>[{'Eng': 49, 'Math': 90}]</td>\n",
       "    </tr>\n",
       "  </tbody>\n",
       "</table>\n",
       "</div>"
      ],
      "text/plain": [
       "  name  Age gender                       mark\n",
       "0   p1   23      F  [{'Eng': 49, 'Math': 90}]\n",
       "1   p2   24      M  [{'Eng': 49, 'Math': 90}]"
      ]
     },
     "execution_count": 55,
     "metadata": {},
     "output_type": "execute_result"
    }
   ],
   "source": [
    "pd.json_normalize(x1)"
   ]
  },
  {
   "cell_type": "code",
   "execution_count": 57,
   "id": "267ac503-68fb-4031-88c5-c0c1baf83a07",
   "metadata": {},
   "outputs": [
    {
     "data": {
      "text/html": [
       "<div>\n",
       "<style scoped>\n",
       "    .dataframe tbody tr th:only-of-type {\n",
       "        vertical-align: middle;\n",
       "    }\n",
       "\n",
       "    .dataframe tbody tr th {\n",
       "        vertical-align: top;\n",
       "    }\n",
       "\n",
       "    .dataframe thead th {\n",
       "        text-align: right;\n",
       "    }\n",
       "</style>\n",
       "<table border=\"1\" class=\"dataframe\">\n",
       "  <thead>\n",
       "    <tr style=\"text-align: right;\">\n",
       "      <th></th>\n",
       "      <th>Eng</th>\n",
       "      <th>Math</th>\n",
       "      <th>name</th>\n",
       "      <th>Age</th>\n",
       "      <th>gender</th>\n",
       "    </tr>\n",
       "  </thead>\n",
       "  <tbody>\n",
       "    <tr>\n",
       "      <th>0</th>\n",
       "      <td>49</td>\n",
       "      <td>90</td>\n",
       "      <td>p1</td>\n",
       "      <td>23</td>\n",
       "      <td>F</td>\n",
       "    </tr>\n",
       "    <tr>\n",
       "      <th>1</th>\n",
       "      <td>49</td>\n",
       "      <td>90</td>\n",
       "      <td>p2</td>\n",
       "      <td>24</td>\n",
       "      <td>M</td>\n",
       "    </tr>\n",
       "  </tbody>\n",
       "</table>\n",
       "</div>"
      ],
      "text/plain": [
       "   Eng  Math name Age gender\n",
       "0   49    90   p1  23      F\n",
       "1   49    90   p2  24      M"
      ]
     },
     "execution_count": 57,
     "metadata": {},
     "output_type": "execute_result"
    }
   ],
   "source": [
    "pd.json_normalize(x1,record_path=[\"mark\"],meta = [\"name\",\"Age\",\"gender\"])"
   ]
  },
  {
   "cell_type": "markdown",
   "id": "98a02087-1f16-4592-84b2-867a34ee0bd2",
   "metadata": {},
   "source": [
    "# "
   ]
  },
  {
   "cell_type": "code",
   "execution_count": null,
   "id": "23544c6b-eeb8-4126-b23a-f6b1a50a6fed",
   "metadata": {},
   "outputs": [],
   "source": []
  }
 ],
 "metadata": {
  "kernelspec": {
   "display_name": "Python 3 (ipykernel)",
   "language": "python",
   "name": "python3"
  },
  "language_info": {
   "codemirror_mode": {
    "name": "ipython",
    "version": 3
   },
   "file_extension": ".py",
   "mimetype": "text/x-python",
   "name": "python",
   "nbconvert_exporter": "python",
   "pygments_lexer": "ipython3",
   "version": "3.12.4"
  }
 },
 "nbformat": 4,
 "nbformat_minor": 5
}
