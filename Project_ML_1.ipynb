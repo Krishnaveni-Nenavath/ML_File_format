{
 "cells": [
  {
   "cell_type": "markdown",
   "id": "39e7b1d6-dc89-462c-95b8-5b88fa45f83e",
   "metadata": {},
   "source": [
    "# creating  the event function"
   ]
  },
  {
   "cell_type": "code",
   "execution_count": 1,
   "id": "e71692f5-2065-4e6a-9d70-9a152e418999",
   "metadata": {},
   "outputs": [],
   "source": [
    "\n",
    "import cv2 \n",
    "import numpy as np \n",
    "import os  \n"
   ]
  },
  {
   "cell_type": "code",
   "execution_count": 18,
   "id": "a196e99e-9649-42b4-ac3d-bcf8396d7587",
   "metadata": {},
   "outputs": [],
   "source": [
    "os.mkdir(r\"C:\\Users\\krish\\Documents\\MLProject_1\")"
   ]
  },
  {
   "cell_type": "code",
   "execution_count": 33,
   "id": "9e7ce61f-b38f-4836-ac31-2f947f7e744d",
   "metadata": {},
   "outputs": [],
   "source": [
    "def mouse_track5(event,x,y,flags,param):\n",
    "    if event!=0: \n",
    "        cv2.circle(black_img,(x,y),15,(255,100,190),-1)"
   ]
  },
  {
   "cell_type": "markdown",
   "id": "0106906d-d53e-41ca-a4eb-dc734ad110f1",
   "metadata": {},
   "source": [
    "# creating  the event  function"
   ]
  },
  {
   "cell_type": "code",
   "execution_count": 63,
   "id": "35a4d277-5f24-4f29-90ab-354bba205dd8",
   "metadata": {},
   "outputs": [],
   "source": [
    "x1 = -1 \n",
    "y1 = -1 \n",
    "\n",
    "def mouse_track6(event,x,y,flags,param): \n",
    "    global x1,y1\n",
    "    if event == 1:  #left\n",
    "        x1 = x \n",
    "        y1 = y\n",
    "    if event == 11:   #right \n",
    "        #cv2.rectangle(black_img,(x1,y1),(x,y),(248,248,248),-1)\n",
    "        cv2.putText(black_img,\"Created By\",(x1,y1),cv2.FONT_ITALIC,2,(0,0,0),2) \n",
    "        #cv2.circle(black_img,(x1,y1),10,(0,0,0),-1)\n",
    "        # np.full((500,500,3),(128,128,128),dtype=np.uint8)\n",
    "        #cv2.line(black_img,(x1,y1),(x,y),(0,0,0),1) \n",
    "        #cv2.rectangle(black_img,(x1,y1),(x,y),(144,238,230#),-1)\n",
    "    \n",
    "    \n",
    "    elif event == 7:\n",
    "     #left double click\n",
    "        #cv2.putText(black_img,\"Iam Graduated!\",(x1,y1),(0,0,0),1,cv2.FONT_ITALIC,1)  \n",
    "        cv2.putText(black_img,\"N.Krishnaveni\",(x1,y1),cv2.FONT_ITALIC,1.2,(0,0,0),1) \n",
    "        #cv2.rectangle(black_img,(x1,y1),(x,y),(244,244,244),-1)\n",
    "    elif event  == 11: #RIGHT DOUBLE CLICK\n",
    "        #cv2.circle(black_img,(x1,y1),28,(0,0,0),-1) \n",
    "        #cv2.circle(black_img,(x1,y1),16,(0,0,255),-1) \n",
    "        #cv2.putText(black_img,\"What are the steps do i follow\",(x1,y1),cv2.FONT_HERSHEY_PLAIN,1.5,(0,0,0),2) \n",
    "        cv2.putText(black_img,\"K.Anjali\",(x1,y1),cv2.FONT_ITALIC,1.2,(0,0,0),1) \n",
    "     \n",
    "\n",
    "    elif event == 2:  #ROLLUP\n",
    "        #cv2.line(black_img,(x1,y1),(x,y),(0,0,0),2) # small \n",
    "        #cv2.putText(black_img,\"EDA\",(x1,y1),cv2.FONT_HERSHEY_PLAIN,1.2,(0,0,0),2) \n",
    "        cv2.putText(black_img,\"P.Sai Preethi\",(x1,y1),cv2.FONT_ITALIC,1.2,(0,0,0),1)\n",
    "        #cv2.circle(black_img,(x1,y1),10,(0,0,0),-1)\n",
    "\n",
    "    \n",
    "    elif event  == 10: #RIGHT DOUBLE CLICK  \n",
    "        #cv2.putText(black_img,\" To become a\",(x1,y1),cv2.FONT_HERSH,0.6,(0,0,0),2) \n",
    "        #cv2.circle(black_img,(x1,y1),10,(0,0,0),-1) \n",
    "        #cv2.circle(black_img,(x1,y1),15,(255,255,255),-1) # small  \n",
    "        cv2.putText(black_img,\"N.Naveen\",(x1,y1),cv2.FONT_ITALIC,1.2,(0,0,0),1)\n",
    "    \n",
    "        "
   ]
  },
  {
   "cell_type": "markdown",
   "id": "ab3684b3-ee82-4219-a54b-fba7d2e7ff36",
   "metadata": {},
   "source": [
    "#  save every frames"
   ]
  },
  {
   "cell_type": "code",
   "execution_count": 5,
   "id": "37653d00-44c2-4db4-80a1-818ca5d8eeb2",
   "metadata": {},
   "outputs": [
    {
     "ename": "NameError",
     "evalue": "name 'mouse_track6' is not defined",
     "output_type": "error",
     "traceback": [
      "\u001b[1;31m---------------------------------------------------------------------------\u001b[0m",
      "\u001b[1;31mNameError\u001b[0m                                 Traceback (most recent call last)",
      "Cell \u001b[1;32mIn[5], line 2\u001b[0m\n\u001b[0;32m      1\u001b[0m cv2\u001b[38;5;241m.\u001b[39mnamedWindow(\u001b[38;5;124m\"\u001b[39m\u001b[38;5;124mmouse tracking\u001b[39m\u001b[38;5;124m\"\u001b[39m,flags \u001b[38;5;241m=\u001b[39m cv2\u001b[38;5;241m.\u001b[39mWINDOW_FREERATIO)\n\u001b[1;32m----> 2\u001b[0m cv2\u001b[38;5;241m.\u001b[39msetMouseCallback(\u001b[38;5;124m\"\u001b[39m\u001b[38;5;124mmouse tracking\u001b[39m\u001b[38;5;124m\"\u001b[39m,mouse_track6)\n\u001b[0;32m      3\u001b[0m cnt \u001b[38;5;241m=\u001b[39m \u001b[38;5;241m107\u001b[39m\n\u001b[0;32m      4\u001b[0m black_img \u001b[38;5;241m=\u001b[39mcv2\u001b[38;5;241m.\u001b[39mimread(\u001b[38;5;124mr\u001b[39m\u001b[38;5;124m\"\u001b[39m\u001b[38;5;124mC:\u001b[39m\u001b[38;5;124m\\\u001b[39m\u001b[38;5;124mUsers\u001b[39m\u001b[38;5;124m\\\u001b[39m\u001b[38;5;124mkrish\u001b[39m\u001b[38;5;124m\\\u001b[39m\u001b[38;5;124mDocuments\u001b[39m\u001b[38;5;124m\\\u001b[39m\u001b[38;5;124mMain Frames\u001b[39m\u001b[38;5;124m\\\u001b[39m\u001b[38;5;124m108.jpg\u001b[39m\u001b[38;5;124m\"\u001b[39m) \n",
      "\u001b[1;31mNameError\u001b[0m: name 'mouse_track6' is not defined"
     ]
    }
   ],
   "source": [
    "cv2.namedWindow(\"mouse tracking\",flags = cv2.WINDOW_FREERATIO)\n",
    "cv2.setMouseCallback(\"mouse tracking\",mouse_track6)\n",
    "cnt = 107\n",
    "black_img =cv2.imread(r\"C:\\Users\\krish\\Documents\\Main Frames\\108.jpg\") \n",
    "#black_img = np.full((500,500,3),(244,244,244),dtype=np.uint8)   \n",
    "while True : \n",
    "    cv2.imshow(\"mouse tracking\",black_img) \n",
    "    if cv2.waitKey(1) & 255 == ord('s'): \n",
    "        img = cv2.imwrite(r\"C:\\Users\\krish\\Documents\\Main Frames\\{}.jpg\".format(cnt),black_img)  \n",
    "        print('Frame:{}'.format(cnt))\n",
    "        cnt+=1\n",
    "        \n",
    "    if cv2.waitKey(1) &255 == ord('q'): \n",
    "        break  \n",
    "\n",
    "cv2.destroyAllWindows()"
   ]
  },
  {
   "cell_type": "markdown",
   "id": "457961c5-7247-4808-ad81-247cab54c8a1",
   "metadata": {},
   "source": [
    "# frames to video"
   ]
  },
  {
   "cell_type": "code",
   "execution_count": 7,
   "id": "e4894c0a-6f00-444f-81f9-87154b84d906",
   "metadata": {},
   "outputs": [],
   "source": [
    "for images in os.listdir(r\"C:\\Users\\krish\\Documents\\Main Frames\"): \n",
    "    img = cv2.imread(r\"C:\\Users\\krish\\Documents\\Main Frames\\{}\".format(images)) \n",
    "    cv2.imshow('animation',img)  \n",
    "    cv2.imwrite()\n",
    "    cv2.waitKey(200) \n",
    "cv2.destroyAllWindows() \n",
    "    "
   ]
  },
  {
   "cell_type": "code",
   "execution_count": null,
   "id": "3401ba5f-19fc-46f4-b18b-198595754d75",
   "metadata": {},
   "outputs": [],
   "source": []
  },
  {
   "cell_type": "code",
   "execution_count": 3,
   "id": "3e78389e-03b6-4f88-9b5d-870983d21c59",
   "metadata": {},
   "outputs": [
    {
     "name": "stdout",
     "output_type": "stream",
     "text": [
      "Sorted files: ['0.jpg', '1.jpg', '2.jpg', '3.jpg', '4.jpg', '5.jpg', '6.jpg', '7.jpg', '8.jpg', '9.jpg', '10.jpg', '11.jpg', '12.jpg', '13.jpg', '14.jpg', '15.jpg', '16.jpg', '17.jpg', '18.jpg', '19.jpg', '20.jpg', '21.jpg', '22.jpg', '23.jpg', '24.jpg', '25.jpg', '26.jpg', '27.jpg', '28.jpg', '29.jpg', '30.jpg', '31.jpg', '32.jpg', '33.jpg', '34.jpg', '35.jpg', '36.jpg', '37.jpg', '38.jpg', '39.jpg', '40.jpg', '41.jpg', '42.jpg', '43.jpg', '44.jpg', '45.jpg', '46.jpg', '47.jpg', '48.jpg', '49.jpg', '50.jpg', '51.jpg', '52.jpg', '53.jpg', '54.jpg', '55.jpg', '56.jpg', '57.jpg', '58.jpg', '59.jpg', '60.jpg', '61.jpg', '62.jpg', '63.jpg', '64.jpg', '65.jpg', '66.jpg', '67.jpg', '68.jpg', '69.jpg', '70.jpg', '71.jpg', '72.jpg', '73.jpg', '74.jpg', '75.jpg', '76.jpg', '77.jpg', '78.jpg', '79.jpg', '80.jpg', '81.jpg', '82.jpg', '83.jpg', '84.jpg', '85.jpg', '86.jpg', '87.jpg', '88.jpg', '89.jpg', '90.jpg', '91.jpg', '92.jpg', '93.jpg', '94.jpg', '95.jpg', '96.jpg', '97.jpg', '98.jpg', '99.jpg', '100.jpg', '101.jpg', '102.jpg', '103.jpg', '104.jpg', '105.jpg', '106.jpg']\n"
     ]
    }
   ],
   "source": [
    "import os\n",
    "import re\n",
    "\n",
    "# Path to your folder\n",
    "folder_path = r\"C:\\Users\\krish\\Documents\\Main Frames\"\n",
    "\n",
    "# List all files in the folder\n",
    "files = os.listdir(folder_path)\n",
    "\n",
    "# Function to extract numeric values from filenames\n",
    "def extract_number(filename):\n",
    "    match = re.search(r'\\d+', filename)  # Find numbers in the filename\n",
    "    return int(match.group()) if match else float('inf')  # Return large value if no number found\n",
    "\n",
    "# Sort files numerically\n",
    "sorted_files = sorted(files, key=extract_number)\n",
    "\n",
    "# Print the sorted list\n",
    "print(\"Sorted files:\", sorted_files) "
   ]
  },
  {
   "cell_type": "code",
   "execution_count": 5,
   "id": "090f7061-8b28-4fe7-bb3c-f80ff9fc4c8d",
   "metadata": {},
   "outputs": [],
   "source": [
    "for images in sorted_files:\n",
    "    img = cv2.imread(r\"C:\\Users\\krish\\Documents\\Main Frames\\{}\".format(images)) \n",
    "    cv2.imshow('Animation',img)  \n",
    "    #cv2.VideoWriter(r\"C:\\Users\\krish\\Documents\\Main Frames\\Animation.mp4\",img)\n",
    "    cv2.waitKey(400) \n",
    "cv2.destroyAllWindows()\n"
   ]
  },
  {
   "cell_type": "code",
   "execution_count": 15,
   "id": "6cffe514-0617-45f1-af21-9197a56006af",
   "metadata": {},
   "outputs": [
    {
     "name": "stdout",
     "output_type": "stream",
     "text": [
      "0\n",
      "1\n",
      "2\n",
      "3\n",
      "4\n",
      "5\n",
      "6\n",
      "7\n",
      "8\n",
      "9\n",
      "10\n",
      "11\n",
      "12\n",
      "13\n",
      "14\n",
      "15\n",
      "16\n",
      "17\n",
      "18\n",
      "19\n",
      "20\n",
      "21\n",
      "22\n",
      "23\n",
      "24\n",
      "25\n",
      "26\n",
      "27\n",
      "28\n",
      "29\n",
      "30\n",
      "31\n",
      "32\n",
      "33\n",
      "34\n",
      "35\n",
      "36\n",
      "37\n",
      "38\n",
      "39\n",
      "40\n",
      "41\n",
      "42\n",
      "43\n",
      "44\n",
      "45\n",
      "46\n",
      "47\n",
      "48\n",
      "49\n",
      "50\n",
      "51\n",
      "52\n",
      "53\n",
      "54\n",
      "55\n",
      "56\n",
      "57\n",
      "58\n",
      "59\n",
      "60\n",
      "61\n",
      "62\n",
      "63\n",
      "64\n",
      "65\n",
      "66\n",
      "67\n",
      "68\n",
      "69\n",
      "70\n",
      "71\n",
      "72\n",
      "73\n",
      "74\n",
      "75\n",
      "76\n",
      "77\n",
      "78\n",
      "79\n",
      "80\n",
      "81\n",
      "82\n",
      "83\n",
      "84\n",
      "85\n",
      "86\n",
      "87\n",
      "88\n",
      "89\n",
      "90\n",
      "91\n",
      "92\n",
      "93\n",
      "94\n",
      "95\n",
      "96\n",
      "97\n",
      "98\n",
      "99\n",
      "100\n",
      "101\n",
      "102\n",
      "103\n",
      "104\n",
      "105\n",
      "106\n",
      "107\n",
      "108\n",
      "109\n",
      "110\n",
      "1\n",
      "2\n",
      "3\n",
      "4\n",
      "5\n",
      "6\n",
      "7\n",
      "8\n",
      "9\n",
      "10\n",
      "11\n",
      "12\n",
      "13\n"
     ]
    },
    {
     "ename": "KeyboardInterrupt",
     "evalue": "",
     "output_type": "error",
     "traceback": [
      "\u001b[1;31m---------------------------------------------------------------------------\u001b[0m",
      "\u001b[1;31mKeyboardInterrupt\u001b[0m                         Traceback (most recent call last)",
      "Cell \u001b[1;32mIn[15], line 9\u001b[0m\n\u001b[0;32m      7\u001b[0m         i \u001b[38;5;241m=\u001b[39m \u001b[38;5;241m0\u001b[39m      \n\u001b[0;32m      8\u001b[0m     i\u001b[38;5;241m+\u001b[39m\u001b[38;5;241m=\u001b[39m\u001b[38;5;241m1\u001b[39m\n\u001b[1;32m----> 9\u001b[0m     cv2\u001b[38;5;241m.\u001b[39mwaitKey(\u001b[38;5;241m40\u001b[39m) \n\u001b[0;32m     10\u001b[0m cv2\u001b[38;5;241m.\u001b[39mdestroyAllWindows()\n",
      "\u001b[1;31mKeyboardInterrupt\u001b[0m: "
     ]
    }
   ],
   "source": [
    "i=0\n",
    "while True:   \n",
    "    img = cv2.imread(r\"C:\\Users\\krish\\Documents\\Main Frames\\{}\".format(sorted_files[i])) \n",
    "    print(i)\n",
    "    cv2.imshow('Animation',img)  \n",
    "    if i == len(sorted_files)-1:\n",
    "        i = 0      \n",
    "    i+=1\n",
    "    cv2.waitKey(40) \n",
    "cv2.destroyAllWindows()\n",
    "    \n",
    "    \n",
    "    "
   ]
  },
  {
   "cell_type": "code",
   "execution_count": 5,
   "id": "07b4a338-fb56-4bdb-b4eb-791e0f53ad49",
   "metadata": {},
   "outputs": [
    {
     "name": "stdout",
     "output_type": "stream",
     "text": [
      "Image C:\\Users\\krish\\Documents\\Main Frames\\107.jpg not found, skipping.\n",
      "Image C:\\Users\\krish\\Documents\\Main Frames\\108.jpg not found, skipping.\n",
      "Image C:\\Users\\krish\\Documents\\Main Frames\\109.jpg not found, skipping.\n",
      "Image C:\\Users\\krish\\Documents\\Main Frames\\110.jpg not found, skipping.\n",
      "Video saved to C:\\Users\\krish\\Documents\\video121.mp4\n"
     ]
    }
   ],
   "source": [
    "# Video properties\n",
    "output_path = r\"C:\\Users\\krish\\Documents\\video121.mp4\"\n",
    "frame_width = 800  # Set based on your image dimensions\n",
    "frame_height = 800  # Set based on your image dimensions\n",
    "frame_rate = 1  # 1 frame per second (based on your cv2.waitKey(1000))\n",
    "\n",
    "# Define the codec and create VideoWriter object\n",
    "fourcc = cv2.VideoWriter_fourcc(*'XVID')  # Choose codec (e.g., 'XVID' for .avi format)\n",
    "out = cv2.VideoWriter(output_path, fourcc, frame_rate, (frame_width, frame_height))\n",
    "\n",
    "for image in range(0,111):\n",
    "    img_path = fr\"C:\\Users\\krish\\Documents\\Main Frames\\{image}.jpg\" #r\"C:\\Users\\krish\\Documents\\Main Frames\\{}\n",
    "    img = cv2.imread(img_path)\n",
    "\n",
    "    if img is None:\n",
    "        print(f\"Image {img_path} not found, skipping.\")\n",
    "        continue\n",
    "\n",
    "    # Resize the image if necessary (to match frame dimensions)\n",
    "    img = cv2.resize(img, (frame_width, frame_height))\n",
    "    \n",
    "    # Display the image\n",
    "    cv2.imshow(\"animations\", img)\n",
    "    cv2.waitKey(90)\n",
    "    \n",
    "    # Write the frame to the video\n",
    "    out.write(img)\n",
    "\n",
    "# Release the VideoWriter and close all OpenCV windows\n",
    "out.release()\n",
    "cv2.destroyAllWindows()\n",
    "\n",
    "print(f\"Video saved to {output_path}\")"
   ]
  },
  {
   "cell_type": "code",
   "execution_count": null,
   "id": "e1d81b51-bcd9-401b-b7cb-75d1afc8e55b",
   "metadata": {},
   "outputs": [],
   "source": []
  },
  {
   "cell_type": "code",
   "execution_count": null,
   "id": "8e7742f4-d1fd-4e8e-8e5d-28f8b989007d",
   "metadata": {},
   "outputs": [],
   "source": []
  },
  {
   "cell_type": "code",
   "execution_count": null,
   "id": "999ea0e3-bda3-4494-a2e6-4241a4f157bc",
   "metadata": {},
   "outputs": [],
   "source": []
  }
 ],
 "metadata": {
  "kernelspec": {
   "display_name": "Python 3 (ipykernel)",
   "language": "python",
   "name": "python3"
  },
  "language_info": {
   "codemirror_mode": {
    "name": "ipython",
    "version": 3
   },
   "file_extension": ".py",
   "mimetype": "text/x-python",
   "name": "python",
   "nbconvert_exporter": "python",
   "pygments_lexer": "ipython3",
   "version": "3.12.4"
  }
 },
 "nbformat": 4,
 "nbformat_minor": 5
}
