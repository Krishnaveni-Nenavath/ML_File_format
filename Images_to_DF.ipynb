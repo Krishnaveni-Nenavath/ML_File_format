{
 "cells": [
  {
   "cell_type": "markdown",
   "id": "437f20b1-e96f-4634-9982-dc9674a22d7e",
   "metadata": {},
   "source": [
    "# steps  imges to df by idetifying the relation\n",
    "- read \n",
    "- resize\n",
    "- flatten\n",
    "- merge\n"
   ]
  },
  {
   "cell_type": "code",
   "execution_count": 11,
   "id": "5f4ba269-be45-40fd-bb87-2b24ba73ebfc",
   "metadata": {},
   "outputs": [],
   "source": [
    "import os \n",
    "import cv2\n",
    "import numpy as np \n",
    "import pandas as  pd"
   ]
  },
  {
   "cell_type": "code",
   "execution_count": 13,
   "id": "930499a0-4fe6-4da4-8a12-86d7d7fd6b5d",
   "metadata": {},
   "outputs": [],
   "source": [
    " os.mkdir(r\"C:\\Users\\krish\\Documents\\flowerSpecies\")"
   ]
  },
  {
   "cell_type": "code",
   "execution_count": 21,
   "id": "215ae02d-b1dc-4355-b354-66a71fab200c",
   "metadata": {},
   "outputs": [],
   "source": [
    " os.mkdir(r\"C:\\Users\\krish\\Documents\\flowerSpecies\\ROSE_WHITE\")"
   ]
  },
  {
   "cell_type": "code",
   "execution_count": 17,
   "id": "6e246696-8303-401c-ac1e-0a2a0d8fd825",
   "metadata": {},
   "outputs": [],
   "source": [
    " os.mkdir(r\"C:\\Users\\krish\\Documents\\flowerSpecies\\SUNFLOWER\")"
   ]
  },
  {
   "cell_type": "code",
   "execution_count": 19,
   "id": "ab6815c2-88bc-44cf-ad0e-8c94637d6aa7",
   "metadata": {},
   "outputs": [],
   "source": [
    " os.mkdir(r\"C:\\Users\\krish\\Documents\\flowerSpecies\\LiLy\")"
   ]
  },
  {
   "cell_type": "code",
   "execution_count": 23,
   "id": "eabe8b0c-99e5-45e3-bfd7-1b927338f9c1",
   "metadata": {},
   "outputs": [],
   "source": [
    " os.mkdir(r\"C:\\Users\\krish\\Documents\\flowerSpecies\\ROSE_PINK\")"
   ]
  },
  {
   "cell_type": "code",
   "execution_count": 40,
   "id": "816ffb1c-58c1-4a7e-bcb8-737dab5b4915",
   "metadata": {},
   "outputs": [
    {
     "data": {
      "text/plain": [
       "['LiLy', 'ROSE_PINK', 'ROSE_WHITE', 'SUNFLOWER']"
      ]
     },
     "execution_count": 40,
     "metadata": {},
     "output_type": "execute_result"
    }
   ],
   "source": [
    "l = os.listdir(r\"C:\\Users\\krish\\Documents\\flowerSpecies\") \n",
    "l # spices"
   ]
  },
  {
   "cell_type": "code",
   "execution_count": 72,
   "id": "79f8297d-f2f8-4ffb-95b9-0bc5bf73a1cb",
   "metadata": {},
   "outputs": [],
   "source": [
    "features = [] \n",
    "class_labels = []\n",
    "for y in l:  #['LiLy', 'ROSE_PINK', 'ROSE_WHITE', 'SUNFLOWER']\n",
    "    for x in os.listdir(r\"C:\\Users\\krish\\Documents\\flowerSpecies\\{}\".format(y)) : \n",
    "        img=cv2.imread(r\"C:\\Users\\krish\\Documents\\flowerSpecies\\{}\\{}\".format(y,x),0)  # read in gray scale\n",
    "        img = cv2.resize(img,(60,60)) \n",
    "        img = img.flatten()  \n",
    "        features.append(img) \n",
    "        class_labels.append(y)\n",
    "        \n",
    "    "
   ]
  },
  {
   "cell_type": "code",
   "execution_count": 73,
   "id": "62d6579e-89af-4908-84d5-ded96310a01d",
   "metadata": {},
   "outputs": [
    {
     "data": {
      "text/plain": [
       "[array([66, 68, 66, ..., 59, 55, 54], dtype=uint8),\n",
       " array([72, 72, 71, ..., 33, 32, 31], dtype=uint8),\n",
       " array([73, 66, 63, ..., 53, 54, 50], dtype=uint8),\n",
       " array([174, 189, 183, ...,  50,  19,  18], dtype=uint8)]"
      ]
     },
     "execution_count": 73,
     "metadata": {},
     "output_type": "execute_result"
    }
   ],
   "source": [
    "features      "
   ]
  },
  {
   "cell_type": "code",
   "execution_count": 74,
   "id": "8aad3582-af1f-4c89-945a-f952f892be37",
   "metadata": {},
   "outputs": [
    {
     "data": {
      "text/plain": [
       "['LiLy', 'ROSE_PINK', 'ROSE_WHITE', 'SUNFLOWER']"
      ]
     },
     "execution_count": 74,
     "metadata": {},
     "output_type": "execute_result"
    }
   ],
   "source": [
    "class_labels"
   ]
  },
  {
   "cell_type": "code",
   "execution_count": 75,
   "id": "2e6efc52-0acd-4361-97fa-854958374656",
   "metadata": {},
   "outputs": [],
   "source": [
    "df = pd.DataFrame(features)"
   ]
  },
  {
   "cell_type": "code",
   "execution_count": 80,
   "id": "bae57f38-d132-4134-a8a1-93fb8dd0cde2",
   "metadata": {},
   "outputs": [],
   "source": [
    "df[\"label\"] = class_labels"
   ]
  },
  {
   "cell_type": "code",
   "execution_count": 82,
   "id": "1d8f0cbf-47a2-4276-b752-a755d145a731",
   "metadata": {},
   "outputs": [
    {
     "data": {
      "text/html": [
       "<div>\n",
       "<style scoped>\n",
       "    .dataframe tbody tr th:only-of-type {\n",
       "        vertical-align: middle;\n",
       "    }\n",
       "\n",
       "    .dataframe tbody tr th {\n",
       "        vertical-align: top;\n",
       "    }\n",
       "\n",
       "    .dataframe thead th {\n",
       "        text-align: right;\n",
       "    }\n",
       "</style>\n",
       "<table border=\"1\" class=\"dataframe\">\n",
       "  <thead>\n",
       "    <tr style=\"text-align: right;\">\n",
       "      <th></th>\n",
       "      <th>0</th>\n",
       "      <th>1</th>\n",
       "      <th>2</th>\n",
       "      <th>3</th>\n",
       "      <th>4</th>\n",
       "      <th>5</th>\n",
       "      <th>6</th>\n",
       "      <th>7</th>\n",
       "      <th>8</th>\n",
       "      <th>9</th>\n",
       "      <th>...</th>\n",
       "      <th>3591</th>\n",
       "      <th>3592</th>\n",
       "      <th>3593</th>\n",
       "      <th>3594</th>\n",
       "      <th>3595</th>\n",
       "      <th>3596</th>\n",
       "      <th>3597</th>\n",
       "      <th>3598</th>\n",
       "      <th>3599</th>\n",
       "      <th>label</th>\n",
       "    </tr>\n",
       "  </thead>\n",
       "  <tbody>\n",
       "    <tr>\n",
       "      <th>0</th>\n",
       "      <td>66</td>\n",
       "      <td>68</td>\n",
       "      <td>66</td>\n",
       "      <td>68</td>\n",
       "      <td>68</td>\n",
       "      <td>68</td>\n",
       "      <td>73</td>\n",
       "      <td>75</td>\n",
       "      <td>83</td>\n",
       "      <td>88</td>\n",
       "      <td>...</td>\n",
       "      <td>76</td>\n",
       "      <td>73</td>\n",
       "      <td>70</td>\n",
       "      <td>66</td>\n",
       "      <td>64</td>\n",
       "      <td>59</td>\n",
       "      <td>59</td>\n",
       "      <td>55</td>\n",
       "      <td>54</td>\n",
       "      <td>LiLy</td>\n",
       "    </tr>\n",
       "    <tr>\n",
       "      <th>1</th>\n",
       "      <td>72</td>\n",
       "      <td>72</td>\n",
       "      <td>71</td>\n",
       "      <td>65</td>\n",
       "      <td>69</td>\n",
       "      <td>73</td>\n",
       "      <td>75</td>\n",
       "      <td>70</td>\n",
       "      <td>69</td>\n",
       "      <td>63</td>\n",
       "      <td>...</td>\n",
       "      <td>54</td>\n",
       "      <td>57</td>\n",
       "      <td>56</td>\n",
       "      <td>47</td>\n",
       "      <td>43</td>\n",
       "      <td>35</td>\n",
       "      <td>33</td>\n",
       "      <td>32</td>\n",
       "      <td>31</td>\n",
       "      <td>ROSE_PINK</td>\n",
       "    </tr>\n",
       "    <tr>\n",
       "      <th>2</th>\n",
       "      <td>73</td>\n",
       "      <td>66</td>\n",
       "      <td>63</td>\n",
       "      <td>84</td>\n",
       "      <td>90</td>\n",
       "      <td>80</td>\n",
       "      <td>77</td>\n",
       "      <td>78</td>\n",
       "      <td>80</td>\n",
       "      <td>88</td>\n",
       "      <td>...</td>\n",
       "      <td>67</td>\n",
       "      <td>61</td>\n",
       "      <td>60</td>\n",
       "      <td>53</td>\n",
       "      <td>54</td>\n",
       "      <td>51</td>\n",
       "      <td>53</td>\n",
       "      <td>54</td>\n",
       "      <td>50</td>\n",
       "      <td>ROSE_WHITE</td>\n",
       "    </tr>\n",
       "    <tr>\n",
       "      <th>3</th>\n",
       "      <td>174</td>\n",
       "      <td>189</td>\n",
       "      <td>183</td>\n",
       "      <td>140</td>\n",
       "      <td>136</td>\n",
       "      <td>182</td>\n",
       "      <td>192</td>\n",
       "      <td>175</td>\n",
       "      <td>135</td>\n",
       "      <td>167</td>\n",
       "      <td>...</td>\n",
       "      <td>40</td>\n",
       "      <td>43</td>\n",
       "      <td>45</td>\n",
       "      <td>49</td>\n",
       "      <td>56</td>\n",
       "      <td>52</td>\n",
       "      <td>50</td>\n",
       "      <td>19</td>\n",
       "      <td>18</td>\n",
       "      <td>SUNFLOWER</td>\n",
       "    </tr>\n",
       "  </tbody>\n",
       "</table>\n",
       "<p>4 rows × 3601 columns</p>\n",
       "</div>"
      ],
      "text/plain": [
       "     0    1    2    3    4    5    6    7    8    9  ...  3591  3592  3593  \\\n",
       "0   66   68   66   68   68   68   73   75   83   88  ...    76    73    70   \n",
       "1   72   72   71   65   69   73   75   70   69   63  ...    54    57    56   \n",
       "2   73   66   63   84   90   80   77   78   80   88  ...    67    61    60   \n",
       "3  174  189  183  140  136  182  192  175  135  167  ...    40    43    45   \n",
       "\n",
       "   3594  3595  3596  3597  3598  3599       label  \n",
       "0    66    64    59    59    55    54        LiLy  \n",
       "1    47    43    35    33    32    31   ROSE_PINK  \n",
       "2    53    54    51    53    54    50  ROSE_WHITE  \n",
       "3    49    56    52    50    19    18   SUNFLOWER  \n",
       "\n",
       "[4 rows x 3601 columns]"
      ]
     },
     "execution_count": 82,
     "metadata": {},
     "output_type": "execute_result"
    }
   ],
   "source": [
    "df"
   ]
  },
  {
   "cell_type": "code",
   "execution_count": 86,
   "id": "e117cce7-09e1-4556-b6f2-389b162fcb7a",
   "metadata": {},
   "outputs": [],
   "source": [
    "features = [] \n",
    "class_labels = []\n",
    "for y in l:  #['LiLy', 'ROSE_PINK', 'ROSE_WHITE', 'SUNFLOWER']\n",
    "    for x in os.listdir(r\"C:\\Users\\krish\\Documents\\flowerSpecies\\{}\".format(y)) : \n",
    "        img=cv2.imread(r\"C:\\Users\\krish\\Documents\\flowerSpecies\\{}\\{}\".format(y,x),1)  # read in gray scale\n",
    "        img = cv2.resize(img,(60,60)) \n",
    "        img = img.flatten()  \n",
    "        features.append(img) \n",
    "        class_labels.append(y)\n",
    "        \n",
    "    "
   ]
  },
  {
   "cell_type": "code",
   "execution_count": 88,
   "id": "f492be4b-e7e9-4819-82cf-40f40ad5cc74",
   "metadata": {},
   "outputs": [],
   "source": [
    "df = pd.DataFrame(features)"
   ]
  },
  {
   "cell_type": "code",
   "execution_count": 90,
   "id": "f6a4a029-e08e-4714-acce-47ae68bdb93e",
   "metadata": {},
   "outputs": [],
   "source": [
    "df[\"label\"] = class_labels"
   ]
  },
  {
   "cell_type": "code",
   "execution_count": 92,
   "id": "cd0adfdf-3074-4483-881b-84b0223d8009",
   "metadata": {},
   "outputs": [
    {
     "data": {
      "text/html": [
       "<div>\n",
       "<style scoped>\n",
       "    .dataframe tbody tr th:only-of-type {\n",
       "        vertical-align: middle;\n",
       "    }\n",
       "\n",
       "    .dataframe tbody tr th {\n",
       "        vertical-align: top;\n",
       "    }\n",
       "\n",
       "    .dataframe thead th {\n",
       "        text-align: right;\n",
       "    }\n",
       "</style>\n",
       "<table border=\"1\" class=\"dataframe\">\n",
       "  <thead>\n",
       "    <tr style=\"text-align: right;\">\n",
       "      <th></th>\n",
       "      <th>0</th>\n",
       "      <th>1</th>\n",
       "      <th>2</th>\n",
       "      <th>3</th>\n",
       "      <th>4</th>\n",
       "      <th>5</th>\n",
       "      <th>6</th>\n",
       "      <th>7</th>\n",
       "      <th>8</th>\n",
       "      <th>9</th>\n",
       "      <th>...</th>\n",
       "      <th>10791</th>\n",
       "      <th>10792</th>\n",
       "      <th>10793</th>\n",
       "      <th>10794</th>\n",
       "      <th>10795</th>\n",
       "      <th>10796</th>\n",
       "      <th>10797</th>\n",
       "      <th>10798</th>\n",
       "      <th>10799</th>\n",
       "      <th>label</th>\n",
       "    </tr>\n",
       "  </thead>\n",
       "  <tbody>\n",
       "    <tr>\n",
       "      <th>0</th>\n",
       "      <td>114</td>\n",
       "      <td>70</td>\n",
       "      <td>41</td>\n",
       "      <td>116</td>\n",
       "      <td>72</td>\n",
       "      <td>43</td>\n",
       "      <td>110</td>\n",
       "      <td>70</td>\n",
       "      <td>41</td>\n",
       "      <td>116</td>\n",
       "      <td>...</td>\n",
       "      <td>100</td>\n",
       "      <td>63</td>\n",
       "      <td>37</td>\n",
       "      <td>95</td>\n",
       "      <td>58</td>\n",
       "      <td>34</td>\n",
       "      <td>93</td>\n",
       "      <td>57</td>\n",
       "      <td>33</td>\n",
       "      <td>LiLy</td>\n",
       "    </tr>\n",
       "    <tr>\n",
       "      <th>1</th>\n",
       "      <td>54</td>\n",
       "      <td>63</td>\n",
       "      <td>97</td>\n",
       "      <td>54</td>\n",
       "      <td>62</td>\n",
       "      <td>99</td>\n",
       "      <td>57</td>\n",
       "      <td>59</td>\n",
       "      <td>99</td>\n",
       "      <td>51</td>\n",
       "      <td>...</td>\n",
       "      <td>28</td>\n",
       "      <td>33</td>\n",
       "      <td>36</td>\n",
       "      <td>28</td>\n",
       "      <td>31</td>\n",
       "      <td>35</td>\n",
       "      <td>29</td>\n",
       "      <td>30</td>\n",
       "      <td>34</td>\n",
       "      <td>ROSE_PINK</td>\n",
       "    </tr>\n",
       "    <tr>\n",
       "      <th>2</th>\n",
       "      <td>66</td>\n",
       "      <td>74</td>\n",
       "      <td>74</td>\n",
       "      <td>61</td>\n",
       "      <td>66</td>\n",
       "      <td>67</td>\n",
       "      <td>58</td>\n",
       "      <td>65</td>\n",
       "      <td>62</td>\n",
       "      <td>79</td>\n",
       "      <td>...</td>\n",
       "      <td>48</td>\n",
       "      <td>55</td>\n",
       "      <td>52</td>\n",
       "      <td>49</td>\n",
       "      <td>55</td>\n",
       "      <td>54</td>\n",
       "      <td>45</td>\n",
       "      <td>52</td>\n",
       "      <td>49</td>\n",
       "      <td>ROSE_WHITE</td>\n",
       "    </tr>\n",
       "    <tr>\n",
       "      <th>3</th>\n",
       "      <td>188</td>\n",
       "      <td>176</td>\n",
       "      <td>164</td>\n",
       "      <td>200</td>\n",
       "      <td>191</td>\n",
       "      <td>182</td>\n",
       "      <td>197</td>\n",
       "      <td>185</td>\n",
       "      <td>173</td>\n",
       "      <td>151</td>\n",
       "      <td>...</td>\n",
       "      <td>31</td>\n",
       "      <td>47</td>\n",
       "      <td>64</td>\n",
       "      <td>15</td>\n",
       "      <td>20</td>\n",
       "      <td>19</td>\n",
       "      <td>14</td>\n",
       "      <td>19</td>\n",
       "      <td>18</td>\n",
       "      <td>SUNFLOWER</td>\n",
       "    </tr>\n",
       "  </tbody>\n",
       "</table>\n",
       "<p>4 rows × 10801 columns</p>\n",
       "</div>"
      ],
      "text/plain": [
       "     0    1    2    3    4    5    6    7    8    9  ...  10791  10792  10793  \\\n",
       "0  114   70   41  116   72   43  110   70   41  116  ...    100     63     37   \n",
       "1   54   63   97   54   62   99   57   59   99   51  ...     28     33     36   \n",
       "2   66   74   74   61   66   67   58   65   62   79  ...     48     55     52   \n",
       "3  188  176  164  200  191  182  197  185  173  151  ...     31     47     64   \n",
       "\n",
       "   10794  10795  10796  10797  10798  10799       label  \n",
       "0     95     58     34     93     57     33        LiLy  \n",
       "1     28     31     35     29     30     34   ROSE_PINK  \n",
       "2     49     55     54     45     52     49  ROSE_WHITE  \n",
       "3     15     20     19     14     19     18   SUNFLOWER  \n",
       "\n",
       "[4 rows x 10801 columns]"
      ]
     },
     "execution_count": 92,
     "metadata": {},
     "output_type": "execute_result"
    }
   ],
   "source": [
    "df"
   ]
  },
  {
   "cell_type": "code",
   "execution_count": 94,
   "id": "6385a1f6-54f4-45ba-95c5-c089c0612498",
   "metadata": {},
   "outputs": [
    {
     "name": "stdout",
     "output_type": "stream",
     "text": [
      "<class 'pandas.core.frame.DataFrame'>\n",
      "RangeIndex: 4 entries, 0 to 3\n",
      "Columns: 10801 entries, 0 to label\n",
      "dtypes: object(1), uint8(10800)\n",
      "memory usage: 42.3+ KB\n"
     ]
    }
   ],
   "source": [
    "df.info()"
   ]
  },
  {
   "cell_type": "code",
   "execution_count": null,
   "id": "8a42e885-9957-46b8-aef5-fffb1283e797",
   "metadata": {},
   "outputs": [],
   "source": []
  }
 ],
 "metadata": {
  "kernelspec": {
   "display_name": "Python 3 (ipykernel)",
   "language": "python",
   "name": "python3"
  },
  "language_info": {
   "codemirror_mode": {
    "name": "ipython",
    "version": 3
   },
   "file_extension": ".py",
   "mimetype": "text/x-python",
   "name": "python",
   "nbconvert_exporter": "python",
   "pygments_lexer": "ipython3",
   "version": "3.12.4"
  }
 },
 "nbformat": 4,
 "nbformat_minor": 5
}
