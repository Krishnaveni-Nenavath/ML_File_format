{
 "cells": [
  {
   "cell_type": "code",
   "execution_count": 1,
   "id": "66f20c92-0d5b-4909-ba03-95304da5556d",
   "metadata": {},
   "outputs": [],
   "source": [
    "import requests"
   ]
  },
  {
   "cell_type": "code",
   "execution_count": 5,
   "id": "99db4e73-3478-49a6-948f-82a65f715b8b",
   "metadata": {},
   "outputs": [
    {
     "name": "stdout",
     "output_type": "stream",
     "text": [
      "{'miniscore': {'batsmanStriker': {'id': 15475, 'balls': 6, 'runs': 10, 'fours': 2, 'strkRate': '166.67', 'name': 'Nisarg Patel', 'nickName': 'Nisarg Patel'}, 'batsmanNonStriker': {'id': 9748, 'balls': 6, 'runs': 5, 'strkRate': '83.33', 'name': 'Saurabh Netravalkar', 'nickName': 'Saurabh Netravalkar'}, 'bowlerStriker': {'id': 10451, 'overs': '4.0', 'runs': 24, 'economy': '6.0', 'name': 'Barry McCarthy'}, 'bowlerNonStriker': {'id': 10449, 'overs': '4.0', 'wickets': 1, 'runs': 25, 'economy': '6.25', 'name': 'Mark Adair'}, 'crr': 7.05, 'inningsNbr': '1st inn', 'lastWkt': 'Yasir Mohammad   c and b Curtis Campher 0(2)  - 123/7 in 17.6 ov.', 'curOvsStats': '... 1 0 2 2 1 Wd 4  | 0 Wd B1 4 0 0 1', 'inningsScores': {'inningsScore': [{'inningsId': 2, 'batTeamId': 15, 'batTeamShortName': 'USA', 'runs': 141, 'wickets': 7, 'overs': 19.6, 'target': 151, 'balls': 120}, {'inningsId': 1, 'batTeamId': 27, 'batTeamShortName': 'IRE', 'runs': 150, 'wickets': 10, 'overs': 18.5, 'target': 151, 'balls': 113}]}, 'inningsId': 2, 'udrs': {}, 'partnership': '18(12)', 'pp': {'powerPlay': [{'id': 28, 'ovrFrom': 0.1, 'ovrTo': 6.0, 'ppType': 'Mandatory', 'run': 34}]}, 'target': 151, 'batTeamScore': {'teamId': 15, 'teamScore': 141, 'teamWkts': 7}, 'custStatus': 'Ireland won by 9 runs', 'responseLastUpdated': '1732088117', 'event': 'NONE'}, 'matchHeaders': {'state': 'Complete', 'status': 'Ireland won by 9 runs', 'matchFormat': 'T20', 'matchStartTimestamp': '1640304000000', 'teamDetails': {'batTeamId': 15, 'batTeamName': 'USA', 'bowlTeamId': 27, 'bowlTeamName': 'IRE'}, 'momPlayers': {'player': [{'id': '11131', 'name': 'Lorcan Tucker', 'role': 'Batsman', 'faceImageId': '191070'}]}, 'mosPlayers': {'player': [{'id': '11131', 'name': 'Lorcan Tucker', 'role': 'WK-Batsman', 'faceImageId': '191070'}]}, 'winningTeamId': 27, 'matchEndTimeStamp': '1640316600000', 'seriesId': 3866, 'matchDesc': '2nd T20I', 'seriesName': 'Ireland tour of USA, 2021', 'tossResults': {}, 'team1': {'teamId': 15, 'teamName': 'United States', 'teamSName': 'USA'}, 'team2': {'teamId': 27, 'teamName': 'Ireland', 'teamSName': 'IRE'}}}\n"
     ]
    }
   ],
   "source": [
    "\n",
    "url = \"https://cricbuzz-cricket.p.rapidapi.com/mcenter/v1/40381/leanback\"\n",
    "\n",
    "headers = {\n",
    "\t\"x-rapidapi-key\": \"f07fa5fcc2msheae11b55feb1ebbp1f9db5jsn427d5863f248\",\n",
    "\t\"x-rapidapi-host\": \"cricbuzz-cricket.p.rapidapi.com\"\n",
    "}\n",
    "\n",
    "response = requests.get(url, headers=headers)\n",
    "\n",
    "print(response.json())"
   ]
  },
  {
   "cell_type": "code",
   "execution_count": 7,
   "id": "aecc33f0-299c-4fa4-858e-b02b3c9efecc",
   "metadata": {},
   "outputs": [],
   "source": [
    "response = requests.get(url,headers = headers)"
   ]
  },
  {
   "cell_type": "code",
   "execution_count": 11,
   "id": "8f8d4c9c-b86e-4947-aa45-9f9b867ad2b6",
   "metadata": {},
   "outputs": [
    {
     "data": {
      "text/plain": [
       "{'miniscore': {'batsmanStriker': {'id': 15475,\n",
       "   'balls': 6,\n",
       "   'runs': 10,\n",
       "   'fours': 2,\n",
       "   'strkRate': '166.67',\n",
       "   'name': 'Nisarg Patel',\n",
       "   'nickName': 'Nisarg Patel'},\n",
       "  'batsmanNonStriker': {'id': 9748,\n",
       "   'balls': 6,\n",
       "   'runs': 5,\n",
       "   'strkRate': '83.33',\n",
       "   'name': 'Saurabh Netravalkar',\n",
       "   'nickName': 'Saurabh Netravalkar'},\n",
       "  'bowlerStriker': {'id': 10451,\n",
       "   'overs': '4.0',\n",
       "   'runs': 24,\n",
       "   'economy': '6.0',\n",
       "   'name': 'Barry McCarthy'},\n",
       "  'bowlerNonStriker': {'id': 10449,\n",
       "   'overs': '4.0',\n",
       "   'wickets': 1,\n",
       "   'runs': 25,\n",
       "   'economy': '6.25',\n",
       "   'name': 'Mark Adair'},\n",
       "  'crr': 7.05,\n",
       "  'inningsNbr': '1st inn',\n",
       "  'lastWkt': 'Yasir Mohammad   c and b Curtis Campher 0(2)  - 123/7 in 17.6 ov.',\n",
       "  'curOvsStats': '... 1 0 2 2 1 Wd 4  | 0 Wd B1 4 0 0 1',\n",
       "  'inningsScores': {'inningsScore': [{'inningsId': 2,\n",
       "     'batTeamId': 15,\n",
       "     'batTeamShortName': 'USA',\n",
       "     'runs': 141,\n",
       "     'wickets': 7,\n",
       "     'overs': 19.6,\n",
       "     'target': 151,\n",
       "     'balls': 120},\n",
       "    {'inningsId': 1,\n",
       "     'batTeamId': 27,\n",
       "     'batTeamShortName': 'IRE',\n",
       "     'runs': 150,\n",
       "     'wickets': 10,\n",
       "     'overs': 18.5,\n",
       "     'target': 151,\n",
       "     'balls': 113}]},\n",
       "  'inningsId': 2,\n",
       "  'udrs': {},\n",
       "  'partnership': '18(12)',\n",
       "  'pp': {'powerPlay': [{'id': 28,\n",
       "     'ovrFrom': 0.1,\n",
       "     'ovrTo': 6.0,\n",
       "     'ppType': 'Mandatory',\n",
       "     'run': 34}]},\n",
       "  'target': 151,\n",
       "  'batTeamScore': {'teamId': 15, 'teamScore': 141, 'teamWkts': 7},\n",
       "  'custStatus': 'Ireland won by 9 runs',\n",
       "  'responseLastUpdated': '1732088117',\n",
       "  'event': 'NONE'},\n",
       " 'matchHeaders': {'state': 'Complete',\n",
       "  'status': 'Ireland won by 9 runs',\n",
       "  'matchFormat': 'T20',\n",
       "  'matchStartTimestamp': '1640304000000',\n",
       "  'teamDetails': {'batTeamId': 15,\n",
       "   'batTeamName': 'USA',\n",
       "   'bowlTeamId': 27,\n",
       "   'bowlTeamName': 'IRE'},\n",
       "  'momPlayers': {'player': [{'id': '11131',\n",
       "     'name': 'Lorcan Tucker',\n",
       "     'role': 'Batsman',\n",
       "     'faceImageId': '191070'}]},\n",
       "  'mosPlayers': {'player': [{'id': '11131',\n",
       "     'name': 'Lorcan Tucker',\n",
       "     'role': 'WK-Batsman',\n",
       "     'faceImageId': '191070'}]},\n",
       "  'winningTeamId': 27,\n",
       "  'matchEndTimeStamp': '1640316600000',\n",
       "  'seriesId': 3866,\n",
       "  'matchDesc': '2nd T20I',\n",
       "  'seriesName': 'Ireland tour of USA, 2021',\n",
       "  'tossResults': {},\n",
       "  'team1': {'teamId': 15, 'teamName': 'United States', 'teamSName': 'USA'},\n",
       "  'team2': {'teamId': 27, 'teamName': 'Ireland', 'teamSName': 'IRE'}}}"
      ]
     },
     "execution_count": 11,
     "metadata": {},
     "output_type": "execute_result"
    }
   ],
   "source": [
    "data = response.json() \n",
    "data"
   ]
  },
  {
   "cell_type": "code",
   "execution_count": 13,
   "id": "cf29b713-2622-4eff-a5be-e9e1ec647347",
   "metadata": {},
   "outputs": [],
   "source": [
    "import pandas as pd "
   ]
  },
  {
   "cell_type": "code",
   "execution_count": 23,
   "id": "d034297e-8bc5-4a38-b7be-0d8fdd59f06c",
   "metadata": {},
   "outputs": [
    {
     "data": {
      "text/html": [
       "<div>\n",
       "<style scoped>\n",
       "    .dataframe tbody tr th:only-of-type {\n",
       "        vertical-align: middle;\n",
       "    }\n",
       "\n",
       "    .dataframe tbody tr th {\n",
       "        vertical-align: top;\n",
       "    }\n",
       "\n",
       "    .dataframe thead th {\n",
       "        text-align: right;\n",
       "    }\n",
       "</style>\n",
       "<table border=\"1\" class=\"dataframe\">\n",
       "  <thead>\n",
       "    <tr style=\"text-align: right;\">\n",
       "      <th></th>\n",
       "      <th>miniscore.batsmanStriker.id</th>\n",
       "      <th>miniscore.batsmanStriker.balls</th>\n",
       "      <th>miniscore.batsmanStriker.runs</th>\n",
       "      <th>miniscore.batsmanStriker.fours</th>\n",
       "      <th>miniscore.batsmanStriker.strkRate</th>\n",
       "      <th>miniscore.batsmanStriker.name</th>\n",
       "      <th>miniscore.batsmanStriker.nickName</th>\n",
       "      <th>miniscore.batsmanNonStriker.id</th>\n",
       "      <th>miniscore.batsmanNonStriker.balls</th>\n",
       "      <th>miniscore.batsmanNonStriker.runs</th>\n",
       "      <th>...</th>\n",
       "      <th>matchHeaders.matchEndTimeStamp</th>\n",
       "      <th>matchHeaders.seriesId</th>\n",
       "      <th>matchHeaders.matchDesc</th>\n",
       "      <th>matchHeaders.seriesName</th>\n",
       "      <th>matchHeaders.team1.teamId</th>\n",
       "      <th>matchHeaders.team1.teamName</th>\n",
       "      <th>matchHeaders.team1.teamSName</th>\n",
       "      <th>matchHeaders.team2.teamId</th>\n",
       "      <th>matchHeaders.team2.teamName</th>\n",
       "      <th>matchHeaders.team2.teamSName</th>\n",
       "    </tr>\n",
       "  </thead>\n",
       "  <tbody>\n",
       "    <tr>\n",
       "      <th>0</th>\n",
       "      <td>15475</td>\n",
       "      <td>6</td>\n",
       "      <td>10</td>\n",
       "      <td>2</td>\n",
       "      <td>166.67</td>\n",
       "      <td>Nisarg Patel</td>\n",
       "      <td>Nisarg Patel</td>\n",
       "      <td>9748</td>\n",
       "      <td>6</td>\n",
       "      <td>5</td>\n",
       "      <td>...</td>\n",
       "      <td>1640316600000</td>\n",
       "      <td>3866</td>\n",
       "      <td>2nd T20I</td>\n",
       "      <td>Ireland tour of USA, 2021</td>\n",
       "      <td>15</td>\n",
       "      <td>United States</td>\n",
       "      <td>USA</td>\n",
       "      <td>27</td>\n",
       "      <td>Ireland</td>\n",
       "      <td>IRE</td>\n",
       "    </tr>\n",
       "  </tbody>\n",
       "</table>\n",
       "<p>1 rows × 60 columns</p>\n",
       "</div>"
      ],
      "text/plain": [
       "   miniscore.batsmanStriker.id  miniscore.batsmanStriker.balls  \\\n",
       "0                        15475                               6   \n",
       "\n",
       "   miniscore.batsmanStriker.runs  miniscore.batsmanStriker.fours  \\\n",
       "0                             10                               2   \n",
       "\n",
       "  miniscore.batsmanStriker.strkRate miniscore.batsmanStriker.name  \\\n",
       "0                            166.67                  Nisarg Patel   \n",
       "\n",
       "  miniscore.batsmanStriker.nickName  miniscore.batsmanNonStriker.id  \\\n",
       "0                      Nisarg Patel                            9748   \n",
       "\n",
       "   miniscore.batsmanNonStriker.balls  miniscore.batsmanNonStriker.runs  ...  \\\n",
       "0                                  6                                 5  ...   \n",
       "\n",
       "  matchHeaders.matchEndTimeStamp matchHeaders.seriesId matchHeaders.matchDesc  \\\n",
       "0                  1640316600000                  3866               2nd T20I   \n",
       "\n",
       "     matchHeaders.seriesName matchHeaders.team1.teamId  \\\n",
       "0  Ireland tour of USA, 2021                        15   \n",
       "\n",
       "   matchHeaders.team1.teamName matchHeaders.team1.teamSName  \\\n",
       "0                United States                          USA   \n",
       "\n",
       "  matchHeaders.team2.teamId  matchHeaders.team2.teamName  \\\n",
       "0                        27                      Ireland   \n",
       "\n",
       "  matchHeaders.team2.teamSName  \n",
       "0                          IRE  \n",
       "\n",
       "[1 rows x 60 columns]"
      ]
     },
     "execution_count": 23,
     "metadata": {},
     "output_type": "execute_result"
    }
   ],
   "source": [
    "pd.json_normalize(data,max_level=5)"
   ]
  },
  {
   "cell_type": "code",
   "execution_count": null,
   "id": "1f60b119-b7e8-4df0-97d2-2459d3f0b762",
   "metadata": {},
   "outputs": [],
   "source": []
  }
 ],
 "metadata": {
  "kernelspec": {
   "display_name": "Python 3 (ipykernel)",
   "language": "python",
   "name": "python3"
  },
  "language_info": {
   "codemirror_mode": {
    "name": "ipython",
    "version": 3
   },
   "file_extension": ".py",
   "mimetype": "text/x-python",
   "name": "python",
   "nbconvert_exporter": "python",
   "pygments_lexer": "ipython3",
   "version": "3.12.4"
  }
 },
 "nbformat": 4,
 "nbformat_minor": 5
}
